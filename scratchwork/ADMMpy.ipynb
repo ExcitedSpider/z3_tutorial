{
 "cells": [
  {
   "cell_type": "markdown",
   "metadata": {},
   "source": [
    "Alternating Directio Method of Multipliers\n",
    "Open dynamical systems\n",
    "\n",
    "namedtuple(\"state\", \"params\")\n",
    "def f(x,p):\n",
    "   \n",
    "\n",
    "def \n",
    "\n"
   ]
  },
  {
   "cell_type": "markdown",
   "metadata": {},
   "source": [
    "We need to give neighboring blocks hooks into parameters and the ability to run the solver.\n",
    "We can parallelize.\n",
    "\n",
    "\n",
    "There is a lagrange multiplier and a state variables on the pipe\n",
    "\n",
    "\n",
    "class Computation():\n",
    "    self.state = \n",
    "    self.forward(x,s) = return y, s'\n",
    "    self.backward(l,s) = return l, s'\n",
    "\n",
    "class ADMMCat(): \n",
    "    def __init__():\n",
    "    def idd():\n",
    "    def compose(f,g):\n",
    "       self.forward = lambda x, (sf,sg): y, s1f.forward() z, self.backward() return y, (sf1, sg1)\n",
    "       self.backward = lambda l, (sf,sg): \n",
    "    def par(f,g):\n",
    "        forward = (xf,xg) (sf,sg) :  paralell.exectue(   )   (yf,yg)\n",
    "    def \n",
    "       \n",
    "\n",
    "       \n",
    "\n",
    "def forward(p):\n",
    "\n",
    "def backward(l):\n",
    "\n",
    "\n",
    "   \n",
    "def update(p):\n",
    "\n"
   ]
  },
  {
   "cell_type": "code",
   "execution_count": null,
   "metadata": {},
   "outputs": [],
   "source": []
  }
 ],
 "metadata": {
  "kernelspec": {
   "display_name": "Python 3",
   "language": "python",
   "name": "python3"
  },
  "language_info": {
   "codemirror_mode": {
    "name": "ipython",
    "version": 3
   },
   "file_extension": ".py",
   "mimetype": "text/x-python",
   "name": "python",
   "nbconvert_exporter": "python",
   "pygments_lexer": "ipython3",
   "version": "3.7.5"
  }
 },
 "nbformat": 4,
 "nbformat_minor": 2
}
