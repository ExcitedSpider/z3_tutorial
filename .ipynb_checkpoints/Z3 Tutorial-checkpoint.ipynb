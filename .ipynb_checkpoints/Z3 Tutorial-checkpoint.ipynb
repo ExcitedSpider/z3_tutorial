{
 "cells": [
  {
   "cell_type": "markdown",
   "metadata": {},
   "source": [
    "# Z3\n",
    "\n",
    "Z3 is a Satisfiability Modulo Theory solver made by Microsoft Research.\n",
    "Z3 is a high performance theorem prover developed at Microsoft Research. Z3 is used in many applications such as: software/hardware verification and testing, constraint solving, analysis of hybrid systems, security, biology (in silico analysis), and geometrical problems.\n",
    "\n",
    "### What the heck does that mean?\n",
    "There are a number of different interesting things you can do with Z3. It has capabilities that overlap some with computer algebra systems like Mathematica, some capabilities that overlap with constraint satisfaction solvers, and a capability to manipulte and express first order logical statements. The sum total of these capabilities enables z3 to effectively find solutions to a wide variety of problems or effectively and automatically prove that such solutions do not exist.\n",
    "\n",
    "\n",
    "Z3 has official bindings for C, C++, Python, .NET, OCaml, Java and often bindings available in other languages as well. It also has a command line interface. The python bindings are full featured, and python is a familiar language to many, so that is our choice today.\n"
   ]
  },
  {
   "cell_type": "markdown",
   "metadata": {},
   "source": [
    "# Walking through a Z3 problem\n",
    "\n",
    "To get started, let's do some simple examples\n",
    "\n",
    "First of you need z3 installed. Z3 is available on pip. \n",
    "Oh, not _that_ z3. Amusingly, `pip install z3` actually installs a completely unrelated tool.\n",
    "The command you actually need is\n",
    "\n",
    "`pip install z3-solver`\n"
   ]
  },
  {
   "cell_type": "markdown",
   "metadata": {},
   "source": [
    "We define a simple problem by first importing the library, declaring our variables, and then stating a set of constraints we wish to hold."
   ]
  },
  {
   "cell_type": "code",
   "execution_count": 2,
   "metadata": {},
   "outputs": [
    {
     "name": "stdout",
     "output_type": "stream",
     "text": [
      "[y = 0, x = 7]\n"
     ]
    }
   ],
   "source": [
    "from z3 import *\n",
    "x = Int('x')\n",
    "y = Int('y')\n",
    "solve(x > 2, y < 10, x + 2*y == 7)"
   ]
  },
  {
   "cell_type": "markdown",
   "metadata": {},
   "source": [
    "### Useful Documentation\n",
    "\n",
    "Now that we have a simple example, let's look at where we can go to find out more\n",
    "\n",
    "- The API docs: https://z3prover.github.io/api/html/namespacez3py.html\n",
    "- https://rise4fun.com/z3/tutorial has an interactive tutorial in z3. It uses the smt-lib2 input language, not python\n",
    "- https://ericpony.github.io/z3py-tutorial/guide-examples.htm A tutorial for the python bindings upon which this tutorial is heavily based\n",
    "\n"
   ]
  },
  {
   "cell_type": "markdown",
   "metadata": {},
   "source": [
    "### General purpose python exploration tricks\n",
    "\n",
    "I find it extremely useful to explore libraries interatively in python. It is often faster and more honest than looking up the documenation."
   ]
  },
  {
   "cell_type": "code",
   "execution_count": 38,
   "metadata": {},
   "outputs": [
    {
     "name": "stdout",
     "output_type": "stream",
     "text": [
      "Help on RatNumRef in module z3.z3 object:\n",
      "\n",
      "class RatNumRef(ArithRef)\n",
      " |  RatNumRef(ast, ctx=None)\n",
      " |  \n",
      " |  Rational values.\n",
      " |  \n",
      " |  Method resolution order:\n",
      " |      RatNumRef\n",
      " |      ArithRef\n",
      " |      ExprRef\n",
      " |      AstRef\n",
      " |      Z3PPObject\n",
      " |      builtins.object\n",
      " |  \n",
      " |  Methods defined here:\n",
      " |  \n",
      " |  as_decimal(self, prec)\n",
      " |      Return a Z3 rational value as a string in decimal notation using at most `prec` decimal places.\n",
      " |      \n",
      " |      >>> v = RealVal(\"1/5\")\n",
      " |      >>> v.as_decimal(3)\n",
      " |      '0.2'\n",
      " |      >>> v = RealVal(\"1/3\")\n",
      " |      >>> v.as_decimal(3)\n",
      " |      '0.333?'\n",
      " |  \n",
      " |  as_fraction(self)\n",
      " |      Return a Z3 rational as a Python Fraction object.\n",
      " |      \n",
      " |      >>> v = RealVal(\"1/5\")\n",
      " |      >>> v.as_fraction()\n",
      " |      Fraction(1, 5)\n",
      " |  \n",
      " |  as_long(self)\n",
      " |  \n",
      " |  as_string(self)\n",
      " |      Return a Z3 rational numeral as a Python string.\n",
      " |      \n",
      " |      >>> v = Q(3,6)\n",
      " |      >>> v.as_string()\n",
      " |      '1/2'\n",
      " |  \n",
      " |  denominator(self)\n",
      " |      Return the denominator of a Z3 rational numeral.\n",
      " |      \n",
      " |      >>> is_rational_value(Q(3,5))\n",
      " |      True\n",
      " |      >>> n = Q(3,5)\n",
      " |      >>> n.denominator()\n",
      " |      5\n",
      " |  \n",
      " |  denominator_as_long(self)\n",
      " |      Return the denominator as a Python long.\n",
      " |      \n",
      " |      >>> v = RealVal(\"1/3\")\n",
      " |      >>> v\n",
      " |      1/3\n",
      " |      >>> v.denominator_as_long()\n",
      " |      3\n",
      " |  \n",
      " |  is_int(self)\n",
      " |      Return `True` if `self` is an integer expression.\n",
      " |      \n",
      " |      >>> x = Int('x')\n",
      " |      >>> x.is_int()\n",
      " |      True\n",
      " |      >>> (x + 1).is_int()\n",
      " |      True\n",
      " |      >>> y = Real('y')\n",
      " |      >>> (x + y).is_int()\n",
      " |      False\n",
      " |  \n",
      " |  is_int_value(self)\n",
      " |  \n",
      " |  is_real(self)\n",
      " |      Return `True` if `self` is an real expression.\n",
      " |      \n",
      " |      >>> x = Real('x')\n",
      " |      >>> x.is_real()\n",
      " |      True\n",
      " |      >>> (x + 1).is_real()\n",
      " |      True\n",
      " |  \n",
      " |  numerator(self)\n",
      " |      Return the numerator of a Z3 rational numeral.\n",
      " |      \n",
      " |      >>> is_rational_value(RealVal(\"3/5\"))\n",
      " |      True\n",
      " |      >>> n = RealVal(\"3/5\")\n",
      " |      >>> n.numerator()\n",
      " |      3\n",
      " |      >>> is_rational_value(Q(3,5))\n",
      " |      True\n",
      " |      >>> Q(3,5).numerator()\n",
      " |      3\n",
      " |  \n",
      " |  numerator_as_long(self)\n",
      " |      Return the numerator as a Python long.\n",
      " |      \n",
      " |      >>> v = RealVal(10000000000)\n",
      " |      >>> v\n",
      " |      10000000000\n",
      " |      >>> v + 1\n",
      " |      10000000000 + 1\n",
      " |      >>> v.numerator_as_long() + 1 == 10000000001\n",
      " |      True\n",
      " |  \n",
      " |  ----------------------------------------------------------------------\n",
      " |  Methods inherited from ArithRef:\n",
      " |  \n",
      " |  __add__(self, other)\n",
      " |      Create the Z3 expression `self + other`.\n",
      " |      \n",
      " |      >>> x = Int('x')\n",
      " |      >>> y = Int('y')\n",
      " |      >>> x + y\n",
      " |      x + y\n",
      " |      >>> (x + y).sort()\n",
      " |      Int\n",
      " |  \n",
      " |  __div__(self, other)\n",
      " |      Create the Z3 expression `other/self`.\n",
      " |      \n",
      " |      >>> x = Int('x')\n",
      " |      >>> y = Int('y')\n",
      " |      >>> x/y\n",
      " |      x/y\n",
      " |      >>> (x/y).sort()\n",
      " |      Int\n",
      " |      >>> (x/y).sexpr()\n",
      " |      '(div x y)'\n",
      " |      >>> x = Real('x')\n",
      " |      >>> y = Real('y')\n",
      " |      >>> x/y\n",
      " |      x/y\n",
      " |      >>> (x/y).sort()\n",
      " |      Real\n",
      " |      >>> (x/y).sexpr()\n",
      " |      '(/ x y)'\n",
      " |  \n",
      " |  __ge__(self, other)\n",
      " |      Create the Z3 expression `other >= self`.\n",
      " |      \n",
      " |      >>> x, y = Ints('x y')\n",
      " |      >>> x >= y\n",
      " |      x >= y\n",
      " |      >>> y = Real('y')\n",
      " |      >>> x >= y\n",
      " |      ToReal(x) >= y\n",
      " |  \n",
      " |  __gt__(self, other)\n",
      " |      Create the Z3 expression `other > self`.\n",
      " |      \n",
      " |      >>> x, y = Ints('x y')\n",
      " |      >>> x > y\n",
      " |      x > y\n",
      " |      >>> y = Real('y')\n",
      " |      >>> x > y\n",
      " |      ToReal(x) > y\n",
      " |  \n",
      " |  __le__(self, other)\n",
      " |      Create the Z3 expression `other <= self`.\n",
      " |      \n",
      " |      >>> x, y = Ints('x y')\n",
      " |      >>> x <= y\n",
      " |      x <= y\n",
      " |      >>> y = Real('y')\n",
      " |      >>> x <= y\n",
      " |      ToReal(x) <= y\n",
      " |  \n",
      " |  __lt__(self, other)\n",
      " |      Create the Z3 expression `other < self`.\n",
      " |      \n",
      " |      >>> x, y = Ints('x y')\n",
      " |      >>> x < y\n",
      " |      x < y\n",
      " |      >>> y = Real('y')\n",
      " |      >>> x < y\n",
      " |      ToReal(x) < y\n",
      " |  \n",
      " |  __mod__(self, other)\n",
      " |      Create the Z3 expression `other%self`.\n",
      " |      \n",
      " |      >>> x = Int('x')\n",
      " |      >>> y = Int('y')\n",
      " |      >>> x % y\n",
      " |      x%y\n",
      " |      >>> simplify(IntVal(10) % IntVal(3))\n",
      " |      1\n",
      " |  \n",
      " |  __mul__(self, other)\n",
      " |      Create the Z3 expression `self * other`.\n",
      " |      \n",
      " |      >>> x = Real('x')\n",
      " |      >>> y = Real('y')\n",
      " |      >>> x * y\n",
      " |      x*y\n",
      " |      >>> (x * y).sort()\n",
      " |      Real\n",
      " |  \n",
      " |  __neg__(self)\n",
      " |      Return an expression representing `-self`.\n",
      " |      \n",
      " |      >>> x = Int('x')\n",
      " |      >>> -x\n",
      " |      -x\n",
      " |      >>> simplify(-(-x))\n",
      " |      x\n",
      " |  \n",
      " |  __pos__(self)\n",
      " |      Return `self`.\n",
      " |      \n",
      " |      >>> x = Int('x')\n",
      " |      >>> +x\n",
      " |      x\n",
      " |  \n",
      " |  __pow__(self, other)\n",
      " |      Create the Z3 expression `self**other` (** is the power operator).\n",
      " |      \n",
      " |      >>> x = Real('x')\n",
      " |      >>> x**3\n",
      " |      x**3\n",
      " |      >>> (x**3).sort()\n",
      " |      Real\n",
      " |      >>> simplify(IntVal(2)**8)\n",
      " |      256\n",
      " |  \n",
      " |  __radd__(self, other)\n",
      " |      Create the Z3 expression `other + self`.\n",
      " |      \n",
      " |      >>> x = Int('x')\n",
      " |      >>> 10 + x\n",
      " |      10 + x\n",
      " |  \n",
      " |  __rdiv__(self, other)\n",
      " |      Create the Z3 expression `other/self`.\n",
      " |      \n",
      " |      >>> x = Int('x')\n",
      " |      >>> 10/x\n",
      " |      10/x\n",
      " |      >>> (10/x).sexpr()\n",
      " |      '(div 10 x)'\n",
      " |      >>> x = Real('x')\n",
      " |      >>> 10/x\n",
      " |      10/x\n",
      " |      >>> (10/x).sexpr()\n",
      " |      '(/ 10.0 x)'\n",
      " |  \n",
      " |  __rmod__(self, other)\n",
      " |      Create the Z3 expression `other%self`.\n",
      " |      \n",
      " |      >>> x = Int('x')\n",
      " |      >>> 10 % x\n",
      " |      10%x\n",
      " |  \n",
      " |  __rmul__(self, other)\n",
      " |      Create the Z3 expression `other * self`.\n",
      " |      \n",
      " |      >>> x = Real('x')\n",
      " |      >>> 10 * x\n",
      " |      10*x\n",
      " |  \n",
      " |  __rpow__(self, other)\n",
      " |      Create the Z3 expression `other**self` (** is the power operator).\n",
      " |      \n",
      " |      >>> x = Real('x')\n",
      " |      >>> 2**x\n",
      " |      2**x\n",
      " |      >>> (2**x).sort()\n",
      " |      Real\n",
      " |      >>> simplify(2**IntVal(8))\n",
      " |      256\n",
      " |  \n",
      " |  __rsub__(self, other)\n",
      " |      Create the Z3 expression `other - self`.\n",
      " |      \n",
      " |      >>> x = Int('x')\n",
      " |      >>> 10 - x\n",
      " |      10 - x\n",
      " |  \n",
      " |  __rtruediv__(self, other)\n",
      " |      Create the Z3 expression `other/self`.\n",
      " |  \n",
      " |  __sub__(self, other)\n",
      " |      Create the Z3 expression `self - other`.\n",
      " |      \n",
      " |      >>> x = Int('x')\n",
      " |      >>> y = Int('y')\n",
      " |      >>> x - y\n",
      " |      x - y\n",
      " |      >>> (x - y).sort()\n",
      " |      Int\n",
      " |  \n",
      " |  __truediv__(self, other)\n",
      " |      Create the Z3 expression `other/self`.\n",
      " |  \n",
      " |  sort(self)\n",
      " |      Return the sort (type) of the arithmetical expression `self`.\n",
      " |      \n",
      " |      >>> Int('x').sort()\n",
      " |      Int\n",
      " |      >>> (Real('x') + 1).sort()\n",
      " |      Real\n",
      " |  \n",
      " |  ----------------------------------------------------------------------\n",
      " |  Methods inherited from ExprRef:\n",
      " |  \n",
      " |  __eq__(self, other)\n",
      " |      Return a Z3 expression that represents the constraint `self == other`.\n",
      " |      \n",
      " |      If `other` is `None`, then this method simply returns `False`.\n",
      " |      \n",
      " |      >>> a = Int('a')\n",
      " |      >>> b = Int('b')\n",
      " |      >>> a == b\n",
      " |      a == b\n",
      " |      >>> a is None\n",
      " |      False\n",
      " |  \n",
      " |  __hash__(self)\n",
      " |      Hash code.\n",
      " |  \n",
      " |  __ne__(self, other)\n",
      " |      Return a Z3 expression that represents the constraint `self != other`.\n",
      " |      \n",
      " |      If `other` is `None`, then this method simply returns `True`.\n",
      " |      \n",
      " |      >>> a = Int('a')\n",
      " |      >>> b = Int('b')\n",
      " |      >>> a != b\n",
      " |      a != b\n",
      " |      >>> a is not None\n",
      " |      True\n",
      " |  \n",
      " |  arg(self, idx)\n",
      " |      Return argument `idx` of the application `self`.\n",
      " |      \n",
      " |      This method assumes that `self` is a function application with at least `idx+1` arguments.\n",
      " |      \n",
      " |      >>> a = Int('a')\n",
      " |      >>> b = Int('b')\n",
      " |      >>> f = Function('f', IntSort(), IntSort(), IntSort(), IntSort())\n",
      " |      >>> t = f(a, b, 0)\n",
      " |      >>> t.arg(0)\n",
      " |      a\n",
      " |      >>> t.arg(1)\n",
      " |      b\n",
      " |      >>> t.arg(2)\n",
      " |      0\n",
      " |  \n",
      " |  as_ast(self)\n",
      " |      Return a pointer to the corresponding C Z3_ast object.\n",
      " |  \n",
      " |  children(self)\n",
      " |      Return a list containing the children of the given expression\n",
      " |      \n",
      " |      >>> a = Int('a')\n",
      " |      >>> b = Int('b')\n",
      " |      >>> f = Function('f', IntSort(), IntSort(), IntSort(), IntSort())\n",
      " |      >>> t = f(a, b, 0)\n",
      " |      >>> t.children()\n",
      " |      [a, b, 0]\n",
      " |  \n",
      " |  decl(self)\n",
      " |      Return the Z3 function declaration associated with a Z3 application.\n",
      " |      \n",
      " |      >>> f = Function('f', IntSort(), IntSort())\n",
      " |      >>> a = Int('a')\n",
      " |      >>> t = f(a)\n",
      " |      >>> eq(t.decl(), f)\n",
      " |      True\n",
      " |      >>> (a + 1).decl()\n",
      " |      +\n",
      " |  \n",
      " |  get_id(self)\n",
      " |      Return unique identifier for object. It can be used for hash-tables and maps.\n",
      " |  \n",
      " |  num_args(self)\n",
      " |      Return the number of arguments of a Z3 application.\n",
      " |      \n",
      " |      >>> a = Int('a')\n",
      " |      >>> b = Int('b')\n",
      " |      >>> (a + b).num_args()\n",
      " |      2\n",
      " |      >>> f = Function('f', IntSort(), IntSort(), IntSort(), IntSort())\n",
      " |      >>> t = f(a, b, 0)\n",
      " |      >>> t.num_args()\n",
      " |      3\n",
      " |  \n",
      " |  params(self)\n",
      " |  \n",
      " |  sort_kind(self)\n",
      " |      Shorthand for `self.sort().kind()`.\n",
      " |      \n",
      " |      >>> a = Array('a', IntSort(), IntSort())\n",
      " |      >>> a.sort_kind() == Z3_ARRAY_SORT\n",
      " |      True\n",
      " |      >>> a.sort_kind() == Z3_INT_SORT\n",
      " |      False\n",
      " |  \n",
      " |  ----------------------------------------------------------------------\n",
      " |  Methods inherited from AstRef:\n",
      " |  \n",
      " |  __bool__(self)\n",
      " |  \n",
      " |  __copy__(self)\n",
      " |  \n",
      " |  __deepcopy__(self, memo={})\n",
      " |  \n",
      " |  __del__(self)\n",
      " |  \n",
      " |  __init__(self, ast, ctx=None)\n",
      " |      Initialize self.  See help(type(self)) for accurate signature.\n",
      " |  \n",
      " |  __nonzero__(self)\n",
      " |  \n",
      " |  __repr__(self)\n",
      " |      Return repr(self).\n",
      " |  \n",
      " |  __str__(self)\n",
      " |      Return str(self).\n",
      " |  \n",
      " |  ctx_ref(self)\n",
      " |      Return a reference to the C context where this AST node is stored.\n",
      " |  \n",
      " |  eq(self, other)\n",
      " |      Return `True` if `self` and `other` are structurally identical.\n",
      " |      \n",
      " |      >>> x = Int('x')\n",
      " |      >>> n1 = x + 1\n",
      " |      >>> n2 = 1 + x\n",
      " |      >>> n1.eq(n2)\n",
      " |      False\n",
      " |      >>> n1 = simplify(n1)\n",
      " |      >>> n2 = simplify(n2)\n",
      " |      >>> n1.eq(n2)\n",
      " |      True\n",
      " |  \n",
      " |  hash(self)\n",
      " |      Return a hashcode for the `self`.\n",
      " |      \n",
      " |      >>> n1 = simplify(Int('x') + 1)\n",
      " |      >>> n2 = simplify(2 + Int('x') - 1)\n",
      " |      >>> n1.hash() == n2.hash()\n",
      " |      True\n",
      " |  \n",
      " |  sexpr(self)\n",
      " |      Return a string representing the AST node in s-expression notation.\n",
      " |      \n",
      " |      >>> x = Int('x')\n",
      " |      >>> ((x + 1)*x).sexpr()\n",
      " |      '(* (+ x 1) x)'\n",
      " |  \n",
      " |  translate(self, target)\n",
      " |      Translate `self` to the context `target`. That is, return a copy of `self` in the context `target`.\n",
      " |      \n",
      " |      >>> c1 = Context()\n",
      " |      >>> c2 = Context()\n",
      " |      >>> x  = Int('x', c1)\n",
      " |      >>> y  = Int('y', c2)\n",
      " |      >>> # Nodes in different contexts can't be mixed.\n",
      " |      >>> # However, we can translate nodes from one context to another.\n",
      " |      >>> x.translate(c2) + y\n",
      " |      x + y\n",
      " |  \n",
      " |  ----------------------------------------------------------------------\n",
      " |  Methods inherited from Z3PPObject:\n",
      " |  \n",
      " |  use_pp(self)\n",
      " |  \n",
      " |  ----------------------------------------------------------------------\n",
      " |  Data descriptors inherited from Z3PPObject:\n",
      " |  \n",
      " |  __dict__\n",
      " |      dictionary for instance variables (if defined)\n",
      " |  \n",
      " |  __weakref__\n",
      " |      list of weak references to the object (if defined)\n",
      "\n"
     ]
    },
    {
     "data": {
      "text/plain": [
       "['__add__',\n",
       " '__bool__',\n",
       " '__class__',\n",
       " '__copy__',\n",
       " '__deepcopy__',\n",
       " '__del__',\n",
       " '__delattr__',\n",
       " '__dict__',\n",
       " '__dir__',\n",
       " '__div__',\n",
       " '__doc__',\n",
       " '__eq__',\n",
       " '__format__',\n",
       " '__ge__',\n",
       " '__getattribute__',\n",
       " '__gt__',\n",
       " '__hash__',\n",
       " '__init__',\n",
       " '__init_subclass__',\n",
       " '__le__',\n",
       " '__lt__',\n",
       " '__mod__',\n",
       " '__module__',\n",
       " '__mul__',\n",
       " '__ne__',\n",
       " '__neg__',\n",
       " '__new__',\n",
       " '__nonzero__',\n",
       " '__pos__',\n",
       " '__pow__',\n",
       " '__radd__',\n",
       " '__rdiv__',\n",
       " '__reduce__',\n",
       " '__reduce_ex__',\n",
       " '__repr__',\n",
       " '__rmod__',\n",
       " '__rmul__',\n",
       " '__rpow__',\n",
       " '__rsub__',\n",
       " '__rtruediv__',\n",
       " '__setattr__',\n",
       " '__sizeof__',\n",
       " '__str__',\n",
       " '__sub__',\n",
       " '__subclasshook__',\n",
       " '__truediv__',\n",
       " '__weakref__',\n",
       " '_repr_html_',\n",
       " 'arg',\n",
       " 'as_ast',\n",
       " 'as_decimal',\n",
       " 'as_fraction',\n",
       " 'as_long',\n",
       " 'as_string',\n",
       " 'ast',\n",
       " 'children',\n",
       " 'ctx',\n",
       " 'ctx_ref',\n",
       " 'decl',\n",
       " 'denominator',\n",
       " 'denominator_as_long',\n",
       " 'eq',\n",
       " 'get_id',\n",
       " 'hash',\n",
       " 'is_int',\n",
       " 'is_int_value',\n",
       " 'is_real',\n",
       " 'num_args',\n",
       " 'numerator',\n",
       " 'numerator_as_long',\n",
       " 'params',\n",
       " 'sexpr',\n",
       " 'sort',\n",
       " 'sort_kind',\n",
       " 'translate',\n",
       " 'use_pp']"
      ]
     },
     "execution_count": 38,
     "metadata": {},
     "output_type": "execute_result"
    }
   ],
   "source": [
    "p = Real(\"p\") # Define the z3 expression of Real constant value 3.\n",
    "type(p) # What is the type of this thing\n",
    "help(p) # What is the documentation. z3 has quite lovely documentation actually.\n",
    "dir(p) # Does this thing have any suspicious looking functions?"
   ]
  },
  {
   "cell_type": "markdown",
   "metadata": {},
   "source": [
    "Now that we've shown some of the basics, you're ready to try something simple on your own\n",
    "\n",
    "### Exercise 1\n",
    "Get a root of the polynomial `x**3 + 3*x**2 + 4*x + 2 == 0` using z3. Can you use z3 to show there is no other real solution?"
   ]
  },
  {
   "cell_type": "code",
   "execution_count": 8,
   "metadata": {},
   "outputs": [
    {
     "name": "stdout",
     "output_type": "stream",
     "text": [
      "no solution\n"
     ]
    }
   ],
   "source": [
    "#my_solution: leave blank\n",
    "x = Real(\"x\")\n",
    "solve(x**3 + 3*x**2 + 4*x + 2 == 0, x != -1)"
   ]
  },
  {
   "cell_type": "code",
   "execution_count": 8,
   "metadata": {},
   "outputs": [
    {
     "data": {
      "image/png": "[encoded data removed]",
      "text/plain": [
       "<Figure size 432x288 with 1 Axes>"
      ]
     },
     "metadata": {
      "needs_background": "light"
     },
     "output_type": "display_data"
    }
   ],
   "source": [
    "# Let's take a look\n",
    "import numpy as np\n",
    "import matplotlib.pyplot as plt\n",
    "xs = np.linspace(-3,3,200)\n",
    "plt.plot(xs,xs**3 + 3*xs**2 + 4*xs + 2)\n",
    "plt.show()"
   ]
  },
  {
   "cell_type": "markdown",
   "metadata": {},
   "source": [
    "## Z3 Variables\n",
    "\n",
    "You can create z3 variables of different sorts."
   ]
  },
  {
   "cell_type": "code",
   "execution_count": 9,
   "metadata": {},
   "outputs": [],
   "source": [
    "x = Bool(\"x\")\n",
    "x = Const(\"x\" , BoolSort())\n",
    "p, q, r = Bools(\"p q r\") # convenience function for multiple definitions\n",
    "x = Real(\"x\")\n",
    "y = Int(\"x\") \n",
    "q = BitVec(\"n\", 32) # 32 bit bitvector\n",
    "f = FP(\"f\", Float64()) #Floating point values\n",
    "a = Array(\"a\", IntSort(), BoolSort()) # arrays\n",
    "f = Function(\"f\", IntSort(), BoolSort(), BoolSort()) # functions"
   ]
  },
  {
   "cell_type": "markdown",
   "metadata": {},
   "source": [
    "You can also create algebraic data types and uninterpretted sorts."
   ]
  },
  {
   "cell_type": "markdown",
   "metadata": {},
   "source": [
    "It can be useful to generate variables with fresh names, especially when building problems programmatically. Z3 has built in functionality for this."
   ]
  },
  {
   "cell_type": "code",
   "execution_count": 29,
   "metadata": {},
   "outputs": [
    {
     "name": "stdout",
     "output_type": "stream",
     "text": [
      "x!6\n",
      "b!7\n",
      "f!8\n"
     ]
    }
   ],
   "source": [
    "print(FreshReal(prefix=\"x\"))\n",
    "print(FreshBool(prefix=\"b\"))\n",
    "print(FreshConst(IntSort() , prefix=\"f\"))"
   ]
  },
  {
   "cell_type": "markdown",
   "metadata": {},
   "source": [
    "### Z3 constants\n",
    "\n",
    "Often values are cast for you automatically, but sometimes they aren't. You can explicitly cast the value of constants"
   ]
  },
  {
   "cell_type": "code",
   "execution_count": 9,
   "metadata": {},
   "outputs": [
    {
     "name": "stdout",
     "output_type": "stream",
     "text": [
      "True\n",
      "5/2\n",
      "7\n",
      "1/3\n"
     ]
    }
   ],
   "source": [
    "print(BoolVal(True))\n",
    "print(RealVal(2.5))\n",
    "print(IntVal(7))\n",
    "print(Q(1,3))"
   ]
  },
  {
   "cell_type": "markdown",
   "metadata": {},
   "source": [
    "# Using Z3 To Find Stuff"
   ]
  },
  {
   "cell_type": "markdown",
   "metadata": {},
   "source": [
    "## Send More Money\n",
    "There is an assignment of letters to digits such that the equation `send + more = money`. Find an assignment of the digits to make this true."
   ]
  },
  {
   "cell_type": "code",
   "execution_count": 190,
   "metadata": {},
   "outputs": [
    {
     "data": {
      "text/html": [
       "[s = 9, d = 7, n = 6, m = 1, e = 5, o = 0, r = 8, y = 2]"
      ],
      "text/plain": [
       "[s = 9, d = 7, n = 6, m = 1, e = 5, o = 0, r = 8, y = 2]"
      ]
     },
     "execution_count": 190,
     "metadata": {},
     "output_type": "execute_result"
    }
   ],
   "source": [
    "digits = Ints('s e n d m o r y')\n",
    "s,e,n,d,m,o,r,y = digits\n",
    "send = Sum([10**(3-i) * d for i,d in enumerate([s,e,n,d])])\n",
    "more = Sum([10**(3-i) * d for i,d in enumerate([m,o,r,e])])\n",
    "money = Sum([10**(4-i) * d for i,d in enumerate([m,o,n,e,y])])\n",
    "solver = Solver()\n",
    "solver.add( [And(0 <= d, d <= 9) for d in digits]  )\n",
    "solver.add([s > 0, m > 0])\n",
    "solver.add( [ d1 != d2 for d1 in digits for d2 in digits if not eq(d1,d2)]  )\n",
    "solver.add(send + more == money)\n",
    "solver.check()\n",
    "solver.model()"
   ]
  },
  {
   "cell_type": "markdown",
   "metadata": {},
   "source": [
    "## 8 Queens\n",
    "\n",
    "The eight queens puzzle is the problem of placing eight chess queens on an 8x8 chessboard so that no two queens attack each other. Thus, a solution requires that no two queens share the same row, column, or diagonal."
   ]
  },
  {
   "cell_type": "code",
   "execution_count": 41,
   "metadata": {},
   "outputs": [
    {
     "name": "stdout",
     "output_type": "stream",
     "text": [
      "[Q_5 = 1,\n",
      " Q_8 = 2,\n",
      " Q_3 = 5,\n",
      " Q_2 = 7,\n",
      " Q_6 = 6,\n",
      " Q_4 = 3,\n",
      " Q_7 = 8,\n",
      " Q_1 = 4]\n"
     ]
    }
   ],
   "source": [
    "# We know each queen must be in a different row.\n",
    "# So, we represent each queen by a single integer: the column position\n",
    "Q = [ Int('Q_%i' % (i + 1)) for i in range(8) ]\n",
    "\n",
    "# Each queen is in a column {1, ... 8 }\n",
    "val_c = [ And(1 <= Q[i], Q[i] <= 8) for i in range(8) ]\n",
    "\n",
    "# At most one queen per column\n",
    "col_c = [ Distinct(Q) ]\n",
    "\n",
    "# Diagonal constraint\n",
    "diag_c = [ If(i == j,\n",
    "              True,\n",
    "              And(Q[i] - Q[j] != i - j, Q[i] - Q[j] != j - i))\n",
    "           for i in range(8) for j in range(i) ]\n",
    "\n",
    "solve(val_c + col_c + diag_c)"
   ]
  },
  {
   "cell_type": "markdown",
   "metadata": {},
   "source": [
    "# Robot Arm Inverse Kinematics\n",
    "\n",
    "One thing we can do is solve for the positions required to put a robotic hand in position.\n",
    "Robot Arm Example here?\n",
    "\n",
    "You can solve the inverse kinematics of a robot arm by describing the link positions using polynomial constraints. You can also enter inequality constraints (like don't enter the floor) with varying amounts of success.\n",
    "\n",
    "\n",
    "Issues: \n",
    " - slow\n",
    " - scales poorly\n",
    "Positive:\n",
    " - easy\n",
    " - global\n"
   ]
  },
  {
   "cell_type": "code",
   "execution_count": 120,
   "metadata": {},
   "outputs": [
    {
     "data": {
      "text/html": [
       "[x_(0, 0) = -0.8660254037?,\n",
       " x_(0, 1) = 1/2,\n",
       " x_(1, 0) = -0.8660254037?,\n",
       " x_(1, 1) = 1/2,\n",
       " x_(2, 1) = 1,\n",
       " x_(2, 0) = 0]"
      ],
      "text/plain": [
       "[x_(0, 0) = -0.8660254037?,\n",
       " x_(0, 1) = 1/2,\n",
       " x_(1, 0) = -0.8660254037?,\n",
       " x_(1, 1) = 1/2,\n",
       " x_(2, 1) = 1,\n",
       " x_(2, 0) = 0]"
      ]
     },
     "execution_count": 120,
     "metadata": {},
     "output_type": "execute_result"
    }
   ],
   "source": [
    "# Or make in loop?\n",
    "x1,y1,x2,y2,x3,y3= Reals(\"x1 y1 x2 y2 x3 y3\")\n",
    "pos = np.array([  [ Real(f\"x_{(i,j)}\")  for j in range(2)] for i in range(3)])\n",
    "s = Solver()\n",
    "\n",
    "#r1 = np.array([x1,y1])\n",
    "#r2 = np.array([x2,y2])\n",
    "#r3 = np.array([x,y1])\n",
    "s.add( np.sum(pos[0]**2) == 1 )\n",
    "s.add( np.sum(pos[1]**2) == 1 )\n",
    "s.add( np.sum((pos[2]- pos[0])**2) == 1 )\n",
    "s.add( np.sum((pos[2]- pos[1])**2) == 1 )\n",
    "s.add( pos[2][0] == 0 )\n",
    "s.add( pos[2][1] == 1 )\n",
    "s.check()\n",
    "s.model()\n",
    "# draw it"
   ]
  },
  {
   "cell_type": "markdown",
   "metadata": {},
   "source": [
    "## Solving a set of linear equations\n",
    "\n",
    "z3 offers yet another way to solve a system of linear equations."
   ]
  },
  {
   "cell_type": "code",
   "execution_count": 53,
   "metadata": {},
   "outputs": [
    {
     "data": {
      "text/html": [
       "[y = 1/2, x = 3/2]"
      ],
      "text/plain": [
       "[y = 1/2, x = 3/2]"
      ]
     },
     "execution_count": 53,
     "metadata": {},
     "output_type": "execute_result"
    }
   ],
   "source": [
    "x = Real(\"x\")\n",
    "y = Real(\"y\")\n",
    "s = Solver()\n",
    "s.add(4*x + 4*y == 8)\n",
    "s.add(2*x - 2*y == 2)\n",
    "s.check()\n",
    "s.model()"
   ]
  },
  {
   "cell_type": "markdown",
   "metadata": {},
   "source": [
    "\n",
    "## Discrete Tomography\n",
    "\n",
    "Suppose I have some blob on a grid that I can fire an xray through. The xray gets absorbed in proportion to the amount of material it has to pass through. We can model this as an integral $a(p_0,u)=e^{- \\int f(p_0 + t\\vec{u})dt}$ on a line through the material, where $f$ is the absorption at that point in the paitent.\n",
    "We can build a discrete model of this situation. Consider an image consisting only of binary values. We can then examine the sums of the variables in lines going across the image. The problem then is to reconstruct the image given.\n",
    "\n",
    "In general this is not possible. The number of images is very large ($ 2^{H*W}$) but we only have $W^H * H^W$ measurements. Hence the solutions are not unique. We can enumerate the solutions perhaps if there is only a small number of them, or put in prior knowledge in the form of a regularization objective or constraint.\n",
    "\n",
    "The problem is a less constrained version of the puzzle Picross/Nonograms.\n",
    "\n",
    "This example is in Donald Knuth's new book on Satisfiability.\n",
    "\n"
   ]
  },
  {
   "cell_type": "code",
   "execution_count": 102,
   "metadata": {},
   "outputs": [
    {
     "data": {
      "text/plain": [
       "Text(0.5, 1.0, 'Original Image')"
      ]
     },
     "execution_count": 102,
     "metadata": {},
     "output_type": "execute_result"
    },
    {
     "data": {
      "image/png": "[encoded data removed]",
      "text/plain": [
       "<Figure size 432x288 with 1 Axes>"
      ]
     },
     "metadata": {
      "needs_background": "light"
     },
     "output_type": "display_data"
    }
   ],
   "source": [
    "bin_img = np.array([\n",
    "[0,0,0,0,0,0,0],\n",
    "[0,0,1,0,1,0,0],\n",
    "[0,0,1,0,1,0,0],\n",
    "[0,0,0,0,0,0,0],\n",
    "[0,1,0,0,0,1,0],\n",
    "[0,0,1,1,1,0,0],\n",
    "[0,0,0,0,0,0,0]])\n",
    "bin_img = np.hstack([bin_img,bin_img.T])\n",
    "bin_img = np.vstack([bin_img,bin_img])\n",
    "plt.imshow(bin_img)\n",
    "plt.title(\"Original Image\")\n"
   ]
  },
  {
   "cell_type": "code",
   "execution_count": 101,
   "metadata": {},
   "outputs": [
    {
     "data": {
      "image/png": "[encoded data removed]",
      "text/plain": [
       "<Figure size 432x288 with 1 Axes>"
      ]
     },
     "metadata": {
      "needs_background": "light"
     },
     "output_type": "display_data"
    }
   ],
   "source": [
    "rows, cols = bin_img.shape\n",
    "bvars = [[ If(Bool(f\"x_({row},{col})\"), IntVal(1),IntVal(0)) for col in range(cols)] for row in range(rows)]\n",
    "\n",
    "s = SolverFor(\"QF_FD\")\n",
    "s.add([Sum(bvars[row]) == IntVal(int(np.sum(bin_img[row,:]))) for row in range(rows)])\n",
    "s.add([Sum([bvars[row][col] for row in range(rows)]  ) == IntVal(int(np.sum(bin_img[:,col]))) for col in range(cols)])\n",
    "\n",
    "for diag in range(rows+cols): # I really need to think about this    \n",
    "    s.add(Sum([ bvars[row][col] for row in range(rows) for col in range(cols) if col + row == diag]) == IntVal(int(sum([ bin_img[row,col] for row in range(rows) for col in range(cols) if col + row == diag]))))\n",
    "    s.add(Sum([ bvars[row][col] for row in range(rows) for col in range(cols) if col - row == diag - rows +1]) == IntVal(int(sum([ bin_img[row,col] for row in range(rows) for col in range(cols) if col - row == diag - rows + 1]))))\n",
    "    #s.add(PbLe( [(spots[row][col],1) for row in range(N) for col in range(N) if row - col == diag - N + 1]  , 1))\n",
    "for i in range(50):  \n",
    "    res = s.check()\n",
    "    if res == sat:\n",
    "        m = s.model()\n",
    "        sol = [[m.eval(s).as_long() for s in row] for row in bvars]\n",
    "        plt.figure()\n",
    "        plt.imshow(sol)\n",
    "        plt.title(\"Reconstructed Image\")\n",
    "        s.add(Not(And([  And([v == m.eval(v) for v in row]) for row in bvars])))\n",
    "    else:\n",
    "        pass\n",
    "        #print(\"No more models\")"
   ]
  },
  {
   "cell_type": "markdown",
   "metadata": {},
   "source": [
    "## Path Finding Example\n",
    "Unroll path in time.\n"
   ]
  },
  {
   "cell_type": "markdown",
   "metadata": {},
   "source": [
    "# Proof = There Are No CounterExamples\n",
    "\n",
    "So far we've been using z3 to find solutions to a set of constraints/formulas. Z3 is so effective at this process that it can be exhaustive and know when there are no solutions to be found. This is useful for theorem proving. If we state a theorem like `Implies(And(p,q),p)` that must be true for any value of `p` and `q`, we can prove its truth by exhaustively search for a counterexample and failng to find one. A counterexample is an assignment of the variables for which the theorem evaluates to false, or for which the negation `Not(th)` evaluates to true.\n"
   ]
  },
  {
   "cell_type": "code",
   "execution_count": 55,
   "metadata": {},
   "outputs": [
    {
     "name": "stdout",
     "output_type": "stream",
     "text": [
      "QED. No Counter example\n"
     ]
    }
   ],
   "source": [
    "def prove2(f): # a simple version of the z3py function \"prove\"\n",
    "    s = Solver()\n",
    "    s.add(Not(f))\n",
    "    if s.check() == unsat:\n",
    "        print \"proved\"\n",
    "    else:\n",
    "        print \"failed to prove\"       "
   ]
  },
  {
   "cell_type": "markdown",
   "metadata": {},
   "source": [
    "# Propositional Logic / Boolean Logic\n",
    "\n",
    "Propositional formula are logical formula with boolean variables and logical connectives like and ($\\land$) , or ($\\lor$),  negation ( $ \\neg $ ), and implication $\\implies$.\n"
   ]
  },
  {
   "cell_type": "code",
   "execution_count": 42,
   "metadata": {},
   "outputs": [
    {
     "name": "stdout",
     "output_type": "stream",
     "text": [
      "And(p, q)\n",
      "Or(p, q)\n",
      "Xor(p, q)\n",
      "Not(p)\n",
      "Implies(p, q)\n",
      "p == q\n"
     ]
    }
   ],
   "source": [
    "# Basic boolean operations\n",
    "p, q = Bools('p q')\n",
    "print(And(p,q))\n",
    "print(Or(p,q))\n",
    "print(Xor(p,q))\n",
    "print(Not(p))\n",
    "print(Implies(p,q))\n",
    "print(p == q)\n"
   ]
  },
  {
   "cell_type": "code",
   "execution_count": 56,
   "metadata": {},
   "outputs": [
    {
     "name": "stdout",
     "output_type": "stream",
     "text": [
      "QED. No Counter example\n"
     ]
    }
   ],
   "source": [
    "p = Bool(\"p\")\n",
    "q = Bool(\"q\")\n",
    "prove(Implies(And(p,q), p))"
   ]
  },
  {
   "cell_type": "code",
   "execution_count": 57,
   "metadata": {},
   "outputs": [
    {
     "name": "stdout",
     "output_type": "stream",
     "text": [
      "Counter example found:\n",
      "[p = False, q = True]\n"
     ]
    }
   ],
   "source": [
    "prove(Implies(Or(p,q), p))"
   ]
  },
  {
   "cell_type": "markdown",
   "metadata": {},
   "source": [
    "### Exercise\n",
    "Prove De Morgan's Law `p & q == ~ (~p | ~q)`\n"
   ]
  },
  {
   "cell_type": "code",
   "execution_count": null,
   "metadata": {},
   "outputs": [],
   "source": [
    "prove( And(p,q) == Not(Or(Not(p),Not(q)))) #De Morgan's Law"
   ]
  },
  {
   "cell_type": "markdown",
   "metadata": {},
   "source": [
    "\n",
    "\n",
    "\n"
   ]
  },
  {
   "cell_type": "markdown",
   "metadata": {},
   "source": [
    "## Proving properties of arithmetic\n",
    "\n"
   ]
  },
  {
   "cell_type": "markdown",
   "metadata": {},
   "source": [
    "### Exercise\n",
    "Prove or find counterexamples that over the mathemtical integers, 32 bit floats, and 32 bit integers \n",
    "- `x + y == y + x`\n",
    "- `(x + y) + z == x + (y + z)\n",
    "- `x` is either less than, equal to, or greater than 0\n",
    "- `x**2` is always non negative"
   ]
  },
  {
   "cell_type": "code",
   "execution_count": 60,
   "metadata": {},
   "outputs": [
    {
     "name": "stdout",
     "output_type": "stream",
     "text": [
      "QED. No Counter example\n"
     ]
    }
   ],
   "source": [
    "x = Real(\"x\")\n",
    "y = Real(\"y\")\n",
    "z = Real(\"z\")\n",
    "prove(x + y == y + x) #Commutativity\n",
    "prove(((x + y) + z) == ((x + (y + z)))) #associativity\n",
    "prove(x + 0 == x) # 0 additive identity\n",
    "prove(1 * x == x)\n",
    "prove(Or(x > 0, x < 0, x == 0))\n",
    "prove(x * (y + z) == x * y + x * z)\n",
    "prove(x ** 2 >= 0)\n",
    "x = FP(\"x\", Float32())\n",
    "y = FP(\"y\", Float32())\n",
    "prove(x + y == y + x)\n",
    "\n",
    "x = FP(\"x\", Float64())\n",
    "y = FP(\"y\", Float64())\n",
    "z = FP(\"z\", Float64())\n",
    "prove((x + y) + z == x + (y + z))\n",
    "\n",
    "x = BitVec(\"x\", 64)\n",
    "y = BitVec(\"y\", 64)\n",
    "z = BitVec(\"z\", 64)\n",
    "prove((x + y) + z == x + (y + z))"
   ]
  },
  {
   "cell_type": "markdown",
   "metadata": {},
   "source": [
    "\n",
    "            \n",
    "    \n"
   ]
  },
  {
   "cell_type": "markdown",
   "metadata": {},
   "source": [
    "## Geometric Theorem Proving\n",
    "\n",
    "You can convert geometric theorems into systems of polynomial equations.\n",
    "\n",
    "Consider the following. You have a circle with a diameter. Pick an arbitrary point on the circle and connect it to the points on the diameter. Is this angle a perpendicular angle?\n",
    "\n",
    "A point can be constrained to a circle by `x**2 + y**2 == R**2`. Perpendicularity can be described as the dot product of the vectors going along the two lines is 0. \n",
    "\n",
    "![my_circle](circle_diagram.png)"
   ]
  },
  {
   "cell_type": "code",
   "execution_count": 40,
   "metadata": {},
   "outputs": [
    {
     "name": "stdout",
     "output_type": "stream",
     "text": [
      "proved\n"
     ]
    }
   ],
   "source": [
    "x, y = Reals(\"x y\") # point on circle\n",
    "# assume wlog horizontal diameter y = 0. Hits circle at x = 1, x = -1\n",
    "d1 = (x - 1, y) # vector along line 1\n",
    "d2 = (x + 1, y) # vector along line 2\n",
    "perp = d1[0]*d2[0]+d1[1]*d2[1] == 0 #perpendicularity constraint\n",
    "prove(Implies(x**2 + y**2 == 1, perp))"
   ]
  },
  {
   "cell_type": "markdown",
   "metadata": {},
   "source": [
    "## Bit Tricks\n",
    "\n",
    "Some low level hacks are very popular with C programmers. We use some of these hacks in the Z3 implementation.\n",
    "http://graphics.stanford.edu/~seander/bithacks.html\n",
    "\n",
    "### Power of two\n",
    "This hack is frequently used in C programs (Z3 included) to test whether a machine integer is a power of two. We can use Z3 to prove it really works. The claim is that x != 0 && !(x & (x - 1)) is true if and only if x is a power of two.\n"
   ]
  },
  {
   "cell_type": "code",
   "execution_count": 11,
   "metadata": {},
   "outputs": [
    {
     "name": "stdout",
     "output_type": "stream",
     "text": [
      "And(x != 0, x & x - 1 == 0)\n",
      "proved\n",
      "trying to prove buggy version...\n",
      "counterexample\n",
      "[x = 0]\n"
     ]
    }
   ],
   "source": [
    "x      = BitVec('x', 32)\n",
    "powers = [ 2**i for i in range(32) ]\n",
    "fast   = And(x != 0, x & (x - 1) == 0)\n",
    "slow   = Or([ x == p for p in powers ])\n",
    "print(fast)\n",
    "prove(fast == slow)\n",
    "\n",
    "print(\"trying to prove buggy version...\")\n",
    "fast   = x & (x - 1) == 0\n",
    "prove(fast == slow)"
   ]
  },
  {
   "cell_type": "markdown",
   "metadata": {},
   "source": [
    "### Opposite signs\n",
    "The following simple hack can be used to test whether two machine integers have opposite signs."
   ]
  },
  {
   "cell_type": "code",
   "execution_count": 12,
   "metadata": {},
   "outputs": [
    {
     "name": "stdout",
     "output_type": "stream",
     "text": [
      "proved\n"
     ]
    }
   ],
   "source": [
    "x      = BitVec('x', 32)\n",
    "y      = BitVec('y', 32)\n",
    "\n",
    "# Claim: (x ^ y) < 0 iff x and y have opposite signs\n",
    "trick  = (x ^ y) < 0\n",
    "\n",
    "# Naive way to check if x and y have opposite signs\n",
    "opposite = Or(And(x < 0, y >= 0),\n",
    "              And(x >= 0, y < 0))\n",
    "\n",
    "prove(trick == opposite)"
   ]
  },
  {
   "cell_type": "markdown",
   "metadata": {},
   "source": [
    "## Vector Properties"
   ]
  },
  {
   "cell_type": "code",
   "execution_count": null,
   "metadata": {},
   "outputs": [],
   "source": [
    "import numpy as np\n",
    "q = np.array([x,y])\n",
    "def NPArray(n, prefix=None, dtype=RealSort()):\n",
    "    return np.array( [FreshConst(dtype, prefix=prefix) for i in range(n)] )\n",
    "c = NPArray(2)    \n",
    "np.dot(q, q)\n",
    "np.array([x]) * q # need to wrap x if is lhs\n",
    "q * x\n",
    "np.RealVal = np.vectorize(RealVal)\n",
    "z = np.RealVal( np.arange(10) )\n",
    "z == z\n",
    "prove(np.dot(q, c)**2 <= np.dot(q,q) * np.dot(c,c)) #cauchy schwartz\n",
    "\n",
    "import operator as op\n",
    "def Z(x):\n",
    "    print(x)\n",
    "    z = np.RealVal( np.arange(4).reshape(2,2) )\n",
    "    return z @ x\n",
    "def vec_eq(x,y):\n",
    "    return And(np.vectorize(op.eq)(x,y).tolist())\n",
    "def linear(Z):\n",
    "    x = NPArray(2)\n",
    "    y = NPArray(2)\n",
    "    print(x)\n",
    "    return vec_eq(Z(x + y), Z(x) + Z(y))\n",
    "\n",
    "prove(vadd(v,w) == vadd(w,v)) #commutativty\n",
    "prove(vadd(r,vadd(v,w)) == vadd(vadd(r,w),v)) # associativity\n",
    "prove( smul(x, vadd(v,w)) == vadd(smul(x,w),  smul(x,v)))\n",
    "\n",
    "p = linear(Z)\n",
    "print(p)\n",
    "prove(p)\n",
    "#dir(z)"
   ]
  },
  {
   "cell_type": "markdown",
   "metadata": {},
   "source": [
    "## Verifying the Babylonian Square Root Method\n",
    "\n",
    "The babylonian method for computing square root\n",
    "\n",
    "If you're current guess is low for the suqare root x/guess is high.\n",
    "If your guess is high, x/guess is low.\n",
    "So if you take the average of the two, you're closer to the real answer.\n",
    "We can also see that if you are precisely at the square root, (x/res + x)/2 is a fixed point.\n",
    "You can take any equality, rearrange it, and turn it iterative. Solutions to the original equation are fixed points of this iteration.\n",
    "It is a priori unclear whether \n",
    "a) will the iteration actually converge to the fixed point?\n",
    "b) Which fixed point will it pick\n",
    "\n",
    "The trick here is that I can express exact solutions of polynomials (algebraic numbers)\n",
    "Exact fractions of pi are also algebraic\n",
    "sin(alegebraic) = algerbaic? Maybe\n",
    "\n",
    "Microcontroller with fixed time budget.\n",
    "Actually, he should probably use a lookup table\n"
   ]
  },
  {
   "cell_type": "code",
   "execution_count": null,
   "metadata": {},
   "outputs": [],
   "source": [
    "def babylonian(x):\n",
    "    res = 1\n",
    "    for i in range(7):\n",
    "        res = (x / res + res) / 2\n",
    "    return res    \n",
    "\n",
    "def bab_iter(x, y): #curry?\n",
    "    return (x / y + y) / 2\n",
    "# prove bab_iter is constractive.\n",
    "\n",
    "x, y = Reals(\"x y\")\n",
    "prove(Implies(And(y**2 == x, y >= 0, 0 <= x, x <= 10), babylonian(x) - y <= 0.01))\n",
    "np.sqrt(0) - babylonian(0)\n",
    "import matplotlib.pyplot as plt\n",
    "xs = np.linspace(0,10)\n",
    "plt.plot( xs, babylonian(xs)- np.sqrt(xs))\n",
    "\n",
    "plt.show()\n",
    "# This is also pretty convincing"
   ]
  },
  {
   "cell_type": "markdown",
   "metadata": {},
   "source": [
    "## Sorting Networks\n",
    "\n",
    "Sorting networks are a circuit flavored take on sorting. Although you can build circuits for any size input, any paritcular circuit works for a fixed sized input. They are like an unrolling of the loops or recursion of regular style sorting algorithms.\n",
    "https://en.wikipedia.org/wiki/Sorting_network\n",
    "\n",
    "Here's an interesting thing. We can go to Wikipedia and get a little python snippet for the comparison order of a Batcher even-odd mergesort. https://en.wikipedia.org/wiki/Batcher_odd%E2%80%93even_mergesort Kind of a confusing algorithm. Why does it even work? Is it even right?\n",
    "\n",
    "![batcher](batcher.png)"
   ]
  },
  {
   "cell_type": "code",
   "execution_count": 14,
   "metadata": {},
   "outputs": [
    {
     "data": {
      "text/plain": [
       "[(0, 1),\n",
       " (2, 3),\n",
       " (0, 2),\n",
       " (1, 3),\n",
       " (1, 2),\n",
       " (4, 5),\n",
       " (6, 7),\n",
       " (4, 6),\n",
       " (5, 7),\n",
       " (5, 6),\n",
       " (0, 4),\n",
       " (2, 6),\n",
       " (2, 4),\n",
       " (1, 5),\n",
       " (3, 7),\n",
       " (3, 5),\n",
       " (1, 2),\n",
       " (3, 4),\n",
       " (5, 6)]"
      ]
     },
     "execution_count": 14,
     "metadata": {},
     "output_type": "execute_result"
    }
   ],
   "source": [
    "# from https://en.wikipedia.org/wiki/Batcher_odd%E2%80%93even_mergesort\n",
    "def oddeven_merge(lo: int, hi: int, r: int):\n",
    "    step = r * 2\n",
    "    if step < hi - lo:\n",
    "        yield from oddeven_merge(lo, hi, step)\n",
    "        yield from oddeven_merge(lo + r, hi, step)\n",
    "        yield from [(i, i + r) for i in range(lo + r, hi - r, step)]\n",
    "    else:\n",
    "        yield (lo, lo + r)\n",
    "\n",
    "def oddeven_merge_sort_range(lo: int, hi: int):\n",
    "    \"\"\" sort the part of x with indices between lo and hi.\n",
    "\n",
    "    Note: endpoints (lo and hi) are included.\n",
    "    \"\"\"\n",
    "    if (hi - lo) >= 1:\n",
    "        # if there is more than one element, split the input\n",
    "        # down the middle and first sort the first and second\n",
    "        # half, followed by merging them.\n",
    "        mid = lo + ((hi - lo) // 2)\n",
    "        yield from oddeven_merge_sort_range(lo, mid)\n",
    "        yield from oddeven_merge_sort_range(mid + 1, hi)\n",
    "        yield from oddeven_merge(lo, hi, 1)\n",
    "\n",
    "def oddeven_merge_sort(length: int):\n",
    "    \"\"\" \"length\" is the length of the list to be sorted.\n",
    "    Returns a list of pairs of indices starting with 0 \"\"\"\n",
    "    yield from oddeven_merge_sort_range(0, length - 1)\n",
    "\n",
    "def compare_and_swap(x, a, b) -> None:\n",
    "    if x[a] > x[b]:\n",
    "        x[a], x[b] = x[b], x[a]\n",
    "        \n",
    "list(oddeven_merge_sort(8)) # compare and swap sequence for 8 items"
   ]
  },
  {
   "cell_type": "markdown",
   "metadata": {},
   "source": [
    "Well we can confirm this relatively straightforwardly using z3 by replacing the implementation of compare_and_swap with it's z3 equivalent."
   ]
  },
  {
   "cell_type": "code",
   "execution_count": 19,
   "metadata": {},
   "outputs": [],
   "source": [
    "def compare_and_swap_z3(x,y):\n",
    "    x1, y1 = FreshInt(), FreshInt()\n",
    "    c = If(x <= y, And(x1 == x, y1 == y) , And(x1 == y, y1 == x) )\n",
    "    return x1, y1, c"
   ]
  },
  {
   "cell_type": "markdown",
   "metadata": {},
   "source": [
    "It's somewhat interesting to note that the output of odd_even_merge is a sequence of instructions, we can think of this as intepreting a very small 1 instruction (compare_and_swap) programming language."
   ]
  },
  {
   "cell_type": "code",
   "execution_count": 24,
   "metadata": {},
   "outputs": [
    {
     "name": "stdout",
     "output_type": "stream",
     "text": [
      "not proved\n"
     ]
    }
   ],
   "source": [
    "N = 32 # size of sorting network\n",
    "\n",
    "s = Solver()\n",
    "\n",
    "a = [Int(f\"x_{i}\") for i in range(N)] #build initial array in z3 variables\n",
    "pairs_to_compare = list(oddeven_merge_sort(N)) #get sequence of compare and swaps to use\n",
    "\n",
    "a_orig = a.copy() # keep around copy for correctness predicate\n",
    "for i,j in pairs_to_compare:\n",
    "   x = a[i]\n",
    "   y = a[j]\n",
    "   x1, y1, c = compare_and_swap_z3(x,y) \n",
    "   a[i] = x1\n",
    "   a[j] = y1\n",
    "   s.add(c)\n",
    "    \n",
    "# predicates of interest\n",
    "def sorted_list(x): # list is sorted\n",
    "    return And([x <= y for x,y in zip(x , x[1:])])\n",
    "\n",
    "def in_list(x,a): # x is in the list of a\n",
    "    return Or([x == y for y in a])\n",
    "def sub_list(a, b): # all elements of a appear in b\n",
    "    return And([in_list(x,a) for x in b ])\n",
    "def same_elems(a,b): # a contains the same elements as b\n",
    "    return And(sub_list(a,b), sub_list(b,a))\n",
    "\n",
    "s.add(Not(And(sorted_list(a), same_elems(a_orig,a))))\n",
    "if s.check() == unsat:\n",
    "    print(\"proved\")\n",
    "else:\n",
    "    print(\"not proved\")"
   ]
  },
  {
   "cell_type": "markdown",
   "metadata": {},
   "source": [
    "## Verifying a neural network\n",
    "\n",
    "Neural networks are all the rage these days. One way of looking at neural networks is that they are a parametrized class of functions . What makes them useful is: \n",
    "\n",
    "1. They can be used at insane scale due to their simplicity and execellent available implementations  and tooling\n",
    "2. There are intutive ways to input absrtact structure and symmettry expected of a problem, for example translation symmettry, or a hierarchy of small scale pattern recognition combining into large scale struturecs\n",
    "3. Inspirational analogies can be drawn from nature.\n",
    "\n",
    "Neural networks made out of just relus (rectified linear units, relu(x) = max(0,x) ) and linear layers are particularly amenable to formal analysis. Regarding the weights as fixed, a neural network is a piecewise linear function and piecewise linear functions are among the functions most amenable to rigoruous anaysis.\n",
    "\n",
    "Most machine learning tasks don't have a mathematically precise specification. What is the mathematically precise definition of a picture of a horse? We could try to come up with something, but in my opinion it would be rather suspect.\n",
    "\n",
    "Tasks that DO have a spec are questionable areas for machine learning techniques, because how can you know that the network meets the spec. Also, one would suspect such a problem would have structure that you might be better off with a less general purpose approach. \n",
    "\n",
    "However, there a a couple areas where one does have reasonable formal questions one might want to ask about a neural network:\n",
    "- Robustness around training examples and valdiation examples is possible though. Adversarial learning\n",
    "- Games like Alpha Go. But alpha go is a marriage of more traditional algorithmic approaches and machine learning\n",
    "- Control Systems - There are many control systems which we do have a reasonable formal spec one could write such as walking robots. These systems are so high dimensional that it is difficult to derive a good controller from the spec, and hence reinforcement learning may be a reasonable option\n",
    "- Neural networks as computational accelerators. There are problems which we know how to solve, but are very slow. It may be useful to presolve a large number of examples offline and train a neural network to give good estimates. Neural networks can be evaluated very quickly and easily thanks to modern frameworks.\n",
    "  \n",
    "\n",
    "This example is a complete toy. How often do you see 1-D input space neural networks? Not often I bet.\n",
    "But it's nice for a couple reasons:\n",
    "1. Because we can visualize it. \n",
    "2. It drives home the point about neural nets being a space of piecewise linear function approximators, and how similar training is to curve fitting.\n",
    "3. It's simple enough that z3 can crush it. There is a big question if z3 or other methods can scale to realistic neural nets. Modern top of the line neural nets are insanely huge. As we've done it here, I highly doubt it. There are special purpose SMT solvers being built for this task. Also the slightly different techonology of mixed integer programming can be used and seems very promising.  So this is an area of research\n",
    "\n",
    "\n",
    "The combination of the capabilities of sympy and z3 give us access to some very intriguing possibilities. We're not going to investigate this in detail, but we are showing how you can convert a sympy derived polynomial into a python expression using `lambdify`, which can then be in turn used on z3 variables.\n",
    "Here we're picking a chebyshev polynomial as our base truth because chebyshev polynomials have some pleasant waviness to them"
   ]
  },
  {
   "cell_type": "code",
   "execution_count": 34,
   "metadata": {},
   "outputs": [
    {
     "data": {
      "image/png": "[encoded data removed]",
      "text/plain": [
       "<Figure size 432x288 with 1 Axes>"
      ]
     },
     "metadata": {
      "needs_background": "light"
     },
     "output_type": "display_data"
    }
   ],
   "source": [
    "import sympy as sy\n",
    "import matplotlib.pyplot as plt\n",
    "import numpy as np\n",
    "x = sy.symbols('x')\n",
    "cheb = sy.lambdify(x, sy.chebyshevt(4,x))\n",
    "xs = np.linspace(-1,1,1000)\n",
    "ys = cheb(xs)\n",
    "plt.plot(xs, ys)\n",
    "plt.show()"
   ]
  },
  {
   "cell_type": "code",
   "execution_count": 7,
   "metadata": {},
   "outputs": [
    {
     "data": {
      "image/png": "[encoded data removed]",
      "text/plain": [
       "<Figure size 432x288 with 1 Axes>"
      ]
     },
     "metadata": {
      "needs_background": "light"
     },
     "output_type": "display_data"
    }
   ],
   "source": [
    "plt.plot(xs, np.maximum(0,xs))\n",
    "plt.title(\"relu\")\n",
    "plt.show()"
   ]
  },
  {
   "cell_type": "code",
   "execution_count": 38,
   "metadata": {},
   "outputs": [
    {
     "data": {
      "image/png": "[encoded data removed]",
      "text/plain": [
       "<Figure size 432x288 with 1 Axes>"
      ]
     },
     "metadata": {
      "needs_background": "light"
     },
     "output_type": "display_data"
    }
   ],
   "source": [
    "import tensorflow as tf\n",
    "from tensorflow import keras\n",
    "\n",
    "# Helper libraries\n",
    "import numpy as np\n",
    "import matplotlib.pyplot as plt\n",
    "\n",
    "model = keras.Sequential([\n",
    "    keras.layers.Dense(20, activation='relu', input_shape=[1]),\n",
    "    keras.layers.Dense(25, activation='relu'),\n",
    "    keras.layers.Dense(1)\n",
    "])\n",
    "\n",
    "optimizer = tf.keras.optimizers.Adam()\n",
    "\n",
    "model.compile(loss='mse',\n",
    "              optimizer=optimizer,\n",
    "              metrics=['mae', 'mse'])\n",
    "\n",
    "model.fit(xs, ys, epochs=100, verbose=0)\n",
    "plt.plot(xs,model.predict(xs))\n",
    "plt.show()"
   ]
  },
  {
   "cell_type": "code",
   "execution_count": 66,
   "metadata": {},
   "outputs": [
    {
     "name": "stdout",
     "output_type": "stream",
     "text": [
      "unsat\n"
     ]
    }
   ],
   "source": [
    "from z3 import *\n",
    "\n",
    "w1, b1, w2, b2, w3, b3 = model.get_weights() # unpack weights from model\n",
    "\n",
    "def Relu(x):\n",
    "    return np.vectorize(lambda y: If(y >= 0 , y, RealVal(0)))(x)\n",
    "def Abs(x):\n",
    "    return If(x <= 0, -x, x)\n",
    "def net(x):\n",
    "    x1 = w1.T @ x + b1\n",
    "    y1 = Relu(x1)\n",
    "    x2 = w2.T @ y1 + b2\n",
    "    y2 = Relu(x2)\n",
    "    x3 = w3.T @ y2 + b3\n",
    "    return x3\n",
    "\n",
    "x = np.array([Real('x')])\n",
    "y_true = cheb(x)\n",
    "y_pred = net(x)\n",
    "s = Solver()\n",
    "s.add(-1 <= x[0], x[0] <= 1)\n",
    "s.add(Abs( y_pred[0] - y_true[0] ) >= 0.5)\n",
    "#prove(Implies( And(-1 <= x[0], x[0] <= 1),  Abs( y_pred[0] - y_true[0] ) >= 0.2))\n",
    "res = s.check()\n",
    "print(res)\n",
    "if res == sat:\n",
    "    m = s.model()\n",
    "    print(\"Bad x value:\", m[x[0]])\n",
    "    x_bad = m[x[0]].numerator_as_long() / m[x[0]].denominator_as_long() \n",
    "    print(\"Error of prediction: \", abs(model.predict(np.array([x_bad])) - cheb(x_bad)))"
   ]
  },
  {
   "cell_type": "markdown",
   "metadata": {},
   "source": [
    "Another thing we can do is trim the neural network. There are certain neurons that can never fire."
   ]
  },
  {
   "cell_type": "markdown",
   "metadata": {},
   "source": [
    "## Controller Safety"
   ]
  },
  {
   "cell_type": "code",
   "execution_count": 156,
   "metadata": {},
   "outputs": [
    {
     "name": "stdout",
     "output_type": "stream",
     "text": [
      "proved\n"
     ]
    }
   ],
   "source": [
    "T = 10\n",
    "dt = 0.1\n",
    "alpha = 3\n",
    "xs = [Real(f\"x_{t}\") for t in range(T)]\n",
    "vs = [Real(f\"v_{t}\") for t in range(T)]\n",
    "dyn = BoolVal(True)\n",
    "for t in range(T-1):\n",
    "    dyn = And(dyn, xs[t+1] == (1-alpha*dt)*xs[t])\n",
    "init = And(xs[0] <= 1, -1 <= xs[0])\n",
    "final = And(xs[-1] <= 0.1, -0.1 <= xs[-1])\n",
    "prove(Implies(And(dyn, init), final))"
   ]
  },
  {
   "cell_type": "markdown",
   "metadata": {},
   "source": [
    "## Bounded Model Checking\n",
    "Z3 is a declarative and not imperative language in the sense that the input language to z3 does not really have an intrinsic notion of mutation or control flow. If you make two sequential feeling assignments\n",
    "\n",
    "\n",
    "x = Int(\"x\")\n",
    "s = Solver()\n",
    "s.add(x == 3)\n",
    "s.add(x == 4)\n",
    "s.check()\n",
    "\n",
    "We do not get `x = 4` as we might in python. We get a contradiction instead, because cannot be both 3 and 4. However, z3 has a very rich language and emulate imperative systems with a numer of techniques.\n",
    "One of these techniques is bounded model checking. We can make our variables labelled by discrete time and specify the dyanmics of our system by a transition relation connecting the variables of one time step to another. We can roll out a finite number of these steps and ask z3 to find us execution paths of interest."
   ]
  },
  {
   "cell_type": "markdown",
   "metadata": {},
   "source": [
    "## A Rough Sketch of How Z3 works\n",
    "\n",
    "It is often very useful to have at least a simplistic model of how a tool works, so that you can predict the places where it might run into difficulty, or formulate your problem in a way amenable to the solver.\n",
    "\n",
    "### SAT Solving\n",
    "One useful question we can ask about a propositional formula is if it is satisfiable. Does there exist and assignment of the boolean variables to true and false values that makes the entire formula evaluate to true.\n",
    "\n",
    "$$ \\exists x. p(x) = true ?$$\n",
    "Specialized solvers for this question are called SAT solvers, one of which is at the core of z3.\n",
    "\n",
    "There are surprising number of useful and interesting questions one can encode into this form to leverage the power of SAT solvers. A revolution in the power of SAT solvers occurred in the 90s/00s where new techniques were found \n",
    "\n",
    "\n",
    "In principle, one can answer the SAT question by a brute force search, enumerating every possible combination of values the variables can take on.\n",
    "However, for every new variable we add the size of the space we are searching is multiplied by 2. This becomes an unacceptable approach for \n",
    "\n",
    "Given a satisfying solution, it is quite easy and efficient to check if it is indeed a satsifying solution by merely plugging the solution. It is this property that puts the SAT problem into complexity class NP.\n",
    "\n",
    "\n",
    "### SMT solving\n",
    "\n",
    "There are two layers the SMT solver is working at. There may be complex logical structure, but then there is the domain specific questions.\n",
    "\n",
    "If we can abstract all complex facts like the truth of $x + y \\ge 7$ as an opaque boolean variables $p$. We then use the technques of SAT solvers to find a satisfying assignement of these variables. But there are constraints required by the actual intepretation of the boolean variables that may not have been apparent. So we take the truth assignment and query a theory specific solver to see if that particular assignement is possible. If it is, we are done. If it is not, there is a reason it is not. We add this fact to our boolean formula and iterate.\n",
    "\n",
    "In actual SMT solvers, there is no reason to not use domain specific information as early as possible. The only objective is to do things that are logically correct and as fast as possible. The SAT solving and the theory question may be very tightly interwoven.\n",
    "\n",
    " uninterpreted functions nelson-oppen - not likely\n",
    "#### Theories\n",
    "- linear equations\n",
    "- linear inequalities \n",
    "- polynomial equalities\n",
    "- integers\n",
    "- algebraic numbers\n",
    "- uninterpreted functions\n",
    "- \n"
   ]
  },
  {
   "cell_type": "markdown",
   "metadata": {},
   "source": [
    "\n",
    "Strengths of Z3:\n",
    "- Flexible and expressive input language\n",
    "- Best in class automated performance.\n",
    "- Does surprisingly well at many problems\n",
    "\n",
    "Weaknesses:\n",
    "\n",
    "\n",
    "- SMT solvers can find things and exhaustively not find things. But that is about it. You sometimes need to massage a problem in that form. See the super optimizer example\n",
    "- Synthesis problems usually require more techniques\n",
    "- Not great at complicated usages of quantifiers. The harder the problem, the more it seems like human guidance is necssary\n",
    "- Not great at induction\n",
    "- Not very easy to put in your understanding of the problem\n",
    "- Chain of trust. As we've been using it, we often are analyzing and verifying models of implementations, not implementations themselves. Interactive theorem provers have available stronger chains of trust. Tools that are more directly verifying \n",
    "\n",
    "Not good at infinite things like recursion, loops, and induction.\n",
    "\n",
    "\n",
    "## Other topics\n",
    "- Quantifiers\n",
    "- Optimization\n",
    "- Algebraic Datatypes\n",
    "\n",
    "\n",
    "## Other Solvers\n",
    "(I am overwhelmed by the options and I'm into this stuff)\n",
    "\n",
    "- Linear Algebra: numpy\n",
    "- Convex Optimization Tools\n",
    "- Linear Programming\n",
    "- Mixed Integer Programming\n",
    "\n",
    "- Minizinc\n",
    "- Google-ORTools\n",
    "- GAMS\n",
    "- AMPL\n",
    "- Cvxpy\n",
    "- Pyomo\n",
    "- Prolog\n",
    "- Picat\n",
    "\n",
    "\n"
   ]
  },
  {
   "cell_type": "markdown",
   "metadata": {},
   "source": [
    "### Getting Values out of Z3 models\n",
    "\n",
    "z3 has a number of helper functions like `solve` above, but a more powerful interface is through the Solver class"
   ]
  },
  {
   "cell_type": "code",
   "execution_count": 10,
   "metadata": {},
   "outputs": [
    {
     "name": "stdout",
     "output_type": "stream",
     "text": [
      "unknown\n"
     ]
    },
    {
     "ename": "Z3Exception",
     "evalue": "model is not available",
     "output_type": "error",
     "traceback": [
      "\u001b[0;31m---------------------------------------------------------------------------\u001b[0m",
      "\u001b[0;31mZ3Exception\u001b[0m                               Traceback (most recent call last)",
      "\u001b[0;32m/usr/local/lib/python3.7/site-packages/z3/z3.py\u001b[0m in \u001b[0;36mmodel\u001b[0;34m(self)\u001b[0m\n\u001b[1;32m   6672\u001b[0m         \u001b[0;32mtry\u001b[0m\u001b[0;34m:\u001b[0m\u001b[0;34m\u001b[0m\u001b[0;34m\u001b[0m\u001b[0m\n\u001b[0;32m-> 6673\u001b[0;31m             \u001b[0;32mreturn\u001b[0m \u001b[0mModelRef\u001b[0m\u001b[0;34m(\u001b[0m\u001b[0mZ3_solver_get_model\u001b[0m\u001b[0;34m(\u001b[0m\u001b[0mself\u001b[0m\u001b[0;34m.\u001b[0m\u001b[0mctx\u001b[0m\u001b[0;34m.\u001b[0m\u001b[0mref\u001b[0m\u001b[0;34m(\u001b[0m\u001b[0;34m)\u001b[0m\u001b[0;34m,\u001b[0m \u001b[0mself\u001b[0m\u001b[0;34m.\u001b[0m\u001b[0msolver\u001b[0m\u001b[0;34m)\u001b[0m\u001b[0;34m,\u001b[0m \u001b[0mself\u001b[0m\u001b[0;34m.\u001b[0m\u001b[0mctx\u001b[0m\u001b[0;34m)\u001b[0m\u001b[0;34m\u001b[0m\u001b[0;34m\u001b[0m\u001b[0m\n\u001b[0m\u001b[1;32m   6674\u001b[0m         \u001b[0;32mexcept\u001b[0m \u001b[0mZ3Exception\u001b[0m\u001b[0;34m:\u001b[0m\u001b[0;34m\u001b[0m\u001b[0;34m\u001b[0m\u001b[0m\n",
      "\u001b[0;32m/usr/local/lib/python3.7/site-packages/z3/z3core.py\u001b[0m in \u001b[0;36mZ3_solver_get_model\u001b[0;34m(a0, a1, _elems)\u001b[0m\n\u001b[1;32m   3759\u001b[0m   \u001b[0mr\u001b[0m \u001b[0;34m=\u001b[0m \u001b[0m_elems\u001b[0m\u001b[0;34m.\u001b[0m\u001b[0mf\u001b[0m\u001b[0;34m(\u001b[0m\u001b[0ma0\u001b[0m\u001b[0;34m,\u001b[0m \u001b[0ma1\u001b[0m\u001b[0;34m)\u001b[0m\u001b[0;34m\u001b[0m\u001b[0;34m\u001b[0m\u001b[0m\n\u001b[0;32m-> 3760\u001b[0;31m   \u001b[0m_elems\u001b[0m\u001b[0;34m.\u001b[0m\u001b[0mCheck\u001b[0m\u001b[0;34m(\u001b[0m\u001b[0ma0\u001b[0m\u001b[0;34m)\u001b[0m\u001b[0;34m\u001b[0m\u001b[0;34m\u001b[0m\u001b[0m\n\u001b[0m\u001b[1;32m   3761\u001b[0m   \u001b[0;32mreturn\u001b[0m \u001b[0mr\u001b[0m\u001b[0;34m\u001b[0m\u001b[0;34m\u001b[0m\u001b[0m\n",
      "\u001b[0;32m/usr/local/lib/python3.7/site-packages/z3/z3core.py\u001b[0m in \u001b[0;36mCheck\u001b[0;34m(self, ctx)\u001b[0m\n\u001b[1;32m   1380\u001b[0m     \u001b[0;32mif\u001b[0m \u001b[0merr\u001b[0m \u001b[0;34m!=\u001b[0m \u001b[0mself\u001b[0m\u001b[0;34m.\u001b[0m\u001b[0mOK\u001b[0m\u001b[0;34m:\u001b[0m\u001b[0;34m\u001b[0m\u001b[0;34m\u001b[0m\u001b[0m\n\u001b[0;32m-> 1381\u001b[0;31m         \u001b[0;32mraise\u001b[0m \u001b[0mself\u001b[0m\u001b[0;34m.\u001b[0m\u001b[0mException\u001b[0m\u001b[0;34m(\u001b[0m\u001b[0mself\u001b[0m\u001b[0;34m.\u001b[0m\u001b[0mget_error_message\u001b[0m\u001b[0;34m(\u001b[0m\u001b[0mctx\u001b[0m\u001b[0;34m,\u001b[0m \u001b[0merr\u001b[0m\u001b[0;34m)\u001b[0m\u001b[0;34m)\u001b[0m\u001b[0;34m\u001b[0m\u001b[0;34m\u001b[0m\u001b[0m\n\u001b[0m\u001b[1;32m   1382\u001b[0m \u001b[0;34m\u001b[0m\u001b[0m\n",
      "\u001b[0;31mZ3Exception\u001b[0m: b'there is no current model'",
      "\nDuring handling of the above exception, another exception occurred:\n",
      "\u001b[0;31mZ3Exception\u001b[0m                               Traceback (most recent call last)",
      "\u001b[0;32m<ipython-input-10-95a59858d09e>\u001b[0m in \u001b[0;36m<module>\u001b[0;34m\u001b[0m\n\u001b[1;32m     13\u001b[0m \u001b[0;34m\u001b[0m\u001b[0m\n\u001b[1;32m     14\u001b[0m \u001b[0mprint\u001b[0m\u001b[0;34m(\u001b[0m\u001b[0ms\u001b[0m\u001b[0;34m.\u001b[0m\u001b[0mcheck\u001b[0m\u001b[0;34m(\u001b[0m\u001b[0;34m)\u001b[0m\u001b[0;34m)\u001b[0m\u001b[0;34m\u001b[0m\u001b[0;34m\u001b[0m\u001b[0m\n\u001b[0;32m---> 15\u001b[0;31m \u001b[0mm\u001b[0m \u001b[0;34m=\u001b[0m \u001b[0ms\u001b[0m\u001b[0;34m.\u001b[0m\u001b[0mmodel\u001b[0m\u001b[0;34m(\u001b[0m\u001b[0;34m)\u001b[0m\u001b[0;34m\u001b[0m\u001b[0;34m\u001b[0m\u001b[0m\n\u001b[0m\u001b[1;32m     16\u001b[0m \u001b[0;34m\u001b[0m\u001b[0m\n\u001b[1;32m     17\u001b[0m \u001b[0mprint\u001b[0m\u001b[0;34m(\u001b[0m\u001b[0mm\u001b[0m\u001b[0;34m[\u001b[0m\u001b[0mx\u001b[0m\u001b[0;34m]\u001b[0m\u001b[0;34m.\u001b[0m\u001b[0mas_long\u001b[0m\u001b[0;34m(\u001b[0m\u001b[0;34m)\u001b[0m\u001b[0;34m)\u001b[0m\u001b[0;34m\u001b[0m\u001b[0;34m\u001b[0m\u001b[0m\n",
      "\u001b[0;32m/usr/local/lib/python3.7/site-packages/z3/z3.py\u001b[0m in \u001b[0;36mmodel\u001b[0;34m(self)\u001b[0m\n\u001b[1;32m   6673\u001b[0m             \u001b[0;32mreturn\u001b[0m \u001b[0mModelRef\u001b[0m\u001b[0;34m(\u001b[0m\u001b[0mZ3_solver_get_model\u001b[0m\u001b[0;34m(\u001b[0m\u001b[0mself\u001b[0m\u001b[0;34m.\u001b[0m\u001b[0mctx\u001b[0m\u001b[0;34m.\u001b[0m\u001b[0mref\u001b[0m\u001b[0;34m(\u001b[0m\u001b[0;34m)\u001b[0m\u001b[0;34m,\u001b[0m \u001b[0mself\u001b[0m\u001b[0;34m.\u001b[0m\u001b[0msolver\u001b[0m\u001b[0;34m)\u001b[0m\u001b[0;34m,\u001b[0m \u001b[0mself\u001b[0m\u001b[0;34m.\u001b[0m\u001b[0mctx\u001b[0m\u001b[0;34m)\u001b[0m\u001b[0;34m\u001b[0m\u001b[0;34m\u001b[0m\u001b[0m\n\u001b[1;32m   6674\u001b[0m         \u001b[0;32mexcept\u001b[0m \u001b[0mZ3Exception\u001b[0m\u001b[0;34m:\u001b[0m\u001b[0;34m\u001b[0m\u001b[0;34m\u001b[0m\u001b[0m\n\u001b[0;32m-> 6675\u001b[0;31m             \u001b[0;32mraise\u001b[0m \u001b[0mZ3Exception\u001b[0m\u001b[0;34m(\u001b[0m\u001b[0;34m\"model is not available\"\u001b[0m\u001b[0;34m)\u001b[0m\u001b[0;34m\u001b[0m\u001b[0;34m\u001b[0m\u001b[0m\n\u001b[0m\u001b[1;32m   6676\u001b[0m \u001b[0;34m\u001b[0m\u001b[0m\n\u001b[1;32m   6677\u001b[0m     \u001b[0;32mdef\u001b[0m \u001b[0mimport_model_converter\u001b[0m\u001b[0;34m(\u001b[0m\u001b[0mself\u001b[0m\u001b[0;34m,\u001b[0m \u001b[0mother\u001b[0m\u001b[0;34m)\u001b[0m\u001b[0;34m:\u001b[0m\u001b[0;34m\u001b[0m\u001b[0;34m\u001b[0m\u001b[0m\n",
      "\u001b[0;31mZ3Exception\u001b[0m: model is not available"
     ]
    }
   ],
   "source": [
    "x = Int(\"x\")\n",
    "y = Real(\"y\")\n",
    "z = Real(\"z\")\n",
    "p = Bool(\"p\")\n",
    "a = BitVec(\"a\",32)\n",
    "\n",
    "s = Solver()\n",
    "s.add(x == 2)\n",
    "s.add(y == 1/3)\n",
    "s.add(z ** 2 == 2)\n",
    "s.add(p == True)\n",
    "s.add(a == 0xDEADBEEF)\n",
    "\n",
    "print(s.check())\n",
    "m = s.model()\n",
    "\n",
    "print(m[x].as_long())\n",
    "print(m[y].numerator_as_long() / m[y].denominator_as_long())\n",
    "print(m[z].approx())\n",
    "#print(m[z].approx().numerator_as_long() / m[z].approx().denominator_as_long())\n",
    "print(m[a].as_long())\n",
    "print(bool(m[p]))"
   ]
  },
  {
   "cell_type": "code",
   "execution_count": null,
   "metadata": {},
   "outputs": [],
   "source": [
    "x = Int(\"x\")\n",
    "s = Solver()\n",
    "s.add(x == 2)\n",
    "s.check()\n",
    "m = s.model()\n",
    "type(m[x].as_long())"
   ]
  },
  {
   "cell_type": "code",
   "execution_count": 1,
   "metadata": {},
   "outputs": [
    {
     "ename": "NameError",
     "evalue": "name 'Bools' is not defined",
     "output_type": "error",
     "traceback": [
      "\u001b[0;31m---------------------------------------------------------------------------\u001b[0m",
      "\u001b[0;31mNameError\u001b[0m                                 Traceback (most recent call last)",
      "\u001b[0;32m<ipython-input-1-17169a84e415>\u001b[0m in \u001b[0;36m<module>\u001b[0;34m\u001b[0m\n\u001b[0;32m----> 1\u001b[0;31m \u001b[0ma\u001b[0m\u001b[0;34m,\u001b[0m \u001b[0mb\u001b[0m \u001b[0;34m=\u001b[0m \u001b[0mBools\u001b[0m\u001b[0;34m(\u001b[0m\u001b[0;34m\"a b\"\u001b[0m\u001b[0;34m)\u001b[0m\u001b[0;34m\u001b[0m\u001b[0;34m\u001b[0m\u001b[0m\n\u001b[0m\u001b[1;32m      2\u001b[0m \u001b[0ms\u001b[0m \u001b[0;34m=\u001b[0m \u001b[0mSolver\u001b[0m\u001b[0;34m(\u001b[0m\u001b[0;34m)\u001b[0m\u001b[0;34m\u001b[0m\u001b[0;34m\u001b[0m\u001b[0m\n\u001b[1;32m      3\u001b[0m \u001b[0ms\u001b[0m\u001b[0;34m.\u001b[0m\u001b[0madd\u001b[0m\u001b[0;34m(\u001b[0m\u001b[0mXor\u001b[0m\u001b[0;34m(\u001b[0m\u001b[0ma\u001b[0m\u001b[0;34m,\u001b[0m\u001b[0mb\u001b[0m\u001b[0;34m)\u001b[0m\u001b[0;34m)\u001b[0m\u001b[0;34m\u001b[0m\u001b[0;34m\u001b[0m\u001b[0m\n\u001b[1;32m      4\u001b[0m \u001b[0ms\u001b[0m\u001b[0;34m.\u001b[0m\u001b[0mcheck\u001b[0m\u001b[0;34m(\u001b[0m\u001b[0;34m)\u001b[0m\u001b[0;34m\u001b[0m\u001b[0;34m\u001b[0m\u001b[0m\n\u001b[1;32m      5\u001b[0m \u001b[0mm\u001b[0m \u001b[0;34m=\u001b[0m \u001b[0ms\u001b[0m\u001b[0;34m.\u001b[0m\u001b[0mmodel\u001b[0m\u001b[0;34m(\u001b[0m\u001b[0;34m)\u001b[0m\u001b[0;34m\u001b[0m\u001b[0;34m\u001b[0m\u001b[0m\n",
      "\u001b[0;31mNameError\u001b[0m: name 'Bools' is not defined"
     ]
    }
   ],
   "source": [
    "a, b = Bools(\"a b\")\n",
    "s = Solver()\n",
    "s.add(Xor(a,b))\n",
    "s.check()\n",
    "m = s.model()\n",
    "print(bool(m[a]))\n",
    "print(bool(m[b]))"
   ]
  },
  {
   "cell_type": "code",
   "execution_count": null,
   "metadata": {},
   "outputs": [],
   "source": [
    "m.eval(2*x + 1) # you can also evaluate z3 expressions in the context of the model"
   ]
  },
  {
   "cell_type": "markdown",
   "metadata": {},
   "source": [
    "### Conversion Functions"
   ]
  },
  {
   "cell_type": "code",
   "execution_count": null,
   "metadata": {},
   "outputs": [],
   "source": [
    "ToReal()\n",
    "ToInt()\n",
    "ToFloat()\n",
    "ToBV()"
   ]
  },
  {
   "cell_type": "markdown",
   "metadata": {},
   "source": [
    "## Simplifying expressions with z3"
   ]
  },
  {
   "cell_type": "markdown",
   "metadata": {},
   "source": [
    "This is cool, but do I even want to talk about this?"
   ]
  },
  {
   "cell_type": "code",
   "execution_count": 34,
   "metadata": {},
   "outputs": [
    {
     "name": "stdout",
     "output_type": "stream",
     "text": [
      "3 + 3*x + y\n",
      "Not(y <= -2)\n",
      "And(x >= 2, 2*x**2 + y**2 >= 3)\n"
     ]
    }
   ],
   "source": [
    "x = Int('x')\n",
    "y = Int('y')\n",
    "print(simplify(x + y + 2*x + 3))\n",
    "print(simplify(x < y + x + 2))\n",
    "print(simplify(And(x + 1 >= 3, x**2 + x**2 + y**2 + 2 >= 5)))\n",
    "# "
   ]
  },
  {
   "cell_type": "markdown",
   "metadata": {},
   "source": [
    "## Some Things Z3 Can't Solve"
   ]
  },
  {
   "cell_type": "markdown",
   "metadata": {},
   "source": [
    "Complex quantifier things can get you in trouble.\n",
    "Z3 has a tough time with nonlinear reasoning. It gets much spottier the further away you for from polynomial equations."
   ]
  },
  {
   "cell_type": "code",
   "execution_count": 28,
   "metadata": {
    "scrolled": true
   },
   "outputs": [
    {
     "name": "stdout",
     "output_type": "stream",
     "text": [
      "unknown\n"
     ]
    }
   ],
   "source": [
    "x = Real('x')\n",
    "s = Solver()\n",
    "s.add(2**x == 3)\n",
    "print(s.check())"
   ]
  },
  {
   "cell_type": "markdown",
   "metadata": {},
   "source": [
    "# Quantifiers\n",
    "substitition\n",
    "continuity of certain functions?\n",
    "convexity?\n"
   ]
  },
  {
   "cell_type": "markdown",
   "metadata": {},
   "source": [
    "# References\n",
    "\n",
    "- rise4fun https://rise4fun.com/z3/tutorialcontent/guide\n",
    "- https://ericpony.github.io/z3py-tutorial/guide-examples.htm\n",
    "- Programming Z3 - https://theory.stanford.edu/~nikolaj/programmingz3.html\n",
    "- Hakank's examples http://www.hakank.org/z3/\n",
    "- Yurichev's book \"SMT by Example\" https://yurichev.com/writings/SAT_SMT_by_example.pdf\n",
    "- Z3 Tutorial paper\n",
    "- http://www.cs.tau.ac.il/~msagiv/courses/asv/z3py/\n",
    "- http://hackage.haskell.org/package/sbv\n",
    "- https://www.youtube.com/watch?v=ruNFcH-KibY Tikhon Jelvis - Analyzing Programs with Z3\n"
   ]
  },
  {
   "cell_type": "code",
   "execution_count": null,
   "metadata": {},
   "outputs": [],
   "source": []
  }
 ],
 "metadata": {
  "@webio": {
   "lastCommId": null,
   "lastKernelId": null
  },
  "kernelspec": {
   "display_name": "Python 3",
   "language": "python",
   "name": "python3"
  },
  "language_info": {
   "codemirror_mode": {
    "name": "ipython",
    "version": 3
   },
   "file_extension": ".py",
   "mimetype": "text/x-python",
   "name": "python",
   "nbconvert_exporter": "python",
   "pygments_lexer": "ipython3",
   "version": "3.7.5"
  }
 },
 "nbformat": 4,
 "nbformat_minor": 2
}
