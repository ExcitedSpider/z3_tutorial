{
 "cells": [
  {
   "cell_type": "markdown",
   "metadata": {},
   "source": [
    "# Propositional Logic / Boolean Logic\n",
    "\n",
    "Propositional formula are logical formula with boolean variables and logical connectives like and ($\\land$) , or ($\\lor$),  negation ( $ \\neg $ ), and implication $\\implies$.\n"
   ]
  },
  {
   "cell_type": "code",
   "execution_count": 5,
   "metadata": {},
   "outputs": [
    {
     "ename": "NameError",
     "evalue": "name 'Bool' is not defined",
     "output_type": "error",
     "traceback": [
      "\u001b[0;31m---------------------------------------------------------------------------\u001b[0m",
      "\u001b[0;31mNameError\u001b[0m                                 Traceback (most recent call last)",
      "\u001b[0;32m<ipython-input-5-1d53744bbfd7>\u001b[0m in \u001b[0;36m<module>\u001b[0;34m\u001b[0m\n\u001b[1;32m      1\u001b[0m \u001b[0;32mfrom\u001b[0m \u001b[0mz3\u001b[0m \u001b[0;32mimport\u001b[0m \u001b[0;34m*\u001b[0m\u001b[0;34m\u001b[0m\u001b[0m\n\u001b[0;32m----> 2\u001b[0;31m \u001b[0mp\u001b[0m \u001b[0;34m=\u001b[0m \u001b[0mBool\u001b[0m\u001b[0;34m(\u001b[0m\u001b[0;34m'p'\u001b[0m\u001b[0;34m)\u001b[0m\u001b[0;34m\u001b[0m\u001b[0m\n\u001b[0m\u001b[1;32m      3\u001b[0m \u001b[0mq\u001b[0m \u001b[0;34m=\u001b[0m \u001b[0mBool\u001b[0m\u001b[0;34m(\u001b[0m\u001b[0;34m'q'\u001b[0m\u001b[0;34m)\u001b[0m\u001b[0;34m\u001b[0m\u001b[0m\n\u001b[1;32m      4\u001b[0m \u001b[0mr\u001b[0m \u001b[0;34m=\u001b[0m \u001b[0mBool\u001b[0m\u001b[0;34m(\u001b[0m\u001b[0;34m'r'\u001b[0m\u001b[0;34m)\u001b[0m\u001b[0;34m\u001b[0m\u001b[0m\n\u001b[1;32m      5\u001b[0m \u001b[0msolve\u001b[0m\u001b[0;34m(\u001b[0m\u001b[0mImplies\u001b[0m\u001b[0;34m(\u001b[0m\u001b[0mp\u001b[0m\u001b[0;34m,\u001b[0m \u001b[0mq\u001b[0m\u001b[0;34m)\u001b[0m\u001b[0;34m,\u001b[0m \u001b[0mr\u001b[0m \u001b[0;34m==\u001b[0m \u001b[0mNot\u001b[0m\u001b[0;34m(\u001b[0m\u001b[0mq\u001b[0m\u001b[0;34m)\u001b[0m\u001b[0;34m,\u001b[0m \u001b[0mOr\u001b[0m\u001b[0;34m(\u001b[0m\u001b[0mNot\u001b[0m\u001b[0;34m(\u001b[0m\u001b[0mp\u001b[0m\u001b[0;34m)\u001b[0m\u001b[0;34m,\u001b[0m \u001b[0mr\u001b[0m\u001b[0;34m)\u001b[0m\u001b[0;34m)\u001b[0m\u001b[0;34m\u001b[0m\u001b[0m\n",
      "\u001b[0;31mNameError\u001b[0m: name 'Bool' is not defined"
     ]
    }
   ],
   "source": [
    "from z3 import *\n",
    "p = Bool('p')\n",
    "q = Bool('q')\n",
    "r = Bool('r')\n",
    "solve(Implies(p, q), r == Not(q), Or(Not(p), r))\n",
    "\n"
   ]
  },
  {
   "cell_type": "markdown",
   "metadata": {},
   "source": [
    "One useful question we can ask about a propositional formula is if it is satisfiable. Does there exist and assignment of the boolean variables to true and false values that makes the entire formula evaluate to true.\n",
    "\n",
    "$$ \\exists x. p(x) = true ?$$\n",
    "Specialized solvers for this question are called SAT solvers, one of which is at the core of z3.\n",
    "\n",
    "\n",
    "There are surprising number of useful and interesting questions one can encode into this form to leverage the power of SAT solvers. A revolution in the power of SAT solvers occurred in the 90s/00s where new techniques were found \n"
   ]
  },
  {
   "cell_type": "markdown",
   "metadata": {},
   "source": [
    "In principle, one can answer the SAT question by a brute force search, enumerating every possible combination of values the variables can take on."
   ]
  },
  {
   "cell_type": "code",
   "execution_count": 6,
   "metadata": {},
   "outputs": [
    {
     "name": "stdout",
     "output_type": "stream",
     "text": [
      "[(True, True, True, True), (True, True, True, False), (True, True, False, True), (True, False, True, True), (True, False, False, True)]\n"
     ]
    }
   ],
   "source": [
    "def my_formula(p,q,r,s):\n",
    "    return (p or r) and (r or s) and (not p or q or s) and (not r or p)\n",
    "    \n",
    "bs = [True, False]\n",
    "all_sat_solutions = [(p,q,r,s) for p in bs for q in bs for r in bs for s in bs if my_formula(p,q,r,s) ]\n",
    "print(all_sat_solutions)"
   ]
  },
  {
   "cell_type": "markdown",
   "metadata": {},
   "source": [
    "However, for every new variable we add the size of the space we are searching is multiplied by 2. This becomes an unacceptable approach for \n",
    "\n",
    "Given a satisfying solution, it is quite easy and efficient to check if it is indeed a satsifying solution by merely plugging the solution. It is this property that puts the SAT problem into complexity class NP."
   ]
  },
  {
   "cell_type": "code",
   "execution_count": 9,
   "metadata": {},
   "outputs": [
    {
     "data": {
      "text/plain": [
       "[True, True, True, True, True]"
      ]
     },
     "execution_count": 9,
     "metadata": {},
     "output_type": "execute_result"
    }
   ],
   "source": [
    "[my_formula(*sol) for sol in all_sat_solutions]"
   ]
  },
  {
   "cell_type": "markdown",
   "metadata": {},
   "source": [
    "Modelling suggesitons:\n",
    "\n",
    "I find the very most important thing is to ask \"what is the state space of shape of my problem/solution\""
   ]
  },
  {
   "cell_type": "markdown",
   "metadata": {},
   "source": [
    "# Examples\n",
    "\n",
    "## N-Queens\n",
    "\n",
    "\n",
    "Q1: What is the state space?\n",
    "\n",
    "Q2: What are the constraints on the state space?\n",
    "\n",
    "## Discrete Tomography\n",
    "\n",
    "Suppose I have some blob on a grid that I can fire an xray through. The xray gets absorbed in proportion to the amount of material it has to pass through. \n",
    "\n",
    "## Circuits and BitVectors. Circuit Equivalence?\n",
    "\n",
    "## \n",
    "\n",
    "## The Game of Life\n",
    "\n",
    "## BMC / PegGame / Tic-Tac-Toe\n",
    "\n",
    "A useful technqiue \n",
    "\n",
    "\n",
    "\n",
    "\n",
    "\n",
    "\n",
    "\n"
   ]
  },
  {
   "cell_type": "markdown",
   "metadata": {},
   "source": [
    "## Exercise:\n",
    "\n",
    "\n",
    "Find logic puzzle, translate it to z3.\n",
    "\n"
   ]
  },
  {
   "cell_type": "markdown",
   "metadata": {},
   "source": [
    "# SMT Solving\n",
    "\n",
    "\n",
    "Z3 has significantly more capabilities than just SAT solving however. Z3 can search over things much more complicated than just boolean variables.\n",
    "\n",
    "Satisfiability Modulo Theories (SMT) is an architecture/algorithm for search that extends the search methods of SAT solvers to more complex domains.\n",
    "\n",
    "Z3 has solvers for\n",
    "\n",
    "- linear equations\n",
    "- linear inequalities\n",
    "- integers\n",
    "- algebraic numbers\n",
    "- uninterpreted functions\n",
    "\n",
    "As a sketch, it works roughly like this:\n",
    "\n",
    "There are two layers the SMT solver is working at. There may be complex logical structure, but then there is the domain specific questions.\n",
    "\n",
    "If we can abstract all complex facts like the truth of $x + y \\gte 7$ as an opaque boolean variables $p$. We then use the technques of SAT solvers to find a satisfying assignement of these variables. But there are constraints required by the actual intepretation of the boolean variables that may not have been apparent. So we take the truth assignment and query a theory specific solver to see if that particular assignement is possible. If it is, we are done. If it is not, there is a reason it is not. We add this fact to our boolean formula and iterate.\n",
    "\n",
    "In actual SMT solvers, there is no reason to not use domain specific information as early as possible. The only objective is to do things that are logically correct and as fast as possible. The SAT solving and the theory question may be very tightly interwoven.\n",
    "\n"
   ]
  },
  {
   "cell_type": "markdown",
   "metadata": {},
   "source": [
    "# Examples\n",
    "\n",
    "## Apple Robot\n",
    "\n",
    "## Controller Safety\n",
    "\n",
    "## Toy Program Verification\n",
    "\n",
    "Program analysis is a large subject.\n",
    "\n",
    "def f(x : Int, y : Int):\n",
    "   z = x + y\n",
    "   z = z - 17\n",
    "   if a <= 4:\n",
    "      crash()\n",
    "   return a\n",
    "   \n",
    "\n",
    "\n"
   ]
  },
  {
   "cell_type": "markdown",
   "metadata": {},
   "source": [
    "Short comments:\n",
    "Optimization\n",
    "Algebraic Datatypes\n",
    "\n",
    "\n",
    "\n",
    "Strengths of Z3:\n",
    "\n",
    "\n",
    "Weaknesses:\n",
    "\n",
    "\n",
    "Other Solvers: (I am overwhelmed by the options and I'm into this stuff)\n",
    "Linear Algebra, numpy\n",
    "Convex Optimization Tools\n",
    "Linear Programming\n",
    "Mixed Integer Programming\n",
    "\n",
    "Minizinc\n",
    "Google-ORTools\n",
    "GAMS\n",
    "AMPL\n",
    "Cvxpy\n",
    "Pyomo\n",
    "\n",
    "\n"
   ]
  },
  {
   "cell_type": "markdown",
   "metadata": {},
   "source": [
    "# References\n",
    "\n",
    "- rise4fun\n",
    "- https://ericpony.github.io/z3py-tutorial/guide-examples.htm\n",
    "- Nikolaj Bjorner\n",
    "- Hakank's \n",
    "- Yurichev's book\n"
   ]
  }
 ],
 "metadata": {
  "kernelspec": {
   "display_name": "Python 3",
   "language": "python",
   "name": "python3"
  },
  "language_info": {
   "codemirror_mode": {
    "name": "ipython",
    "version": 3
   },
   "file_extension": ".py",
   "mimetype": "text/x-python",
   "name": "python",
   "nbconvert_exporter": "python",
   "pygments_lexer": "ipython3",
   "version": "3.7.0"
  }
 },
 "nbformat": 4,
 "nbformat_minor": 2
}
