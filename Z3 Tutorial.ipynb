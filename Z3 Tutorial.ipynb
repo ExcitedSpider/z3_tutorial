{
 "cells": [
  {
   "cell_type": "markdown",
   "metadata": {},
   "source": [
    "# Introduction \n",
    "\n",
    "## Hi, I'm Phil!\n",
    "\n",
    "I'm from Draper Labs across the street. \n",
    "\n",
    "I like math, computers, physics, and long walks on the beach.\n",
    "\n",
    "Currently I'm working on the Comparative Binary Analysis (CBAT) project https://github.com/draperlaboratory/cbat_tools that uses Z3 as a backend for the purposes of formally verifying binary program transformations.\n",
    "\n",
    "## Formal Methods \n",
    "\n",
    "What are formal methods? Well, let's google it:\n",
    "\n",
    "\"In computer science, specifically software engineering and hardware engineering, formal methods are a particular kind of mathematically based techniques for the specification, development and verification of software and hardware systems.[1] The use of formal methods for software and hardware design is motivated by the expectation that, as in other engineering disciplines, performing appropriate mathematical analysis can contribute to the reliability and robustness of a design.[2]\" - https://en.wikipedia.org/wiki/Formal_methods\n",
    "\n",
    "A specification is a precise, clear, and succinct statement of what a program should do. It often has a logical or mathematical flavor.\n",
    "\n",
    "An implementation is precise, perhaps obfuscated for performance or language reasons, and often verbose. It often has a programming flavor.\n",
    "\n",
    "The two should be equivalent in some sense. The process of showing this is verification. \n",
    "\n",
    "How do we prove that other than by waving our hands and hoping? Well, it's pretty hard. One astonishingly powerful and versatile tool we'll explore today is the Z3 theorem prover.\n",
    "\n",
    "## What is the Z3 SMT Solver\n",
    "\n",
    "What is Z3? Well, let's google it.\n",
    "\n",
    "\"Z3 is a state-of-the art theorem prover from Microsoft Research. It can be used to check the satisfiability of logical formulas over one or more theories. Z3 offers a compelling match for software analysis and verification tools, since several common software constructs map directly into supported theories.\"\n",
    "\n",
    "### What the heck does that mean?\n",
    "\n",
    "There are a number of different interesting things you can do with Z3. It has equation solving capabilities that overlap some with computer algebra systems like Mathematica, some capabilities that overlap with constraint satisfaction solvers, and a capability to manipulate and express logical statements. The sum total of these capabilities enables z3 to effectively and automatically find solutions to a wide variety of problems or (importantly!) effectively and automatically prove that such solutions _do not exist_.\n",
    "\n",
    "Z3 is built with the intention that it is going to be used for hardware and software verification tasks.\n",
    "Many verification tools extensively use z3 or equivalent solvers as the heavy lifting. They are often interfaces that translate the task at hand into a bunch of queries to z3. But z3 is also useful on it's own.\n",
    "\n",
    "Z3 was open sourced in the beginning of 2015. The source code is licensed under MIT License and hosted on GitHub.\n",
    "\n",
    "Z3 has official bindings for C, C++, Python, .NET, OCaml, Java and often bindings available in other languages as well. It also has a command line interface. The python bindings are full featured, and python is a familiar language to many, so that is our choice today.\n",
    "\n",
    "\n",
    "\n",
    "\n",
    "\n",
    "\n",
    "\n"
   ]
  },
  {
   "cell_type": "markdown",
   "metadata": {},
   "source": [
    "# Walking through a Z3 problem\n",
    "\n",
    "To get started, let's do some simple examples\n",
    "\n",
    "First of you need z3 installed. Z3 is available on pip. \n",
    "Oh, not _that_ z3. Amusingly, `pip install z3` actually installs a completely unrelated tool.\n",
    "The command you actually need is\n"
   ]
  },
  {
   "cell_type": "code",
   "execution_count": null,
   "metadata": {},
   "outputs": [],
   "source": [
    "!pip install z3-solver"
   ]
  },
  {
   "cell_type": "markdown",
   "metadata": {},
   "source": [
    "We define a simple problem by first importing the library."
   ]
  },
  {
   "cell_type": "code",
   "execution_count": 2,
   "metadata": {},
   "outputs": [],
   "source": [
    "from z3 import *"
   ]
  },
  {
   "cell_type": "markdown",
   "metadata": {},
   "source": [
    "We then declare our variables, state a set of constraints we wish to hold, and then call the convenience function `solve` to get a solution."
   ]
  },
  {
   "cell_type": "code",
   "execution_count": 2,
   "metadata": {},
   "outputs": [
    {
     "name": "stdout",
     "output_type": "stream",
     "text": [
      "[y = 0, x = 7]\n"
     ]
    }
   ],
   "source": [
    "x = Int('x')\n",
    "y = Int('y')\n",
    "solve(x > 2, y < 10, x + 2*y == 7)"
   ]
  },
  {
   "cell_type": "markdown",
   "metadata": {},
   "source": [
    "We can also use z3 to prove properties and theorems. We'll get more into what this means later."
   ]
  },
  {
   "cell_type": "code",
   "execution_count": 9,
   "metadata": {},
   "outputs": [
    {
     "data": {
      "text/html": [
       "p &and; q &rArr; p"
      ],
      "text/plain": [
       "Implies(And(p, q), p)"
      ]
     },
     "execution_count": 9,
     "metadata": {},
     "output_type": "execute_result"
    }
   ],
   "source": [
    "p = Bool(\"p\")\n",
    "q = Bool(\"q\")\n",
    "my_true_thm = Implies(And(p,q), p)\n",
    "my_true_thm"
   ]
  },
  {
   "cell_type": "code",
   "execution_count": 11,
   "metadata": {},
   "outputs": [
    {
     "name": "stdout",
     "output_type": "stream",
     "text": [
      "proved\n"
     ]
    }
   ],
   "source": [
    "prove(my_true_thm)"
   ]
  },
  {
   "cell_type": "markdown",
   "metadata": {},
   "source": [
    "If the property is not true, z3 can supply a counterexample"
   ]
  },
  {
   "cell_type": "code",
   "execution_count": 14,
   "metadata": {},
   "outputs": [
    {
     "data": {
      "text/html": [
       "p &or; q &rArr; p"
      ],
      "text/plain": [
       "Implies(Or(p, q), p)"
      ]
     },
     "execution_count": 14,
     "metadata": {},
     "output_type": "execute_result"
    }
   ],
   "source": [
    "my_false_thm = Implies(Or(p,q), p)\n",
    "my_false_thm"
   ]
  },
  {
   "cell_type": "code",
   "execution_count": 15,
   "metadata": {
    "scrolled": true
   },
   "outputs": [
    {
     "name": "stdout",
     "output_type": "stream",
     "text": [
      "counterexample\n",
      "[p = False, q = True]\n"
     ]
    }
   ],
   "source": [
    "prove(my_false_thm)"
   ]
  },
  {
   "cell_type": "markdown",
   "metadata": {},
   "source": [
    "### Useful Documentation\n",
    "\n",
    "Now that we have a simple example, let's look at where we can go to find out more\n",
    "\n",
    "- The API docs: https://z3prover.github.io/api/html/namespacez3py.html\n",
    "- https://rise4fun.com/z3/tutorial has an interactive tutorial in z3. It uses the smt-lib2 input language, not python\n",
    "- https://ericpony.github.io/z3py-tutorial/guide-examples.htm A tutorial for the python bindings upon which this tutorial is heavily based\n",
    "\n"
   ]
  },
  {
   "cell_type": "markdown",
   "metadata": {},
   "source": [
    "## Z3 Variables\n",
    "\n",
    "You can create z3 variables of different sorts."
   ]
  },
  {
   "cell_type": "code",
   "execution_count": 23,
   "metadata": {},
   "outputs": [],
   "source": [
    "x = Bool(\"x\")\n",
    "x = Const(\"x\" , BoolSort())\n",
    "p, q, r = Bools(\"p q r\") # convenience function for multiple definitions\n",
    "x = Real(\"x\")\n",
    "y = Int(\"x\") \n",
    "v = BitVec(\"n\", 32) # 32 bit bitvector\n",
    "f = FP(\"f\", Float64()) #Floating point values\n",
    "a = Array(\"a\", IntSort(), BoolSort()) # arrays\n",
    "f = Function(\"f\", IntSort(), BoolSort(), BoolSort()) # functions"
   ]
  },
  {
   "cell_type": "markdown",
   "metadata": {},
   "source": [
    "You can also create algebraic data types and uninterpreted sorts."
   ]
  },
  {
   "cell_type": "markdown",
   "metadata": {},
   "source": [
    "### Z3 constants\n",
    "\n",
    "Often values are cast for you automatically, but sometimes they aren't. You can explicitly cast the value of constants"
   ]
  },
  {
   "cell_type": "code",
   "execution_count": 9,
   "metadata": {},
   "outputs": [
    {
     "name": "stdout",
     "output_type": "stream",
     "text": [
      "True\n",
      "5/2\n",
      "7\n",
      "1/3\n"
     ]
    }
   ],
   "source": [
    "print(BoolVal(True))\n",
    "print(RealVal(2.5))\n",
    "print(IntVal(7))\n",
    "print(Q(1,3))"
   ]
  },
  {
   "cell_type": "markdown",
   "metadata": {},
   "source": [
    "## Constraints / operations\n",
    "\n",
    "Operations and constraints in Z3 are built mostly by overloading the ordinary python operations. There is a good chance you can guess what the right operator is. All operations are also available as capitalized functions."
   ]
  },
  {
   "cell_type": "code",
   "execution_count": 36,
   "metadata": {},
   "outputs": [
    {
     "name": "stdout",
     "output_type": "stream",
     "text": [
      "x + x\n",
      "0 + 1 + 2 + 3 + 4\n",
      "x*x\n",
      "x**4\n",
      "And(p, q)\n",
      "And(p, q, r)\n",
      "Or(p, q)\n",
      "Implies(p, q)\n",
      "Xor(p, q)\n",
      "x == x\n",
      "x != x\n",
      "3 >= x\n",
      "Or(x < 3, x == 3, x > 3)\n"
     ]
    }
   ],
   "source": [
    "# Common numerical operations\n",
    "print(x + x) # addition\n",
    "print(Sum([IntVal(i) for i in range(5)])) # You can take the sum of a list\n",
    "print(x * x) # multiplication\n",
    "print(x ** 4) # fourth power of x \n",
    "\n",
    "# Common boolean operations\n",
    "print(And(p,q))\n",
    "print(And(p,q,r)) # some can accept more than one argument for convenience.\n",
    "print(Or(p,q))\n",
    "print(Implies(p,q))\n",
    "print(Xor(p,q))\n",
    "\n",
    "# Constraints \n",
    "print(x == x) #equal\n",
    "print(x != x) # not equal\n",
    "print(x <= RealVal(3)) # inequality\n",
    "print(Or( x < 3,  x == 3, x > 3  )) # Constraints are operations into booleans\n",
    "\n",
    "# And many more! Look in the API docs for others https://z3prover.github.io/api/html/namespacez3py.html"
   ]
  },
  {
   "cell_type": "markdown",
   "metadata": {},
   "source": [
    "Now that we've shown some of the basics, you're ready to try something simple on your own\n",
    "\n",
    "### Exercise 1\n",
    "Get a root of the polynomial `x**3 + 3*x**2 + 4*x + 2 == 0` using z3. Can you use z3 to show there is no other real solution?"
   ]
  },
  {
   "cell_type": "code",
   "execution_count": 4,
   "metadata": {},
   "outputs": [
    {
     "name": "stdout",
     "output_type": "stream",
     "text": [
      "no solution\n"
     ]
    }
   ],
   "source": [
    "#my_solution: leave blank\n",
    "\n",
    "#More examples first\n",
    "''' solution\n",
    "x = Real(\"x\")\n",
    "\n",
    "solve(x**3 + 3*x**2 + 4*x + 2 == 0)\n",
    "'''"
   ]
  },
  {
   "cell_type": "code",
   "execution_count": null,
   "metadata": {},
   "outputs": [],
   "source": [
    "# Let's take a look\n",
    "import numpy as np\n",
    "import matplotlib.pyplot as plt\n",
    "xs = np.linspace(-3,3,200)\n",
    "plt.plot(xs,xs**3 + 3*xs**2 + 4*xs + 2)\n",
    "plt.show()"
   ]
  },
  {
   "cell_type": "markdown",
   "metadata": {},
   "source": [
    "### * General purpose python exploration tricks\n",
    "\n",
    "I find it extremely useful to explore libraries interatively in python. It is often faster and more honest than looking up the documenation."
   ]
  },
  {
   "cell_type": "code",
   "execution_count": null,
   "metadata": {
    "scrolled": true
   },
   "outputs": [],
   "source": [
    "p = Real(\"p\") # Define the z3 expression of Real constant value 3.\n",
    "type(p) # What is the type of this thing\n",
    "help(p) # What is the documentation. z3 has quite lovely documentation actually.\n",
    "dir(p) # Does this thing have any suspicious looking functions?"
   ]
  },
  {
   "cell_type": "markdown",
   "metadata": {},
   "source": [
    "### * Getting Values out of Z3 models\n",
    "\n",
    "z3 has a number of helper functions like `solve` above, but a more powerful interface is through the Solver class"
   ]
  },
  {
   "cell_type": "code",
   "execution_count": 33,
   "metadata": {},
   "outputs": [
    {
     "name": "stdout",
     "output_type": "stream",
     "text": [
      "sat\n",
      "2\n",
      "0.3333333333333333\n",
      "3735928559\n",
      "True\n",
      "sat\n",
      "-3109888511975/2199023255552\n",
      "-1.414213562372879\n"
     ]
    }
   ],
   "source": [
    "x = Int(\"x\")\n",
    "y = Real(\"y\")\n",
    "z = Real(\"z\")\n",
    "p = Bool(\"p\")\n",
    "a = BitVec(\"a\",32)\n",
    "\n",
    "s = Solver()\n",
    "s.add(x == 2)\n",
    "s.add(y == 1/3)\n",
    "s.add(p == True)\n",
    "s.add(a == 0xDEADBEEF)\n",
    "print(s.check())\n",
    "m = s.model()\n",
    "\n",
    "print(m[x].as_long())\n",
    "print(m[y].numerator_as_long() / m[y].denominator_as_long())\n",
    "print(m[a].as_long())\n",
    "print(bool(m[p]))\n",
    "\n",
    "m.eval(2*x + 1) # you can also evaluate z3 expressions in the context of the model\n",
    "      \n",
    "s = Solver()     \n",
    "s.add(z ** 2 == 2)\n",
    "print(s.check())\n",
    "m = s.model()\n",
    "print(m[z].approx())\n",
    "print(m[z].approx().numerator_as_long() / m[z].approx().denominator_as_long())"
   ]
  },
  {
   "cell_type": "markdown",
   "metadata": {},
   "source": [
    "### * Conversion Functions\n",
    "\n",
    "It is useful to sometimes convert between sorts. There are conversion functions for that for many different sorts. Here is a simple example."
   ]
  },
  {
   "cell_type": "code",
   "execution_count": 3,
   "metadata": {},
   "outputs": [
    {
     "data": {
      "text/html": [
       "ToInt(y)"
      ],
      "text/plain": [
       "ToInt(y)"
      ]
     },
     "execution_count": 3,
     "metadata": {},
     "output_type": "execute_result"
    }
   ],
   "source": [
    "x = Int(\"x\")\n",
    "y = Real(\"y\")\n",
    "ToReal(x)\n",
    "ToInt(y)"
   ]
  },
  {
   "cell_type": "markdown",
   "metadata": {},
   "source": [
    "## * Simplifying expressions with z3"
   ]
  },
  {
   "cell_type": "markdown",
   "metadata": {},
   "source": [
    "Z3 can be used to simplify expressions similar to how one might use sympy or mathematica."
   ]
  },
  {
   "cell_type": "code",
   "execution_count": 34,
   "metadata": {},
   "outputs": [
    {
     "name": "stdout",
     "output_type": "stream",
     "text": [
      "3 + 3*x + y\n",
      "Not(y <= -2)\n",
      "And(x >= 2, 2*x**2 + y**2 >= 3)\n"
     ]
    }
   ],
   "source": [
    "x = Int('x')\n",
    "y = Int('y')\n",
    "print(simplify(x + y + 2*x + 3))\n",
    "print(simplify(x < y + x + 2))\n",
    "print(simplify(And(x + 1 >= 3, x**2 + x**2 + y**2 + 2 >= 5)))\n",
    "# "
   ]
  },
  {
   "cell_type": "markdown",
   "metadata": {},
   "source": [
    "### * Fresh Variable Names\n",
    "It can be useful to generate variables with fresh names, especially when building problems programmatically. Z3 has built in functionality for this."
   ]
  },
  {
   "cell_type": "code",
   "execution_count": 29,
   "metadata": {
    "scrolled": true
   },
   "outputs": [
    {
     "name": "stdout",
     "output_type": "stream",
     "text": [
      "x!6\n",
      "b!7\n",
      "f!8\n"
     ]
    }
   ],
   "source": [
    "print(FreshReal(prefix=\"x\"))\n",
    "print(FreshBool(prefix=\"b\"))\n",
    "print(FreshConst(IntSort() , prefix=\"f\"))"
   ]
  },
  {
   "cell_type": "markdown",
   "metadata": {},
   "source": [
    "# Using Z3 To Find Stuff\n",
    "\n",
    "Z3 is from one perspective just executing very flexible and fast search similar to constraint satisfaction solvers, SAT solvers, and computer algebra systems. \n",
    "There are many practical usages of such things (it's a whole industry).\n",
    " - Graph Coloring (Useful for register allocation for example)\n",
    " - Scheduling Problems\n",
    " - Routing problems\n",
    " - etc.\n",
    " \n",
    " \n",
    "But I happen to like silly puzzles! "
   ]
  },
  {
   "cell_type": "markdown",
   "metadata": {},
   "source": [
    "## 8 Queens\n",
    "\n",
    "The eight queens puzzle is the problem of placing eight chess queens on an 8x8 chessboard so that no two queens attack each other. Thus, a solution requires that no two queens share the same row, column, or diagonal."
   ]
  },
  {
   "cell_type": "code",
   "execution_count": 41,
   "metadata": {},
   "outputs": [
    {
     "name": "stdout",
     "output_type": "stream",
     "text": [
      "[Q_5 = 1,\n",
      " Q_8 = 2,\n",
      " Q_3 = 5,\n",
      " Q_2 = 7,\n",
      " Q_6 = 6,\n",
      " Q_4 = 3,\n",
      " Q_7 = 8,\n",
      " Q_1 = 4]\n"
     ]
    }
   ],
   "source": [
    "# We know each queen must be in a different row.\n",
    "# So, we represent each queen by a single integer: the column position\n",
    "Q = [ Int('Q_%i' % (i + 1)) for i in range(8) ]\n",
    "\n",
    "# Each queen is in a column {1, ... 8 }\n",
    "val_c = [ And(1 <= Q[i], Q[i] <= 8) for i in range(8) ]\n",
    "\n",
    "# At most one queen per column\n",
    "col_c = [ Distinct(Q) ]\n",
    "\n",
    "# Diagonal constraint\n",
    "diag_c = [ If(i == j,\n",
    "              True,\n",
    "              And(Q[i] - Q[j] != i - j, Q[i] - Q[j] != j - i))\n",
    "           for i in range(8) for j in range(i) ]\n",
    "\n",
    "solve(val_c + col_c + diag_c)"
   ]
  },
  {
   "cell_type": "markdown",
   "metadata": {},
   "source": [
    "## Exercise: Send More Money\n",
    "\n",
    "There is an assignment of unique digits to letters such that the equation `send + more = money` holds. Find an assignment of the digits to make this true.\n",
    "\n",
    "Here we show the longer form interface to the Solver as compared to the `solve` convenience method used above."
   ]
  },
  {
   "cell_type": "code",
   "execution_count": 190,
   "metadata": {},
   "outputs": [
    {
     "data": {
      "text/html": [
       "[s = 9, d = 7, n = 6, m = 1, e = 5, o = 0, r = 8, y = 2]"
      ],
      "text/plain": [
       "[s = 9, d = 7, n = 6, m = 1, e = 5, o = 0, r = 8, y = 2]"
      ]
     },
     "execution_count": 190,
     "metadata": {},
     "output_type": "execute_result"
    }
   ],
   "source": [
    "digits = Ints('s e n d m o r y')\n",
    "s,e,n,d,m,o,r,y = digits\n",
    "send = Sum([10**(3-i) * d for i,d in enumerate([s,e,n,d])]) # convert digits of number to number\n",
    "more = Sum([10**(3-i) * d for i,d in enumerate([m,o,r,e])])\n",
    "money = Sum([10**(4-i) * d for i,d in enumerate([m,o,n,e,y])])\n",
    "\n",
    "solver = Solver()\n",
    "solver.add([s > 0, m > 0]) # first digits are nonzero\n",
    "# Constrain all digits constrained to be 0 through 9\n",
    "# solution : solver.add( [And(0 <= d, d <= 9) for d in digits]  )\n",
    "\n",
    "# Constrain all digits unique\n",
    "# Solution: solver.add( [ d1 != d2 for d1 in digits for d2 in digits if not eq(d1,d2)]  ) # unique\n",
    "\n",
    "# Constrain send + more == money\n",
    "# Solution : solver.add(send + more == money)\n",
    "solver.check()\n",
    "solver.model()"
   ]
  },
  {
   "cell_type": "markdown",
   "metadata": {},
   "source": [
    "## * Robot Arm Inverse Kinematics\n",
    "\n",
    "The inverse kinematics problem is to find the angles of the joints of a robot arm in order to place the hand in some position. \n",
    "You can describe the joint positions using polynomial constraints. Pairs of joints are constrained to be a distance apart equal the the length of that piece of the robot arm. You can also enter inequality constraints (like staying out of the floor) with varying amounts of success."
   ]
  },
  {
   "cell_type": "code",
   "execution_count": 120,
   "metadata": {},
   "outputs": [
    {
     "data": {
      "text/html": [
       "[x_(0, 0) = -0.8660254037?,\n",
       " x_(0, 1) = 1/2,\n",
       " x_(1, 0) = -0.8660254037?,\n",
       " x_(1, 1) = 1/2,\n",
       " x_(2, 1) = 1,\n",
       " x_(2, 0) = 0]"
      ],
      "text/plain": [
       "[x_(0, 0) = -0.8660254037?,\n",
       " x_(0, 1) = 1/2,\n",
       " x_(1, 0) = -0.8660254037?,\n",
       " x_(1, 1) = 1/2,\n",
       " x_(2, 1) = 1,\n",
       " x_(2, 0) = 0]"
      ]
     },
     "execution_count": 120,
     "metadata": {},
     "output_type": "execute_result"
    }
   ],
   "source": [
    "#x1,y1,x2,y2,x3,y3= Reals(\"x1 y1 x2 y2 x3 y3\")\n",
    "pos = np.array([  [ Real(f\"x_{(i,j)}\")  for j in range(2)] for i in range(3)])\n",
    "s = Solver()\n",
    "s.add( np.sum(pos[0]**2) == 1 )\n",
    "s.add( np.sum(pos[1]**2) == 1 )\n",
    "s.add( np.sum((pos[2]- pos[0])**2) == 1 )\n",
    "s.add( np.sum((pos[2]- pos[1])**2) == 1 )\n",
    "s.add( pos[2][0] == 0 )\n",
    "s.add( pos[2][1] == 1 )\n",
    "s.check()\n",
    "s.model()\n",
    "# image or plot"
   ]
  },
  {
   "cell_type": "markdown",
   "metadata": {},
   "source": [
    "\n",
    "## * Discrete Tomography\n",
    "\n",
    "Tomographic reconstruction is an interesting class of problems. One example is x-ray tomography. The data you get out is the integrated extinction of an x-ray along a line going thorugh a patient. From the data of many such lines, one can attempt to back out an image of the x-ray absorption through out the patient. \n",
    "A simplified schematic version of this can be done in a discrete setting. We have a binary image and can collect the sums of horizontal, verticals, and diagonals. Then we ask z3 to find an assignment that satisfies these sum constraints. There may or may not be a unique solution.\n",
    "The problem is related to Picross/Nonograms puzzles.\n"
   ]
  },
  {
   "cell_type": "code",
   "execution_count": 37,
   "metadata": {},
   "outputs": [
    {
     "data": {
      "text/plain": [
       "Text(0.5, 1.0, 'Original Image')"
      ]
     },
     "execution_count": 37,
     "metadata": {},
     "output_type": "execute_result"
    },
    {
     "data": {
      "image/png": "[encoded data removed]",
      "text/plain": [
       "<Figure size 432x288 with 1 Axes>"
      ]
     },
     "metadata": {
      "needs_background": "light"
     },
     "output_type": "display_data"
    }
   ],
   "source": [
    "import numpy as np\n",
    "import matplotlib.pyplot as plt\n",
    "bin_img = np.array([\n",
    "[0,0,0,0,0,0,0],\n",
    "[0,0,1,0,1,0,0],\n",
    "[0,0,1,0,1,0,0],\n",
    "[0,0,0,0,0,0,0],\n",
    "[0,1,0,0,0,1,0],\n",
    "[0,0,1,1,1,0,0],\n",
    "[0,0,0,0,0,0,0]])\n",
    "bin_img = np.hstack([bin_img,bin_img.T])\n",
    "bin_img = np.vstack([bin_img,bin_img])\n",
    "plt.imshow(bin_img)\n",
    "plt.title(\"Original Image\")\n"
   ]
  },
  {
   "cell_type": "code",
   "execution_count": 38,
   "metadata": {},
   "outputs": [
    {
     "data": {
      "image/png": "[encoded data removed]",
      "text/plain": [
       "<Figure size 432x288 with 1 Axes>"
      ]
     },
     "metadata": {
      "needs_background": "light"
     },
     "output_type": "display_data"
    }
   ],
   "source": [
    "rows, cols = bin_img.shape\n",
    "bvars = [[ If(Bool(f\"x_({row},{col})\"), IntVal(1),IntVal(0)) for col in range(cols)] for row in range(rows)]\n",
    "\n",
    "s = SolverFor(\"QF_FD\")\n",
    "# for each row, column sum constraint\n",
    "s.add([Sum(bvars[row]) == IntVal(int(np.sum(bin_img[row,:]))) for row in range(rows)]) \n",
    "# for each column, row sum constraint\n",
    "s.add([Sum([bvars[row][col] for row in range(rows)]  ) == IntVal(int(np.sum(bin_img[:,col]))) for col in range(cols)])\n",
    "\n",
    "# diagonal sum constraints\n",
    "for diag in range(rows+cols): # Challenge mode: Can you do this more elegantly and clearly? \n",
    "    s.add(Sum([ bvars[row][col] for row in range(rows) for col in range(cols) if col + row == diag]) == IntVal(int(sum([ bin_img[row,col] for row in range(rows) for col in range(cols) if col + row == diag]))))\n",
    "    s.add(Sum([ bvars[row][col] for row in range(rows) for col in range(cols) if col - row == diag - rows +1]) == IntVal(int(sum([ bin_img[row,col] for row in range(rows) for col in range(cols) if col - row == diag - rows + 1]))))\n",
    "for i in range(50):  # loop through all solutions\n",
    "    res = s.check()\n",
    "    if res == sat:\n",
    "        m = s.model()\n",
    "        sol = [[m.eval(s).as_long() for s in row] for row in bvars]\n",
    "        plt.figure()\n",
    "        plt.imshow(sol)\n",
    "        plt.title(\"Reconstructed Image\")\n",
    "        s.add(Not(And([  And([v == m.eval(v) for v in row]) for row in bvars])))\n",
    "    else:\n",
    "        print(\"No more models\")"
   ]
  },
  {
   "cell_type": "markdown",
   "metadata": {},
   "source": [
    "# Interlude: A Rough Sketch of How Z3 works\n",
    "\n",
    "It is very useful to have at least a simplistic mental model of how a tool works, so that you can predict the places where it might run into difficulty, or formulate your problem in a way amenable to the solver.\n",
    "\n",
    "Z3 (and other related SMT solvers) are built around the core concept of a SAT solver, so let's discuss that first.\n",
    "\n",
    "## SAT Solving\n",
    "\n",
    "A propositional logical formula is a combination of variables, Ands, Ors, Implies, Nots, True, False.\n",
    "If we assign values to the variables, we can evaluate the formula to determine if the whole thing evaulates to true or false. In this sense, formulas feel very much like boolean circuits.\n",
    "\n",
    "One useful question we can ask about a propositional formula is if it is satisfiable. Satisficable means there exists an assignment of the boolean variables to true and false values that makes the entire formula evaluate to true. For a circuit, this is deductively running it backwards to find an input, something that they are physically designed not to do.\n",
    "\n",
    "$$ \\exists x. p(x) = true ?$$\n",
    "\n",
    "Specialized solvers for this question are called SAT solvers, one of which is at the core of z3.\n",
    "\n",
    "Given a satisfying solution, it is quite easy and efficient to check if it is indeed a satisfying solution by merely plugging the solution. It is this property that puts the SAT problem into complexity class NP.\n",
    "\n",
    "In principle, one can answer the SAT question by a brute force search (a giant nested set of `for` loops), enumerating every possible combination of values the variables can take on.\n",
    "\n",
    "However, for every new variable we add the size of the space we are searching is multiplied by 2. Thus brute force becomes an unacceptable approach for a number of variables well below 100.\n",
    "\n",
    "Instead SAT solvers search the space more carefully, trying to deduce and propagate information in a manner somewhat similar to how a human solves a Sudoku puzzle.\n",
    "\n",
    "There are surprising number of useful and interesting questions one can encode into this form to leverage the power of SAT solvers. One very natural application is hardware verification of logical circuits. It is often very useful to even _try_ to twist a problem into a SAT solvable form, because off the shelf solvers have become so good. For example, a path search problem. SAT solvers have even been used to prove previously unproven mathematical conjectures. A revolution in the power of SAT solvers occurred in the 90s/00s where new techniques were found, some of the most prominent of which are backjumping, the two watched literal technique and conflict directed clause learning, and random restart. \n",
    "\n",
    "\n",
    "## SMT solving\n",
    "\n",
    "There are two layers the SMT solver is working at. There may be complex boolean logical structure amenable to a pure SAT solver, but then there is also domain specific structure about the integers, reals, uninterpeted formulas, etc.\n",
    "\n",
    "If we can abstract all complex domain specific facts like the truth of $x + y \\ge 7$ as an opaque boolean variables $p$. We then use the technques of SAT solvers to find a satisfying assignement of these variables. But there are implicit constraints required by the actual intepretation of the boolean variables that may not have been apparent to just the SAT search. So we take the truth assignment and query a theory specific solver to see if that particular assignment is possible. If it is, we are done. If it is not, there is a reason it is not. We add this reason to our boolean formula and iterate.\n",
    "\n",
    "This is where the intimidating name Satisfiability Module Theories comes from. The solver is solving SAT problems, but only accepting solutions that also make sense in underlying domain specific theories (\"modulo-ing\" those solutions out).\n",
    "\n",
    "In actual SMT solvers, there is no reason to not use domain specific information much earlier than after a full boolean assignment. The only objective is to do things that are logically correct and as fast as possible. The SAT solving and the domain specific querying may be very tightly interwoven.\n",
    "\n",
    "It is helpful to know these things so that you can have some intuition for what z3 might like or not like. Z3 will likes conjunction (ANDs) formulas. Every disjunction (ORs) tends to add branching behavior where z3 has to pick which one it wants to be true. Z3 has built in procedures and understanding of\n",
    "\n",
    "- propositional logic via SAT solving\n",
    "- linear equations $3x+ 4y == 7$ \n",
    "- linear inequalities  $ 3x + 4y <= 7$\n",
    "- polynomial equalities $x**2 + y**2 == 2$\n",
    "- Bitvectors, which can also be reduced to SAT by bit-blasting as a last resort.\n",
    "- Arrays\n",
    "- Uninterpeted Functions\n",
    "\n",
    "These pieces give a very powerful and surprisingly flexible base to work from. \n",
    "\n",
    "## What Can't Z3 Do\n",
    "\n",
    "Z3 seems incredibly powerful, and it is. However, I've been cherry picking problems I know it handles well. This is why it's important.\n",
    "\n",
    "Factoring integers is at the heart of RSA cryptography. While Z3 can factor integers, it can't magically factor even moderately big numbers. "
   ]
  },
  {
   "cell_type": "code",
   "execution_count": 4,
   "metadata": {},
   "outputs": [
    {
     "name": "stdout",
     "output_type": "stream",
     "text": [
      "[y = 7, x = 3]\n"
     ]
    }
   ],
   "source": [
    "x,y = Ints(\"x y\")\n",
    "pubkey = 3\t* 7\n",
    "solve(x * y == pubkey, x > 1, y > 1) # easy peasy"
   ]
  },
  {
   "cell_type": "code",
   "execution_count": 5,
   "metadata": {},
   "outputs": [
    {
     "name": "stdout",
     "output_type": "stream",
     "text": [
      "failed to solve\n"
     ]
    }
   ],
   "source": [
    "x,y = Ints(\"x y\")\n",
    "pubkey = 1000000993\t* 1000001011\n",
    "solve(x * y == pubkey, x > 1, y > 1) # nope"
   ]
  },
  {
   "cell_type": "markdown",
   "metadata": {},
   "source": [
    "Nonlinear equations in general are going to be tough. Z3 gives up immediately if you try to find the solution to a seemingly solvable problem involving an exponential. Z3 also can't really understand sines, cosines, and logarithms. The main exception is polynomial equality constraints, for which z3 has an intrinsic understanding, however these routines can be computationally expensive."
   ]
  },
  {
   "cell_type": "code",
   "execution_count": 6,
   "metadata": {},
   "outputs": [
    {
     "name": "stdout",
     "output_type": "stream",
     "text": [
      "unknown\n"
     ]
    }
   ],
   "source": [
    "x = Real('x')\n",
    "s = Solver()\n",
    "s.add(2**x == 3)\n",
    "print(s.check())"
   ]
  },
  {
   "cell_type": "markdown",
   "metadata": {},
   "source": [
    "# Proof = Exhaustively Not Finding Counterexamples\n",
    "\n",
    "So far we've been using z3 to find solutions to a set of constraints/formulas. Z3 is so effective at this process that it can be exhaustive and know when there are no solutions to be found. This is useful for theorem proving. If we state a theorem like `Implies(And(p,q),p)` that must be true for any value of `p` and `q`, we can prove its truth by exhaustively search for a counterexample and failng to find one. A counterexample is an assignment of the variables for which the theorem evaluates to false, or for which the negation `Not(th)` evaluates to true.\n",
    "\n",
    "`solver.check` may return \n",
    "   - sat - I have found a solution. You may ask for it with solver.model\n",
    "   - unknown - This means \"I give up\". There may be a solution out there somewhere, there may not.\n",
    "   - unsat - \"I KNOW there is no solution. I've tried EVERYTHING\".\n",
    "\n",
    "Here is a simplified (not even by that much) version of the convenience function `prove` in which we perform the negation and intepret `unsat` as a proof."
   ]
  },
  {
   "cell_type": "code",
   "execution_count": 40,
   "metadata": {},
   "outputs": [],
   "source": [
    "def prove2(f): # a simplified version of the z3py function \"prove\"\n",
    "    s = Solver()\n",
    "    s.add(Not(f))\n",
    "    if s.check() == unsat:\n",
    "        print(\"proved\")\n",
    "    else:\n",
    "        print(\"failed to prove\")     "
   ]
  },
  {
   "cell_type": "markdown",
   "metadata": {},
   "source": [
    "## Propositional Logic / Boolean Logic\n",
    "\n",
    "Propositional formula are logical formula with boolean variables and logical connectives like and ($\\land$) , or ($\\lor$),  negation ( $ \\neg $ ), and implication $\\implies$. Conceptually, z3 checks all possible assingments of true and false to the variables. If the given formula always evaluates to true under any assignement, z3 states `proved`.\n"
   ]
  },
  {
   "cell_type": "code",
   "execution_count": 41,
   "metadata": {},
   "outputs": [
    {
     "name": "stdout",
     "output_type": "stream",
     "text": [
      "And(p, q)\n",
      "Or(p, q)\n",
      "Xor(p, q)\n",
      "Not(p)\n",
      "Implies(p, q)\n",
      "p == q\n",
      "proved\n"
     ]
    }
   ],
   "source": [
    "# A refresher on basic boolean operations\n",
    "p, q = Bools('p q')\n",
    "print(And(p,q))\n",
    "print(Or(p,q))\n",
    "print(Xor(p,q))\n",
    "print(Not(p))\n",
    "print(Implies(p,q))\n",
    "print(p == q)\n",
    "\n",
    "# a reminder from earlier\n",
    "my_true_thm = Implies(And(p,q), p)\n",
    "prove(my_true_thm)"
   ]
  },
  {
   "cell_type": "markdown",
   "metadata": {},
   "source": [
    "### Exercise\n",
    "Prove De Morgan's Law `p & q == ~ (~p | ~q)`\n"
   ]
  },
  {
   "cell_type": "code",
   "execution_count": 42,
   "metadata": {},
   "outputs": [
    {
     "name": "stdout",
     "output_type": "stream",
     "text": [
      "proved\n"
     ]
    }
   ],
   "source": [
    "prove( And(p,q) == Not(Or(Not(p),Not(q)))) #De Morgan's Law"
   ]
  },
  {
   "cell_type": "markdown",
   "metadata": {},
   "source": [
    "\n",
    "\n",
    "\n"
   ]
  },
  {
   "cell_type": "markdown",
   "metadata": {},
   "source": [
    "## Proving properties of arithmetic\n",
    "\n",
    "Z3 is capable of understanding many of the properties that they taught you in arithmetic."
   ]
  },
  {
   "cell_type": "markdown",
   "metadata": {},
   "source": [
    "### Exercise : Properties of Ints, Reals, and Floats\n",
    "Prove or find counterexamples that over the mathematical integers, 32 bit floats, and 32 bit integers \n",
    "- `x + y == y + x`\n",
    "- `(x + y) + z == x + (y + z)`\n",
    "- `x` is either less than, equal to, or greater than 0\n",
    "- `x**2` is always non negative"
   ]
  },
  {
   "cell_type": "code",
   "execution_count": 60,
   "metadata": {},
   "outputs": [
    {
     "name": "stdout",
     "output_type": "stream",
     "text": [
      "QED. No Counter example\n"
     ]
    }
   ],
   "source": [
    "# solution\n",
    "x = Real(\"x\")\n",
    "y = Real(\"y\")\n",
    "z = Real(\"z\")\n",
    "\n",
    "# Prove Properties here\n",
    "''' solution\n",
    "prove(x + y == y + x) #Commutativity\n",
    "prove(((x + y) + z) == ((x + (y + z)))) #associativity\n",
    "prove(x + 0 == x) # 0 additive identity\n",
    "prove(1 * x == x)\n",
    "prove(Or(x > 0, x < 0, x == 0))\n",
    "prove(x * (y + z) == x * y + x * z)\n",
    "prove(x ** 2 >= 0)\n",
    "'''\n",
    "\n",
    "# Ints\n",
    "x = Int(\"x\")\n",
    "y = Int(\"y\")\n",
    "z = Int(\"z\")\n",
    "\n",
    "'''solution\n",
    "\n",
    "'''\n",
    "\n",
    "x = FP(\"x\", Float64())\n",
    "y = FP(\"y\", Float64())\n",
    "z = FP(\"z\", Float64())\n",
    "\n",
    "''' solution\n",
    "prove(x + y == y + x)\n",
    "prove((x + y) + z == x + (y + z))\n",
    "'''\n",
    "\n",
    "\n",
    "'''\n",
    "x = BitVec(\"x\", 64)\n",
    "y = BitVec(\"y\", 64)\n",
    "z = BitVec(\"z\", 64)\n",
    "prove((x + y) + z == x + (y + z))\n",
    "'''"
   ]
  },
  {
   "cell_type": "markdown",
   "metadata": {},
   "source": [
    "\n",
    "            \n",
    "    \n"
   ]
  },
  {
   "cell_type": "markdown",
   "metadata": {},
   "source": [
    "## * Properties of Vectors\n",
    "\n",
    "I find a sometimes useful trick is to embed python objects into numpy arrays. When you do this, you get numpy array slicing and broadcasting, vectorized addition, matrix multiplication and scalar multiplication for free. Here for example, this makes for succinct expression of some properties of linear algebra."
   ]
  },
  {
   "cell_type": "code",
   "execution_count": 75,
   "metadata": {},
   "outputs": [
    {
     "name": "stdout",
     "output_type": "stream",
     "text": [
      "proved\n",
      "proved\n",
      "proved\n",
      "proved\n",
      "proved\n"
     ]
    }
   ],
   "source": [
    "import numpy as np\n",
    "\n",
    "q = np.array([x,y]) \n",
    "x = Real(\"x\")\n",
    "np.dot(q, q) # dot product\n",
    "np.array([x]) * q # scalar product\n",
    "q * x # scalar product\n",
    "\n",
    "np.RealVal = np.vectorize(RealVal) # simple mapping of functions over a vector\n",
    "\n",
    "import operator as op\n",
    "def vec_eq(x,y):\n",
    "    return And(np.vectorize(op.eq)(x,y).tolist())\n",
    "def NPArray(n, prefix=None, dtype=RealSort()): # a vector of fresh variables.\n",
    "    return np.array( [FreshConst(dtype, prefix=prefix) for i in range(n)] )\n",
    "\n",
    "\n",
    "u = NPArray(2)  \n",
    "v = NPArray(2)\n",
    "w = NPArray(2)\n",
    "\n",
    "prove(vec_eq(   v + u       ,  u + v            )) #commutativity\n",
    "prove(vec_eq(   v + (u + w) , (v + u) + w       )) # associativity\n",
    "prove(vec_eq(  (v + w) * x  , (w * x) + (v * x) ))# scalar distrubitivity\n",
    "prove(np.dot(v, u)**2 <= np.dot(v,v) * np.dot(u,u)) #cauchy schwartz inequality\n",
    "\n",
    "\n",
    "# proving properties of a linear operator defined by a matrix\n",
    "\n",
    "def Z(x):\n",
    "    z = np.RealVal( np.arange(4).reshape(2,2) )\n",
    "    return z @ x\n",
    "\n",
    "def linear(Z):\n",
    "    x = NPArray(2)\n",
    "    y = NPArray(2)\n",
    "    return vec_eq(Z(x + y), Z(x) + Z(y))\n",
    "\n",
    "\n",
    "p = linear(Z)\n",
    "prove(p)\n"
   ]
  },
  {
   "cell_type": "markdown",
   "metadata": {},
   "source": [
    "## * Geometric Theorem Proving\n",
    "\n",
    "You can convert geometric theorems into systems of polynomial equations.\n",
    "\n",
    "Consider the following. You have a circle with a diameter. Pick an arbitrary point on the circle and connect it with lines to the points on the diameter. Is the angle formed by these lines a perpendicular angle?\n",
    "\n",
    "Two useful definitions:\n",
    "\n",
    "- A point can be constrained to a circle by `x**2 + y**2 == R**2`. \n",
    "- Perpendicularity can be defined as the dot product of the vectors going along the two lines is 0. \n",
    "\n",
    "![my_circle](circle_diagram.png)"
   ]
  },
  {
   "cell_type": "code",
   "execution_count": 40,
   "metadata": {},
   "outputs": [
    {
     "name": "stdout",
     "output_type": "stream",
     "text": [
      "proved\n"
     ]
    }
   ],
   "source": [
    "x, y = Reals(\"x y\") # point on circle\n",
    "# assume wlog horizontal diameter y = 0. Hits circle at x = 1, x = -1\n",
    "d1 = (x - 1, y) # vector along line 1\n",
    "d2 = (x + 1, y) # vector along line 2\n",
    "perp = d1[0]*d2[0]+d1[1]*d2[1] == 0 #perpendicularity constraint\n",
    "prove(Implies(x**2 + y**2 == 1, perp))"
   ]
  },
  {
   "cell_type": "markdown",
   "metadata": {},
   "source": [
    "#### Triangle proofs\n",
    "This is a proof of properties of the barycenter of a triangle."
   ]
  },
  {
   "cell_type": "code",
   "execution_count": 40,
   "metadata": {},
   "outputs": [
    {
     "name": "stdout",
     "output_type": "stream",
     "text": [
      "proved\n",
      "proved\n"
     ]
    }
   ],
   "source": [
    "#x1,y1,x2,y2,x3,y3 = Reals(\"x1 y1 x2 y2 x3 y3\")\n",
    "p1 = np.array(Reals(\"x1 y1\"))\n",
    "p2 = np.array(Reals(\"x2 y2\"))\n",
    "p3 = np.array(Reals(\"x3 y3\"))\n",
    "\n",
    "\n",
    "pb = (p1 + p2 + p3) / 3 # barycenter of triangle\n",
    "\n",
    "# midpoints\n",
    "m12 = (p1+p2) /2 \n",
    "m23 = (p2+p3) /2\n",
    "m31 = (p3+p1) /2\n",
    "\n",
    "# The fraction 2/3\n",
    "t12, t23, t31 = Q(2,3), Q(2,3), Q(2,3)\n",
    "\n",
    "# intersection point of two middles\n",
    "a12 = p3 + (m12 - p3) * t12\n",
    "a23 = p1 + (m23 - p1) * t23\n",
    "b31 = p2 + (m31 - p2) * t31\n",
    "\n",
    "import operator as op\n",
    "def vec_eq(x,y):\n",
    "    return And(np.vectorize(op.eq)(x,y).tolist())\n",
    "\n",
    "prove(And(vec_eq(a12,pb), vec_eq(a23,pb), vec_eq( b31,pb)))\n",
    "\n",
    "def norm2(x):\n",
    "    return np.dot(x,x)\n",
    "prove(norm2(m12-p3) / 3**2 == norm2( m12 - a12) ) # distance is 1/3 \n"
   ]
  },
  {
   "cell_type": "markdown",
   "metadata": {},
   "source": [
    "## Bit Tricks\n",
    "(from the z3 tutorial)\n",
    "\n",
    "Some low level hacks are very popular with C programmers. Here is a list of cool bit tricks\n",
    "http://graphics.stanford.edu/~seander/bithacks.html\n",
    "\n",
    "### Power of two\n",
    "This hack is frequently used in C programs (Z3 included) to test whether a machine integer is a power of two. We can use Z3 to prove it really works. The claim is that x != 0 && !(x & (x - 1)) is true if and only if x is a power of two.\n"
   ]
  },
  {
   "cell_type": "code",
   "execution_count": 11,
   "metadata": {},
   "outputs": [
    {
     "name": "stdout",
     "output_type": "stream",
     "text": [
      "And(x != 0, x & x - 1 == 0)\n",
      "proved\n",
      "trying to prove buggy version...\n",
      "counterexample\n",
      "[x = 0]\n"
     ]
    }
   ],
   "source": [
    "x      = BitVec('x', 32)\n",
    "powers = [ 2**i for i in range(32) ]\n",
    "fast   = And(x != 0, x & (x - 1) == 0)\n",
    "slow   = Or([ x == p for p in powers ])\n",
    "print(fast)\n",
    "prove(fast == slow)\n",
    "\n",
    "print(\"trying to prove buggy version...\")\n",
    "fast   = x & (x - 1) == 0\n",
    "prove(fast == slow)"
   ]
  },
  {
   "cell_type": "markdown",
   "metadata": {},
   "source": [
    "### Exercise: Opposite signs\n",
    "The following simple hack can be used to test whether two machine integers have opposite signs."
   ]
  },
  {
   "cell_type": "code",
   "execution_count": 12,
   "metadata": {},
   "outputs": [
    {
     "name": "stdout",
     "output_type": "stream",
     "text": [
      "proved\n"
     ]
    }
   ],
   "source": [
    "x      = BitVec('x', 32)\n",
    "y      = BitVec('y', 32)\n",
    "\n",
    "# Claim: (x ^ y) < 0 iff x and y have opposite signs\n",
    "trick  = (x ^ y) < 0\n",
    "\n",
    "# Naive way to check if x and y have opposite signs\n",
    "opposite = \n",
    "''' solution\n",
    "   Or(And(x < 0, y >= 0),\n",
    "   And(x >= 0, y < 0))\n",
    "'''\n",
    "\n",
    "prove(trick == opposite)"
   ]
  },
  {
   "cell_type": "markdown",
   "metadata": {},
   "source": [
    "## * Verifying the Babylonian Square Root Method\n",
    "\n",
    "The babylonian method is an iterative procedure for computing square roots. You take an initial guess and then compute the next iteration using the formula\n",
    "$ x_{n+1} = \\frac{1}{2}(\\frac{r}{x_n} + x_n)$\n",
    "Intuitively, if your current $x$ is low for the square root of $r$, $\\frac{r}{x}$ is high. If $x$ is high, $\\frac{r}{x}$ is low. So if you take the average of the two, you're hopefully getting closer to the real answer.\n",
    "We can also see that if you are precisely at the square root $x = \\sqrt{r}$, (r/x + x)/2 is a fixed point of the iteration. $\\frac{1}{2}(\\frac{r}{x} + x) = \\frac{1}{2}(\\frac{r}{\\sqrt{r}} + \\sqrt{r}) = \\sqrt{r}$\n",
    "\n",
    "How good is the method after 7 iterations though? What precision can we rely on? Well, we can ask z3 to prove a bound."
   ]
  },
  {
   "cell_type": "code",
   "execution_count": 5,
   "metadata": {},
   "outputs": [
    {
     "name": "stdout",
     "output_type": "stream",
     "text": [
      "proved\n"
     ]
    }
   ],
   "source": [
    "def babylonian(x):\n",
    "    res = 1\n",
    "    for i in range(7):\n",
    "        res = (x / res + res) / 2\n",
    "    return res    \n",
    "\n",
    "def bab_iter(x, y):\n",
    "    return (x / y + y) / 2\n",
    "\n",
    "x, y = Reals(\"x y\")\n",
    "prove(Implies(And(y**2 == x, y >= 0, 0 <= x, x <= 10), babylonian(x) - y <= 0.01))"
   ]
  },
  {
   "cell_type": "code",
   "execution_count": 7,
   "metadata": {},
   "outputs": [
    {
     "data": {
      "image/png": "[encoded data removed]",
      "text/plain": [
       "<Figure size 432x288 with 1 Axes>"
      ]
     },
     "metadata": {
      "needs_background": "light"
     },
     "output_type": "display_data"
    }
   ],
   "source": [
    "# This is also pretty convincing\n",
    "import matplotlib.pyplot as plt\n",
    "import numpy as np\n",
    "xs = np.linspace(0,10)\n",
    "plt.plot( xs, babylonian(xs)- np.sqrt(xs))\n",
    "plt.show()\n"
   ]
  },
  {
   "cell_type": "markdown",
   "metadata": {},
   "source": [
    "## Sorting Networks\n",
    "\n",
    "Sorting networks are a circuit flavored take on sorting. Although you can build circuits for any size input, any paritcular circuit works for a fixed sized input. They are like an unrolling of the loops or recursion of regular style sorting algorithms.\n",
    "https://en.wikipedia.org/wiki/Sorting_network\n",
    "\n",
    "Here's an interesting thing. We can go to Wikipedia and get a little python snippet for the comparison order of a Batcher even-odd mergesort. https://en.wikipedia.org/wiki/Batcher_odd%E2%80%93even_mergesort Kind of a confusing algorithm. Why does it even work? Is it even right?\n",
    "\n",
    "![batcher](batcher.png)"
   ]
  },
  {
   "cell_type": "code",
   "execution_count": 52,
   "metadata": {},
   "outputs": [
    {
     "data": {
      "text/plain": [
       "[(0, 1),\n",
       " (2, 3),\n",
       " (0, 2),\n",
       " (1, 3),\n",
       " (1, 2),\n",
       " (4, 5),\n",
       " (6, 7),\n",
       " (4, 6),\n",
       " (5, 7),\n",
       " (5, 6),\n",
       " (0, 4),\n",
       " (2, 6),\n",
       " (2, 4),\n",
       " (1, 5),\n",
       " (3, 7),\n",
       " (3, 5),\n",
       " (1, 2),\n",
       " (3, 4),\n",
       " (5, 6)]"
      ]
     },
     "execution_count": 52,
     "metadata": {},
     "output_type": "execute_result"
    }
   ],
   "source": [
    "# from https://en.wikipedia.org/wiki/Batcher_odd%E2%80%93even_mergesort\n",
    "def oddeven_merge(lo: int, hi: int, r: int):\n",
    "    step = r * 2\n",
    "    if step < hi - lo:\n",
    "        yield from oddeven_merge(lo, hi, step)\n",
    "        yield from oddeven_merge(lo + r, hi, step)\n",
    "        yield from [(i, i + r) for i in range(lo + r, hi - r, step)]\n",
    "    else:\n",
    "        yield (lo, lo + r)\n",
    "\n",
    "def oddeven_merge_sort_range(lo: int, hi: int):\n",
    "    \"\"\" sort the part of x with indices between lo and hi.\n",
    "\n",
    "    Note: endpoints (lo and hi) are included.\n",
    "    \"\"\"\n",
    "    if (hi - lo) >= 1:\n",
    "        # if there is more than one element, split the input\n",
    "        # down the middle and first sort the first and second\n",
    "        # half, followed by merging them.\n",
    "        mid = lo + ((hi - lo) // 2)\n",
    "        yield from oddeven_merge_sort_range(lo, mid)\n",
    "        yield from oddeven_merge_sort_range(mid + 1, hi)\n",
    "        yield from oddeven_merge(lo, hi, 1)\n",
    "\n",
    "def oddeven_merge_sort(length: int):\n",
    "    \"\"\" \"length\" is the length of the list to be sorted.\n",
    "    Returns a list of pairs of indices starting with 0 \"\"\"\n",
    "    yield from oddeven_merge_sort_range(0, length - 1)\n",
    "\n",
    "def compare_and_swap(x, a, b) -> None:\n",
    "    if x[a] > x[b]:\n",
    "        x[a], x[b] = x[b], x[a]\n",
    "        \n",
    "list(oddeven_merge_sort(8)) # compare and swap sequence for 8 items"
   ]
  },
  {
   "cell_type": "markdown",
   "metadata": {},
   "source": [
    "Well we can confirm this relatively straightforwardly using z3 by replacing the implementation of compare_and_swap with it's z3 equivalent."
   ]
  },
  {
   "cell_type": "code",
   "execution_count": 53,
   "metadata": {},
   "outputs": [],
   "source": [
    "def compare_and_swap_z3(x,y):\n",
    "    x1, y1 = FreshInt(), FreshInt()\n",
    "    c = If(x <= y, And(x1 == x, y1 == y) , And(x1 == y, y1 == x) )\n",
    "    return x1, y1, c"
   ]
  },
  {
   "cell_type": "markdown",
   "metadata": {},
   "source": [
    "It's somewhat interesting to note that the output of odd_even_merge is a sequence of instructions, we can think of this as intepreting a very small 1 instruction (compare_and_swap) programming language."
   ]
  },
  {
   "cell_type": "code",
   "execution_count": 62,
   "metadata": {},
   "outputs": [
    {
     "name": "stdout",
     "output_type": "stream",
     "text": [
      "proved\n"
     ]
    },
    {
     "data": {
      "text/plain": [
       "True"
      ]
     },
     "execution_count": 62,
     "metadata": {},
     "output_type": "execute_result"
    }
   ],
   "source": [
    "# predicates of interest\n",
    "def sorted_list(x): # list is sorted\n",
    "    return And([x <= y for x,y in zip(x , x[1:])])\n",
    "def in_list(x,a): # x is in the list of a\n",
    "    return Or([x == y for y in a])\n",
    "def sub_list(a, b): # all elements of a appear in b\n",
    "    return And([in_list(x,a) for x in b ])\n",
    "def same_elems(a,b): # a contains the same elements as b\n",
    "    return And(sub_list(a,b), sub_list(b,a))\n",
    "\n",
    "def verify_network(pairs_to_compare, N):\n",
    "    s = Solver()\n",
    "\n",
    "    a = [Int(f\"x_{i}\") for i in range(N)] #build initial array in z3 variables\n",
    "\n",
    "    #a_orig = a.copy() # keep around copy for correctness predicate\n",
    "    for i,j in pairs_to_compare:\n",
    "       x = a[i]\n",
    "       y = a[j]\n",
    "       x1, y1, c = compare_and_swap_z3(x,y) \n",
    "       a[i] = x1\n",
    "       a[j] = y1\n",
    "       s.add(c)\n",
    "\n",
    "    #s.add(Not(And(sorted_list(a), same_elems(a_orig,a))))\n",
    "    s.add(Not(sorted_list(a)))\n",
    "    if s.check() == unsat:\n",
    "        print(\"proved\")\n",
    "        return True\n",
    "    else:\n",
    "        return False\n",
    "N = 8\n",
    "verify_network(list(oddeven_merge_sort(N)), N)"
   ]
  },
  {
   "cell_type": "markdown",
   "metadata": {},
   "source": [
    "Here's a reasonable sounding question: Can we prove that the batcher even-odd sort is correct for all possible sizes N? \n",
    "Actually, this is very difficult to express in Z3 because here we run into a usage of induction, something Z3 is rather weak at.\n",
    "In fact such a question is best verified by a tool like Coq, which Cody will talk about this afternoon."
   ]
  },
  {
   "cell_type": "markdown",
   "metadata": {},
   "source": [
    "### Synthesis of optimal sorting networks\n",
    "An optimal sortintg network is one that uses the minimal number of compare and swap operations. The batcher even-odd merge sort is good, but perhaps not optimal. What is? We we can find it by enumerating all possible combinations of compare and swaps and the finding one that passes verification as a sorting algorithm. This is an example of program synethesis."
   ]
  },
  {
   "cell_type": "code",
   "execution_count": 63,
   "metadata": {},
   "outputs": [
    {
     "name": "stdout",
     "output_type": "stream",
     "text": [
      "trying size: 0\n",
      "trying size: 1\n",
      "trying size: 2\n",
      "trying size: 3\n",
      "trying size: 4\n",
      "trying size: 5\n",
      "proved\n"
     ]
    },
    {
     "data": {
      "text/plain": [
       "[(1, 3), (0, 2), (2, 3), (0, 1), (1, 2)]"
      ]
     },
     "execution_count": 63,
     "metadata": {},
     "output_type": "execute_result"
    }
   ],
   "source": [
    "\n",
    "def all_swaps(m): # all pairs of integers from 0 to m-1\n",
    "    return [ [(i, j)] for i in range(m) for j in range(i+1, m) ]\n",
    "    \n",
    "# All list of length n on swaps on m wires \n",
    "def all_networks(m, n): \n",
    "   if n == 0:\n",
    "     return []\n",
    "   elif n == 1:\n",
    "     return all_swaps(m)\n",
    "   else:\n",
    "     return [ c + swap for c in all_networks(m,n-1) for swap in all_swaps(m)]\n",
    "\n",
    "\n",
    "def synthesize(N):\n",
    "    for n in range(N**2): # we can definitely do it in N*2 gates.\n",
    "       print(f\"trying network size: {n}\")\n",
    "       for pairs_to_compare in all_combos(N,n):   \n",
    "           if verify_network(pairs_to_compare, N):\n",
    "               return pairs_to_compare\n",
    "\n",
    "\n",
    "synthesize(4)"
   ]
  },
  {
   "cell_type": "markdown",
   "metadata": {},
   "source": [
    "The space we are naively looking through is very very large. Consider what else might you want to do to speed things up. Early pruning of bad networks with testing, avoiding ever looking at obviously bad networks, maybe the completely optimal sorting network isn't necessary for you. Maybe a randomized search might be faster. "
   ]
  },
  {
   "cell_type": "markdown",
   "metadata": {},
   "source": [
    "## Verifying a neural network\n",
    "\n",
    "Neural networks are all the rage these days. One way of looking at neural networks is that they are a flexibly parametrized class of functions. What makes them useful is: \n",
    "\n",
    "1. They can be used at insane scale due to their simplicity and excellent available implementations.\n",
    "2. There are intuitive ways to input abstract structure and symmetry expected of a problem, for example translation symmetry, or a hierarchy of small scale pattern recognition combining into large scale strutures\n",
    "3. Inspirational analogies can be drawn from nature.\n",
    "\n",
    "Neural networks made out of just relus (rectified linear units, relu(x) = max(0,x) ) and linear layers are particularly amenable to formal analysis. Regarding the weights as fixed, a neural network is a piecewise linear function and piecewise linear functions are among the functions most amenable to rigoruous anaysis.\n",
    "\n",
    "Most machine learning tasks don't have a mathematically precise specification. What is the mathematically precise definition of a picture of a horse? We could try to come up with something, but in my opinion it would be rather suspect. \n",
    "\n",
    "The surprising power of neural networks has often been in areas where a mathematically precise rule based specification has not worked. Tasks that DO have a spec are questionable areas for machine learning techniques, because how can you know that the network meets the spec? Also, one would suspect such a problem would have exploitable structure such that you might be better off with a less general purpose approach. \n",
    "\n",
    "However, there a a couple areas where one does have reasonable formal questions one might want to ask about a neural network:\n",
    "- Robustness around training examples and valdiation examples. Adversarial examples.\n",
    "- Control Systems - There are many control systems which we do have a reasonable formal spec one could write such as walking robots. These systems are so high dimensional that it is difficult to derive a good controller from the spec, and hence reinforcement learning may be a reasonable option\n",
    "- Neural networks as computational accelerators. There are problems which we know how to solve, but are very slow. It may be useful to presolve a large number of examples offline and train a neural network to give good estimates. Neural networks can be evaluated very quickly and easily thanks to modern frameworks.\n",
    "- Dead neuron pruning. Can we show that some neuron never fires over the domain of interest?\n",
    "  \n",
    "\n",
    "Here we'll train a network to fit a simple 1-D function and then verify it's accuracy. This is of course a complete toy. How often do you see 1-D input space neural networks? Not often I bet.\n",
    "\n",
    "But it's nice for a couple reasons:\n",
    "1. Because we can visualize it. \n",
    "2. It drives home the point about neural nets being a space of piecewise linear function approximators, and how similar training is to curve fitting.\n",
    "3. It's simple enough that z3 can crush it. There is a big question if z3 or other formal methods can scale to modern neural nets. Modern top of the line neural nets are insanely huge. There are special purpose SMT solvers being built for this task. There are other approaches being pursued such as the use of mixed integer programming solvers. So this is an area of research. Come see tomorrow's talk for more!\n",
    "\n",
    "\n",
    "The combination of the capabilities of sympy and z3 give us access to some very intriguing possibilities. We're not going to investigate this in detail, but we are showing how you can convert a sympy derived polynomial into a python expression using `lambdify`, which can then be in turn used on z3 variables.\n",
    "Here we're picking a chebyshev polynomial as our base truth because chebyshev polynomials have some pleasant waviness to them"
   ]
  },
  {
   "cell_type": "code",
   "execution_count": 34,
   "metadata": {},
   "outputs": [
    {
     "data": {
      "image/png": "[encoded data removed]",
      "text/plain": [
       "<Figure size 432x288 with 1 Axes>"
      ]
     },
     "metadata": {
      "needs_background": "light"
     },
     "output_type": "display_data"
    }
   ],
   "source": [
    "import sympy as sy\n",
    "import matplotlib.pyplot as plt\n",
    "import numpy as np\n",
    "x = sy.symbols('x')\n",
    "cheb = sy.lambdify(x, sy.chebyshevt(4,x))\n",
    "xs = np.linspace(-1,1,1000)\n",
    "ys = cheb(xs)\n",
    "plt.plot(xs, ys)\n",
    "plt.show()"
   ]
  },
  {
   "cell_type": "code",
   "execution_count": 7,
   "metadata": {},
   "outputs": [
    {
     "data": {
      "image/png": "[encoded data removed]",
      "text/plain": [
       "<Figure size 432x288 with 1 Axes>"
      ]
     },
     "metadata": {
      "needs_background": "light"
     },
     "output_type": "display_data"
    }
   ],
   "source": [
    "plt.plot(xs, np.maximum(0,xs))\n",
    "plt.title(\"relu\")\n",
    "plt.show()"
   ]
  },
  {
   "cell_type": "code",
   "execution_count": 38,
   "metadata": {},
   "outputs": [
    {
     "data": {
      "image/png": "[encoded data removed]",
      "text/plain": [
       "<Figure size 432x288 with 1 Axes>"
      ]
     },
     "metadata": {
      "needs_background": "light"
     },
     "output_type": "display_data"
    }
   ],
   "source": [
    "import tensorflow as tf\n",
    "from tensorflow import keras\n",
    "\n",
    "# Helper libraries\n",
    "import numpy as np\n",
    "import matplotlib.pyplot as plt\n",
    "\n",
    "model = keras.Sequential([\n",
    "    keras.layers.Dense(20, activation='relu', input_shape=[1]),\n",
    "    keras.layers.Dense(25, activation='relu'),\n",
    "    keras.layers.Dense(1)\n",
    "])\n",
    "\n",
    "optimizer = tf.keras.optimizers.Adam()\n",
    "\n",
    "model.compile(loss='mse',\n",
    "              optimizer=optimizer,\n",
    "              metrics=['mae', 'mse'])\n",
    "\n",
    "model.fit(xs, ys, epochs=100, verbose=0)\n",
    "plt.plot(xs,model.predict(xs))\n",
    "plt.show()"
   ]
  },
  {
   "cell_type": "code",
   "execution_count": 66,
   "metadata": {},
   "outputs": [
    {
     "name": "stdout",
     "output_type": "stream",
     "text": [
      "unsat\n"
     ]
    }
   ],
   "source": [
    "w1, b1, w2, b2, w3, b3 = model.get_weights() # unpack weights from model\n",
    "\n",
    "def Relu(x):\n",
    "    return np.vectorize(lambda y: If(y >= 0 , y, RealVal(0)))(x)\n",
    "\n",
    "# reinterpet network symbolically using z3 variables.\n",
    "def net(x):\n",
    "    x1 = w1.T @ x + b1\n",
    "    y1 = Relu(x1)\n",
    "    x2 = w2.T @ y1 + b2\n",
    "    y2 = Relu(x2)\n",
    "    x3 = w3.T @ y2 + b3\n",
    "    return x3\n",
    "\n",
    "x = np.array([Real('x')])\n",
    "y_true = cheb(x)\n",
    "y_pred = net(x)\n",
    "s = Solver()\n",
    "s.add(-1 <= x[0], x[0] <= 1) # constraint input to [-1,1] interval\n",
    "\n",
    "def Abs(x):\n",
    "    return If(x <= 0, -x, x)\n",
    "s.add(Abs( y_pred[0] - y_true[0] ) >= 0.5) # Is there an input with absolute error greater than 0.5?\n",
    "\n",
    "res = s.check()\n",
    "print(res)\n",
    "if res == sat:\n",
    "    m = s.model()\n",
    "    print(\"Bad x value:\", m[x[0]])\n",
    "    x_bad = m[x[0]].numerator_as_long() / m[x[0]].denominator_as_long() \n",
    "    print(\"Error of prediction: \", abs(model.predict(np.array([x_bad])) - cheb(x_bad)))"
   ]
  },
  {
   "cell_type": "markdown",
   "metadata": {},
   "source": [
    "## * An Inductive Fact About a Sum\n",
    "\n",
    "Z3 can crush finite structures, but isn't particularly designed for proving facts about the infinite. Questions like these need some kind of inductive reaosning.\n",
    "Here is an example trying to prove a closed form for the sum $\\sum_{i=0}^n i = \\frac{n(n+1)}{2}$"
   ]
  },
  {
   "cell_type": "code",
   "execution_count": 9,
   "metadata": {},
   "outputs": [
    {
     "data": {
      "text/html": [
       "<b>unknown</b>"
      ],
      "text/plain": [
       "unknown"
      ]
     },
     "execution_count": 9,
     "metadata": {},
     "output_type": "execute_result"
    }
   ],
   "source": [
    "n = Int(\"n\")\n",
    "Sumn = Function(\"sumn\", IntSort(), IntSort())\n",
    "s = Solver()\n",
    "s.add( Sumn(0) == 0)\n",
    "s.add(ForAll([n], Sumn(n+1) == n + 1 + Sumn(n)))\n",
    "s.add(Not(ForAll([n], Implies(n >= 0, 2 * Sumn(n) == n * (n + 1)))))\n",
    "s.check()"
   ]
  },
  {
   "cell_type": "markdown",
   "metadata": {},
   "source": [
    "By maually instantiating an induction principle, we can get this to go through forever, however this process is not at all fool proof. Ultimately, it appears that complicated questions like these are best treated in interactive proof assistants like Coq."
   ]
  },
  {
   "cell_type": "code",
   "execution_count": 17,
   "metadata": {},
   "outputs": [
    {
     "name": "stdout",
     "output_type": "stream",
     "text": [
      "proved\n"
     ]
    }
   ],
   "source": [
    "n = Int(\"n\")\n",
    "Sumn = Function(\"sumn\", IntSort(), IntSort())\n",
    "s = Solver()\n",
    "# defining sum(n) = 1 + 2 + 3 + ... n\n",
    "s.add( Sumn(0) == 0)\n",
    "s.add(ForAll([n], Sumn(n+1) == n + 1 + Sumn(n)))\n",
    "def prop_sumn(n):\n",
    "    return 2 * Sumn(n) == n * (n + 1)\n",
    "def induction(p):\n",
    "    n = Int(\"n\")\n",
    "    return Implies(And(  p(0),    ForAll([n],Implies(And(n >= 0, p(n)),p(n+1)))),\n",
    "                     # --------------------------------------------------------\n",
    "                       ForAll( [n] , Implies(n>=0, p(n))))\n",
    "s.add(induction(prop_sumn))\n",
    "s.add( Not(ForAll([n], Implies( n >= 0, prop_sumn(n)))))\n",
    "if s.check() == unsat:\n",
    "    print(\"proved\")"
   ]
  },
  {
   "cell_type": "markdown",
   "metadata": {},
   "source": [
    "# Takeaways and Conclusions"
   ]
  },
  {
   "cell_type": "markdown",
   "metadata": {},
   "source": [
    "# References\n",
    "\n",
    "- rise4fun https://rise4fun.com/z3/tutorialcontent/guide\n",
    "- https://ericpony.github.io/z3py-tutorial/guide-examples.htm\n",
    "- Programming Z3 - https://theory.stanford.edu/~nikolaj/programmingz3.html\n",
    "- Hakank's examples http://www.hakank.org/z3/\n",
    "- Yurichev's book \"SMT by Example\" https://yurichev.com/writings/SAT_SMT_by_example.pdf\n",
    "- Z3 Tutorial paper\n",
    "- http://www.cs.tau.ac.il/~msagiv/courses/asv/z3py/\n",
    "- http://hackage.haskell.org/package/sbv\n",
    "- https://www.youtube.com/watch?v=ruNFcH-KibY Tikhon Jelvis - Analyzing Programs with Z3\n"
   ]
  }
 ],
 "metadata": {
  "@webio": {
   "lastCommId": null,
   "lastKernelId": null
  },
  "kernelspec": {
   "display_name": "Python 3",
   "language": "python",
   "name": "python3"
  },
  "language_info": {
   "codemirror_mode": {
    "name": "ipython",
    "version": 3
   },
   "file_extension": ".py",
   "mimetype": "text/x-python",
   "name": "python",
   "nbconvert_exporter": "python",
   "pygments_lexer": "ipython3",
   "version": "3.7.5"
  }
 },
 "nbformat": 4,
 "nbformat_minor": 2
}
