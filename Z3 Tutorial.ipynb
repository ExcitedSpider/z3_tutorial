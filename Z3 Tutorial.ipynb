{
 "cells": [
  {
   "cell_type": "markdown",
   "metadata": {},
   "source": [
    "# Z3\n",
    "\n",
    "Z3 is a Satisfiability Modulo Theory solver made by Microsoft Research.\n"
   ]
  },
  {
   "cell_type": "markdown",
   "metadata": {},
   "source": [
    "# Propositional Logic / Boolean Logic\n",
    "\n",
    "Propositional formula are logical formula with boolean variables and logical connectives like and ($\\land$) , or ($\\lor$),  negation ( $ \\neg $ ), and implication $\\implies$.\n"
   ]
  },
  {
   "cell_type": "code",
   "execution_count": 1,
   "metadata": {},
   "outputs": [
    {
     "name": "stdout",
     "output_type": "stream",
     "text": [
      "[q = False, p = False, r = True]\n"
     ]
    }
   ],
   "source": [
    "from z3 import *\n",
    "p = Bool('p')\n",
    "q = Bool('q')\n",
    "r = Bool('r')\n",
    "solve(Implies(p, q), r == Not(q), Or(Not(p), r))\n",
    "\n"
   ]
  },
  {
   "cell_type": "markdown",
   "metadata": {},
   "source": [
    "One useful question we can ask about a propositional formula is if it is satisfiable. Does there exist and assignment of the boolean variables to true and false values that makes the entire formula evaluate to true.\n",
    "\n",
    "$$ \\exists x. p(x) = true ?$$\n",
    "Specialized solvers for this question are called SAT solvers, one of which is at the core of z3.\n",
    "\n",
    "\n",
    "There are surprising number of useful and interesting questions one can encode into this form to leverage the power of SAT solvers. A revolution in the power of SAT solvers occurred in the 90s/00s where new techniques were found \n"
   ]
  },
  {
   "cell_type": "markdown",
   "metadata": {},
   "source": [
    "In principle, one can answer the SAT question by a brute force search, enumerating every possible combination of values the variables can take on."
   ]
  },
  {
   "cell_type": "code",
   "execution_count": 6,
   "metadata": {},
   "outputs": [
    {
     "name": "stdout",
     "output_type": "stream",
     "text": [
      "[(True, True, True, True), (True, True, True, False), (True, True, False, True), (True, False, True, True), (True, False, False, True)]\n"
     ]
    }
   ],
   "source": [
    "def my_formula(p,q,r,s):\n",
    "    return (p or r) and (r or s) and (not p or q or s) and (not r or p)\n",
    "    \n",
    "bs = [True, False]\n",
    "all_sat_solutions = [(p,q,r,s) for p in bs for q in bs for r in bs for s in bs if my_formula(p,q,r,s) ]\n",
    "print(all_sat_solutions)"
   ]
  },
  {
   "cell_type": "markdown",
   "metadata": {},
   "source": [
    "However, for every new variable we add the size of the space we are searching is multiplied by 2. This becomes an unacceptable approach for \n",
    "\n",
    "Given a satisfying solution, it is quite easy and efficient to check if it is indeed a satsifying solution by merely plugging the solution. It is this property that puts the SAT problem into complexity class NP."
   ]
  },
  {
   "cell_type": "code",
   "execution_count": 9,
   "metadata": {},
   "outputs": [
    {
     "data": {
      "text/plain": [
       "[True, True, True, True, True]"
      ]
     },
     "execution_count": 9,
     "metadata": {},
     "output_type": "execute_result"
    }
   ],
   "source": [
    "[my_formula(*sol) for sol in all_sat_solutions]"
   ]
  },
  {
   "cell_type": "markdown",
   "metadata": {},
   "source": [
    "Modelling suggesitons:\n",
    "\n",
    "I find the very most important thing is to ask \"what is the state space of shape of my problem/solution\""
   ]
  },
  {
   "cell_type": "markdown",
   "metadata": {},
   "source": [
    "# Proof = There Are No CounterExamples\n",
    "\n",
    "Validity and Proof\n",
    "\n",
    "Check De Morgan's law.\n",
    "Validity is something that is always true. We can detemrine validity by brute force by checking every possibility and seeing we never get false. Another way of thinking about it is we are searching for a counter example in which we evaluate to false. Via this lens, we can see the the problem is very similar to the satisfaction problem.\n",
    "\n",
    "I think of Z3 as answering existential questions\n",
    "\n",
    "$$ \\forall x. p(x) \\equiv \\neg \\exists x \\neg p(x) $$\n",
    "\n",
    "In implementation, the two negations have a different character to them. The second negation is part of the formula that we throw into z3. The first negation is used in how we interpret the result returned by z3.\n",
    "\n",
    "Think more about NP and Co-NP\n"
   ]
  },
  {
   "cell_type": "code",
   "execution_count": 55,
   "metadata": {},
   "outputs": [
    {
     "name": "stdout",
     "output_type": "stream",
     "text": [
      "QED. No Counter example\n"
     ]
    }
   ],
   "source": [
    "def find_counter_example(formula): #call this prove?\n",
    "    s = Solver()\n",
    "    s.add(Not(formula))\n",
    "    res = s.check()\n",
    "    if res == sat:\n",
    "        print(\"Counter example found:\")\n",
    "        m = s.model()\n",
    "        print(m)\n",
    "    elif res == unsat:\n",
    "        print(\"No Counter example: QED\")\n",
    "    else:\n",
    "        print(\"Somthing has gone awry: \", res)\n",
    "        \n",
    "# prove is laready defined by z3\n",
    "#def prove(f): \n",
    "#    find_counter_example(f)\n",
    "\n",
    "    "
   ]
  },
  {
   "cell_type": "code",
   "execution_count": 56,
   "metadata": {},
   "outputs": [
    {
     "name": "stdout",
     "output_type": "stream",
     "text": [
      "QED. No Counter example\n"
     ]
    }
   ],
   "source": [
    "p = Bool(\"p\")\n",
    "q = Bool(\"q\")\n",
    "prove(Implies(And(p,q), p))"
   ]
  },
  {
   "cell_type": "code",
   "execution_count": 57,
   "metadata": {},
   "outputs": [
    {
     "name": "stdout",
     "output_type": "stream",
     "text": [
      "Counter example found:\n",
      "[p = False, q = True]\n"
     ]
    }
   ],
   "source": [
    "prove(Implies(Or(p,q), p))"
   ]
  },
  {
   "cell_type": "code",
   "execution_count": 59,
   "metadata": {},
   "outputs": [
    {
     "name": "stdout",
     "output_type": "stream",
     "text": [
      "QED. No Counter example\n"
     ]
    }
   ],
   "source": [
    "prove( And(p,q) == Not(Or(Not(p),Not(q)))) #De Morgan's Law"
   ]
  },
  {
   "cell_type": "markdown",
   "metadata": {},
   "source": [
    "# Examples\n",
    "\n",
    "\n",
    "\n",
    "\n",
    "\n",
    "\n",
    "\n",
    "## Circuits and BitVectors. Circuit Equivalence?\n",
    "\n",
    "Clever Catherine has come up with an optimization for a logical circuit. You're a little skeptical. Is it really the same circuit?\n",
    "\n",
    "# BitTricks & Super Optimization\n",
    "\n",
    "Hacker's Delight\n",
    "\n",
    "\n",
    "\n",
    "## The Game of Life\n",
    "\n",
    "## BMC / PegGame / Tic-Tac-Toe / Rubiks cube\n",
    "\n",
    "A useful technqiue \n",
    "\n",
    "# ML verification example?\n",
    "\n",
    "Put in links to stuff.\n",
    "\n",
    "\n",
    "\n",
    "# Crypto puzzle? Cracking?\n",
    "\n",
    "\n",
    "\n"
   ]
  },
  {
   "cell_type": "markdown",
   "metadata": {},
   "source": [
    "## N-Queens\n",
    "Q1: What is the state space?\n",
    "\n",
    "Q2: What are the constraints on the state space?"
   ]
  },
  {
   "cell_type": "code",
   "execution_count": 40,
   "metadata": {},
   "outputs": [
    {
     "data": {
      "text/plain": [
       "[[0, 0, 1, 0, 0, 0, 0, 0],\n",
       " [0, 0, 0, 0, 0, 1, 0, 0],\n",
       " [0, 1, 0, 0, 0, 0, 0, 0],\n",
       " [0, 0, 0, 0, 0, 0, 1, 0],\n",
       " [0, 0, 0, 0, 1, 0, 0, 0],\n",
       " [1, 0, 0, 0, 0, 0, 0, 0],\n",
       " [0, 0, 0, 0, 0, 0, 0, 1],\n",
       " [0, 0, 0, 1, 0, 0, 0, 0]]"
      ]
     },
     "execution_count": 40,
     "metadata": {},
     "output_type": "execute_result"
    }
   ],
   "source": [
    "N = 8\n",
    "spots = [[ Bool(f\"x_({row},{col})\") for col in range(N)] for row in range(N)]\n",
    "s = Solver()\n",
    "\n",
    "def ExactlyOne(xs):\n",
    "    return PbEq([(x,1) for x in xs] , 1) # I went crawling through the z3 docs for this\n",
    "\n",
    "# I'm not happy about pseudo boolean. Not something I want to get into\n",
    "# Maybe cody was right. Do it using a positional encoding\n",
    "# I might also be able to write sum([1*b ] == 1)\n",
    "s.add( PbEq([(spots[row][col],1) for row in range(N) for col in range(N)], N)) # put N queens on the board\n",
    "\n",
    "for row in range(N): #Equality constraint? \n",
    "    s.add(PbLe([ (spots[row][col],1) for col in range(N)] , 1))\n",
    "for col in range(N):\n",
    "    s.add(PbLe( [ (spots[row][col],1) for row in range(N)] , 1))\n",
    "for diag in range(2*N-1): # I really need to think about this    \n",
    "    s.add(PbLe( [(spots[row][col],1) for row in range(N) for col in range(N) if col + row == diag]  , 1))\n",
    "    s.add(PbLe( [(spots[row][col],1) for row in range(N) for col in range(N) if row - col == diag - N + 1]  , 1))\n",
    "s.check()\n",
    "m = s.model()\n",
    "sol = [[int(is_true(m[s])) for s in row] for row in spots]\n",
    "sol"
   ]
  },
  {
   "cell_type": "code",
   "execution_count": 39,
   "metadata": {
    "scrolled": true
   },
   "outputs": [
    {
     "name": "stdout",
     "output_type": "stream",
     "text": [
      "[(0, 4)]\n",
      "[(0, 3), (1, 4)]\n",
      "[(0, 2), (1, 3), (2, 4)]\n",
      "[(0, 1), (1, 2), (2, 3), (3, 4)]\n",
      "[(0, 0), (1, 1), (2, 2), (3, 3), (4, 4)]\n",
      "[(1, 0), (2, 1), (3, 2), (4, 3)]\n",
      "[(2, 0), (3, 1), (4, 2)]\n",
      "[(3, 0), (4, 1)]\n",
      "[(4, 0)]\n"
     ]
    }
   ],
   "source": [
    "N = 5\n",
    "for diag in range(2*N-1): # I really need to think about this    \n",
    "    #print([(row,col) for row in range(N) for col in range(N) if col + row == diag])\n",
    "    print([(row,col) for row in range(N) for col in range(N) if row - col == diag - N + 1 ])\n",
    "    \n",
    "    # Not very clear"
   ]
  },
  {
   "cell_type": "code",
   "execution_count": 41,
   "metadata": {},
   "outputs": [
    {
     "data": {
      "text/plain": [
       "<matplotlib.image.AxesImage at 0x11123eb00>"
      ]
     },
     "execution_count": 41,
     "metadata": {},
     "output_type": "execute_result"
    },
    {
     "data": {
      "image/png": "[encoded data removed]",
      "text/plain": [
       "<Figure size 288x288 with 1 Axes>"
      ]
     },
     "metadata": {
      "needs_background": "light"
     },
     "output_type": "display_data"
    }
   ],
   "source": [
    "import matplotlib.pyplot as plt\n",
    "plt.matshow(sol) # not better really. A terrible visualization"
   ]
  },
  {
   "cell_type": "markdown",
   "metadata": {},
   "source": [
    "\n",
    "## Discrete Tomography\n",
    "\n",
    "Suppose I have some blob on a grid that I can fire an xray through. The xray gets absorbed in proportion to the amount of material it has to pass through. \n",
    "\n"
   ]
  },
  {
   "cell_type": "code",
   "execution_count": null,
   "metadata": {},
   "outputs": [],
   "source": [
    "#Hmm. This one is also going to be very tempting to use psuedo boolean constraints on.\n",
    "\n",
    "\n"
   ]
  },
  {
   "cell_type": "markdown",
   "metadata": {},
   "source": [
    "## Exercise:\n",
    "\n",
    "\n",
    "Find logic puzzle, have them try to translate it to z3.\n",
    "\n"
   ]
  },
  {
   "cell_type": "markdown",
   "metadata": {},
   "source": [
    "# SMT Solving\n",
    "\n",
    "\n",
    "Z3 has significantly more capabilities than just SAT solving however. Z3 can search over things much more complicated than just boolean variables.\n",
    "\n",
    "Satisfiability Modulo Theories (SMT) is an architecture/algorithm for search that extends the search methods of SAT solvers to more complex domains.\n",
    "\n",
    "Z3 has solvers for\n",
    "\n",
    "- linear equations\n",
    "- linear inequalities\n",
    "- integers\n",
    "- algebraic numbers\n",
    "- uninterpreted functions\n",
    "\n",
    "As a sketch, it works roughly like this:\n",
    "\n",
    "There are two layers the SMT solver is working at. There may be complex logical structure, but then there is the domain specific questions.\n",
    "\n",
    "If we can abstract all complex facts like the truth of $x + y \\gte 7$ as an opaque boolean variables $p$. We then use the technques of SAT solvers to find a satisfying assignement of these variables. But there are constraints required by the actual intepretation of the boolean variables that may not have been apparent. So we take the truth assignment and query a theory specific solver to see if that particular assignement is possible. If it is, we are done. If it is not, there is a reason it is not. We add this fact to our boolean formula and iterate.\n",
    "\n",
    "In actual SMT solvers, there is no reason to not use domain specific information as early as possible. The only objective is to do things that are logically correct and as fast as possible. The SAT solving and the theory question may be very tightly interwoven.\n",
    "\n"
   ]
  },
  {
   "cell_type": "markdown",
   "metadata": {},
   "source": [
    "# Examples\n",
    "\n",
    "\n",
    "Theorems that will be difficult to get z3 to do:\n",
    "sum n = n * (n + 1) / 2\n",
    "\n",
    "Finite unrolling\n",
    "f(100) = 100 + f(99) ...\n",
    "(n <= 100) => f(n) == n * (n + 1) / 2\n",
    "\n",
    "\n",
    "sort?\n",
    "sorting network?\n",
    "\n",
    "This is ridiculous and not even giving an honest picture\n",
    "def merge():\n",
    "    If(x )\n",
    "\n",
    "def mergesort(x)\n",
    "    xl , xr = cut(x)\n",
    "    xl2 = mergesort(xl)\n",
    "    xr2 = mergesort(xr)\n",
    "    xret = Array(Int)\n",
    "    s.add(xret == )\n",
    "    return xret\n",
    "\n",
    "z3 does have some built in stuff for arrays and lists.\n",
    "def append():\n",
    "\n",
    "\n",
    "prove( get(x, store(arr[x], y)) == y )\n",
    "prove( get(x, store(arr[x], y)) == y )\n",
    "\n",
    "\n",
    "\n",
    "## Apple Robot\n",
    "\n",
    "## Controller Safety\n",
    "\n",
    "## Simplifying Polynomial Equations\n",
    "\n",
    "## Finding position of robot arm Inverse Kinematics\n",
    "\n",
    "\n",
    "\n",
    "\n",
    "\n",
    "\n",
    "## First order logic feeling things\n",
    "Socrates is a man\n",
    "\n",
    "\n",
    "## State Machine? Protocol Something?\n",
    "Maybe look in TLA+ book for some examples\n",
    "\n",
    "\n",
    "## Toy Program Verification\n",
    "\n",
    "Program analysis is a large subject.\n",
    "\n",
    "def f(x : Int, y : Int):\n",
    "   z = x + y\n",
    "   z = z - 17\n",
    "   if a <= 4:\n",
    "      crash()\n",
    "   return a\n",
    "   \n",
    "We'll do this example by hand in a somewhat ad-hoc manner, but conversion of a program to logical formula can be automated.\n",
    "Use arrays?\n",
    "\n"
   ]
  },
  {
   "cell_type": "markdown",
   "metadata": {},
   "source": [
    "## Solving a set of linear equations"
   ]
  },
  {
   "cell_type": "code",
   "execution_count": 53,
   "metadata": {},
   "outputs": [
    {
     "data": {
      "text/html": [
       "[y = 1/2, x = 3/2]"
      ],
      "text/plain": [
       "[y = 1/2, x = 3/2]"
      ]
     },
     "execution_count": 53,
     "metadata": {},
     "output_type": "execute_result"
    }
   ],
   "source": [
    "x = Real(\"x\")\n",
    "y = Real(\"y\")\n",
    "s = Solver()\n",
    "s.add(4*x + 4*y == 8)\n",
    "s.add(2*x - 2*y == 2)\n",
    "s.check()\n",
    "s.model()"
   ]
  },
  {
   "cell_type": "code",
   "execution_count": 19,
   "metadata": {},
   "outputs": [
    {
     "data": {
      "text/html": [
       "[x = -1.1795090246?]"
      ],
      "text/plain": [
       "[x = -1.1795090246?]"
      ]
     },
     "execution_count": 19,
     "metadata": {},
     "output_type": "execute_result"
    }
   ],
   "source": [
    "x = Real(\"x\")\n",
    "s = Solver()\n",
    "s.add(2*x**3 + 4*x + 8 == 0)\n",
    "s.check()\n",
    "s.model()"
   ]
  },
  {
   "cell_type": "code",
   "execution_count": 24,
   "metadata": {},
   "outputs": [
    {
     "data": {
      "text/html": [
       "[y = -0.4472135954?, x = -0.8944271909?]"
      ],
      "text/plain": [
       "[y = -0.4472135954?, x = -0.8944271909?]"
      ]
     },
     "execution_count": 24,
     "metadata": {},
     "output_type": "execute_result"
    }
   ],
   "source": [
    "x = Real(\"x\")\n",
    "y = Real(\"y\")\n",
    "s = Solver()\n",
    "s.add(x**2 + y**2 == 1)\n",
    "s.add(x == 2*y)\n",
    "s.check()\n",
    "s.model()"
   ]
  },
  {
   "cell_type": "markdown",
   "metadata": {},
   "source": [
    "## Proving properties of arithmetic\n",
    "\n"
   ]
  },
  {
   "cell_type": "code",
   "execution_count": 60,
   "metadata": {},
   "outputs": [
    {
     "name": "stdout",
     "output_type": "stream",
     "text": [
      "QED. No Counter example\n"
     ]
    }
   ],
   "source": [
    "x = Real(\"x\")\n",
    "y = Real(\"y\")\n",
    "z = Real(\"z\")\n",
    "prove(x + y == y + x) #Commutativity"
   ]
  },
  {
   "cell_type": "code",
   "execution_count": 62,
   "metadata": {},
   "outputs": [
    {
     "name": "stdout",
     "output_type": "stream",
     "text": [
      "QED. No Counter example\n"
     ]
    }
   ],
   "source": [
    "prove(((x + y) + z) == ((x + (y + z)))) #associativity"
   ]
  },
  {
   "cell_type": "code",
   "execution_count": 64,
   "metadata": {},
   "outputs": [
    {
     "name": "stdout",
     "output_type": "stream",
     "text": [
      "QED. No Counter example\n"
     ]
    }
   ],
   "source": [
    "prove(x + 0 == x)"
   ]
  },
  {
   "cell_type": "code",
   "execution_count": 65,
   "metadata": {},
   "outputs": [
    {
     "name": "stdout",
     "output_type": "stream",
     "text": [
      "QED. No Counter example\n"
     ]
    }
   ],
   "source": [
    "prove(1 * x == x)"
   ]
  },
  {
   "cell_type": "code",
   "execution_count": 66,
   "metadata": {},
   "outputs": [
    {
     "name": "stdout",
     "output_type": "stream",
     "text": [
      "Counter example found:\n",
      "[x = 0]\n"
     ]
    }
   ],
   "source": [
    "prove(Or(x > 0, x < 0))"
   ]
  },
  {
   "cell_type": "code",
   "execution_count": 67,
   "metadata": {},
   "outputs": [
    {
     "name": "stdout",
     "output_type": "stream",
     "text": [
      "QED. No Counter example\n"
     ]
    }
   ],
   "source": [
    "prove(Or(x > 0, x < 0, x == 0))"
   ]
  },
  {
   "cell_type": "code",
   "execution_count": 68,
   "metadata": {},
   "outputs": [
    {
     "name": "stdout",
     "output_type": "stream",
     "text": [
      "QED. No Counter example\n"
     ]
    }
   ],
   "source": [
    "prove(x**2 >= 0) #positivity of a square"
   ]
  },
  {
   "cell_type": "code",
   "execution_count": 69,
   "metadata": {},
   "outputs": [
    {
     "name": "stdout",
     "output_type": "stream",
     "text": [
      "QED. No Counter example\n"
     ]
    }
   ],
   "source": [
    "prove(x * (y + z) == x * y + x * z)"
   ]
  },
  {
   "cell_type": "code",
   "execution_count": 70,
   "metadata": {},
   "outputs": [
    {
     "name": "stdout",
     "output_type": "stream",
     "text": [
      "QED. No Counter example\n"
     ]
    }
   ],
   "source": [
    "prove(Implies( x >= 7 , x >= 4))"
   ]
  },
  {
   "cell_type": "code",
   "execution_count": 71,
   "metadata": {},
   "outputs": [
    {
     "name": "stdout",
     "output_type": "stream",
     "text": [
      "Counter example found:\n",
      "[x = -5]\n"
     ]
    }
   ],
   "source": [
    "prove(Implies( x >= -7 , x >= -4))"
   ]
  },
  {
   "cell_type": "markdown",
   "metadata": {},
   "source": [
    "\n",
    "            \n",
    "    \n"
   ]
  },
  {
   "cell_type": "code",
   "execution_count": null,
   "metadata": {},
   "outputs": [],
   "source": [
    "#attempt the quantifier\n",
    "x = Int('x')\n",
    "Forall(x, If(x == 0 f(x) == x + )\n",
    "       "
   ]
  },
  {
   "cell_type": "code",
   "execution_count": 32,
   "metadata": {},
   "outputs": [
    {
     "name": "stdout",
     "output_type": "stream",
     "text": [
      "proved\n"
     ]
    }
   ],
   "source": [
    "x = Int(\"x\")\n",
    "y = Int(\"y\")\n",
    "def Even(x):\n",
    "    q = FreshInt()\n",
    "    return Exists([q], x == 2*q)\n",
    "t = ForAll([x,y], Implies( And(Even(x), Even(y)) , Even(x + y)))\n",
    "prove(t) # uhhh. Lemme think about this. I obviously did this wrong."
   ]
  },
  {
   "cell_type": "code",
   "execution_count": 33,
   "metadata": {},
   "outputs": [
    {
     "name": "stdout",
     "output_type": "stream",
     "text": [
      "proved\n"
     ]
    }
   ],
   "source": [
    "x = Int(\"x\")\n",
    "y = Int(\"y\")\n",
    "def Even(x):\n",
    "    q = FreshInt()\n",
    "    return Exists([q], x == 2*q)\n",
    "def Odd(x):\n",
    "    return Not(Even(x))\n",
    "def Odd(x):\n",
    "    q = FreshInt()\n",
    "    return Exists([q], x == 2*q + 1)\n",
    "t = Implies( And(Even(x), Odd(y)) , Odd(x + y))\n",
    "prove(t)"
   ]
  },
  {
   "cell_type": "markdown",
   "metadata": {},
   "source": [
    "## Geometric Theorem Proving\n",
    "\n",
    "You can convert geometric theorems into systems of polynomial equations. This is sort of the converse of the above. We want Z3 to find a countermodel\n",
    "\n",
    "Consider the following. You have a circle with a diameter. Pick an arbitrary point on the circle and connect it to the diameter. Is this angle a perpendicular angle?\n",
    "\n",
    "\n",
    "\n",
    "When I draw it, it looks kind of close?\n",
    "We can plug in some examples. That only shows that for those examples it works. Somewhat convincing though.\n",
    "\n",
    "Pappus, Desargues?\n",
    "Could I use a more axiomatic style?\n",
    "Sort('Points')\n",
    "Sort('Lines')\n"
   ]
  },
  {
   "cell_type": "code",
   "execution_count": 39,
   "metadata": {},
   "outputs": [
    {
     "name": "stdout",
     "output_type": "stream",
     "text": [
      "proved\n"
     ]
    }
   ],
   "source": [
    "#Freely varying point on \n",
    "x = Real(\"x\")\n",
    "y = Real(\"y\")\n",
    "x1 = Real(\"x1\")\n",
    "y1 = Real(\"y1\")\n",
    "x2 = -x1\n",
    "y2 = -y1\n",
    "# assume horizontal line y = 0. Hits circle at x = 1, x = -1\n",
    "d1 = (x - x1, y - y1)\n",
    "d2 = (x - x2, y - y2)\n",
    "perp = d1[0]*d2[0]+d1[1]*d2[1] == 0\n",
    "prove(Implies(And(x**2 + y**2 == 1, x1**2 + y1**2 == 1), perp))\n"
   ]
  },
  {
   "cell_type": "code",
   "execution_count": 40,
   "metadata": {},
   "outputs": [
    {
     "name": "stdout",
     "output_type": "stream",
     "text": [
      "proved\n"
     ]
    }
   ],
   "source": [
    "x = Real(\"x\")\n",
    "y = Real(\"y\")\n",
    "# assume horizontal line y = 0. Hits circle at x = 1, x = -1\n",
    "d1 = (x - 1, y)\n",
    "d2 = (x + 1, y)\n",
    "perp = d1[0]*d2[0]+d1[1]*d2[1] == 0\n",
    "prove(Implies(x**2 + y**2 == 1, perp))"
   ]
  },
  {
   "cell_type": "code",
   "execution_count": 13,
   "metadata": {},
   "outputs": [
    {
     "name": "stdout",
     "output_type": "stream",
     "text": [
      "proved\n"
     ]
    }
   ],
   "source": [
    "f = Function(\"sumn\", IntSort(), IntSort())\n",
    "n = Int('n')\n",
    "\n",
    "prove(Implies(And(f(0) == 0, n == 0), f(n) == n * (n + 1) / 2 ))"
   ]
  },
  {
   "cell_type": "code",
   "execution_count": null,
   "metadata": {},
   "outputs": [],
   "source": []
  },
  {
   "cell_type": "code",
   "execution_count": 9,
   "metadata": {},
   "outputs": [
    {
     "name": "stdout",
     "output_type": "stream",
     "text": [
      "proved\n"
     ]
    }
   ],
   "source": [
    "prove( Implies(And(f(n) == n*(n + 1)/2, f(n+1) == n+1 + f(n)) ,  f(n+1) == (n+1)*(n+2)/2 ))"
   ]
  },
  {
   "cell_type": "markdown",
   "metadata": {},
   "source": [
    "\n",
    "Strengths of Z3:\n",
    "\n",
    "\n",
    "Weaknesses:\n",
    "\n",
    "\n",
    "SMT solvers can find things and exhaustively not find things. But that is about it. You sometimes need to massage a problem in that form. See the super optimizer example\n",
    "\n",
    "Synthesis problems usually require more techniques\n",
    "\n",
    "Not good at infinite things like recursion, loops, and induction.\n",
    "\n",
    "\n",
    "## Other topics\n",
    "- Quantifiers\n",
    "- Optimization\n",
    "- Algebraic Datatypes\n",
    "\n",
    "\n",
    "## Other Solvers\n",
    "(I am overwhelmed by the options and I'm into this stuff)\n",
    "\n",
    "- Linear Algebra: numpy\n",
    "- Convex Optimization Tools\n",
    "- Linear Programming\n",
    "- Mixed Integer Programming\n",
    "\n",
    "- Minizinc\n",
    "- Google-ORTools\n",
    "- GAMS\n",
    "- AMPL\n",
    "- Cvxpy\n",
    "- Pyomo\n",
    "- Prolog\n",
    "- Picat\n",
    "\n",
    "\n"
   ]
  },
  {
   "cell_type": "markdown",
   "metadata": {},
   "source": [
    "# References\n",
    "\n",
    "- rise4fun https://rise4fun.com/z3/tutorialcontent/guide\n",
    "- https://ericpony.github.io/z3py-tutorial/guide-examples.htm\n",
    "- Programming Z3 - https://theory.stanford.edu/~nikolaj/programmingz3.html\n",
    "- Hakank's  http://www.hakank.org/z3/\n",
    "- Yurichev's book \"SMT by Example\" https://yurichev.com/writings/SAT_SMT_by_example.pdf\n",
    "- Z3 Tutorial paper\n",
    "- http://www.cs.tau.ac.il/~msagiv/courses/asv/z3py/\n",
    "- http://hackage.haskell.org/package/sbv\n",
    "\n",
    "https://www.youtube.com/watch?v=ruNFcH-KibY Tikhon Jelvis - Analyzing Programs with Z3\n"
   ]
  }
 ],
 "metadata": {
  "kernelspec": {
   "display_name": "Python 3",
   "language": "python",
   "name": "python3"
  },
  "language_info": {
   "codemirror_mode": {
    "name": "ipython",
    "version": 3
   },
   "file_extension": ".py",
   "mimetype": "text/x-python",
   "name": "python",
   "nbconvert_exporter": "python",
   "pygments_lexer": "ipython3",
   "version": "3.7.0"
  }
 },
 "nbformat": 4,
 "nbformat_minor": 2
}
