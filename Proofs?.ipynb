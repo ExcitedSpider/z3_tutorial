{
 "cells": [
  {
   "cell_type": "code",
   "execution_count": 1,
   "metadata": {},
   "outputs": [],
   "source": [
    "from z3 import *\n"
   ]
  },
  {
   "cell_type": "code",
   "execution_count": 2,
   "metadata": {},
   "outputs": [
    {
     "name": "stdout",
     "output_type": "stream",
     "text": [
      "counterexample\n",
      "[]\n"
     ]
    }
   ],
   "source": [
    "x = Int('x')\n",
    "prove(ForAll([x],x >= 3))\n"
   ]
  },
  {
   "cell_type": "code",
   "execution_count": 32,
   "metadata": {},
   "outputs": [
    {
     "data": {
      "text/html": [
       "&#957;<sub>0</sub> &ge; 3"
      ],
      "text/plain": [
       "Var(0) >= 3"
      ]
     },
     "execution_count": 32,
     "metadata": {},
     "output_type": "execute_result"
    }
   ],
   "source": [
    "p = ForAll([x],x >= 3)\n",
    "is_quantifier(p)\n",
    "dir(p)\n",
    "p.is_forall()\n",
    "p.is_exists()\n",
    "dir(p)\n",
    "p.sexpr()\n",
    "p.body()\n",
    "dir(p)\n",
    "p.as_ast()\n",
    "dir(p)\n",
    "p.var_name(0)\n",
    "p.num_vars()\n",
    "dir(p)\n",
    "dir(p)\n",
    "p.children()"
   ]
  },
  {
   "cell_type": "code",
   "execution_count": 33,
   "metadata": {},
   "outputs": [
    {
     "name": "stdout",
     "output_type": "stream",
     "text": [
      "ackermannize_bv : A tactic for performing full Ackermannization on bv instances.\n",
      "subpaving : tactic for testing subpaving module.\n",
      "horn : apply tactic for horn clauses.\n",
      "horn-simplify : simplify horn clauses.\n",
      "nlsat : (try to) solve goal using a nonlinear arithmetic solver.\n",
      "qfnra-nlsat : builtin strategy for solving QF_NRA problems using only nlsat.\n",
      "nlqsat : apply a NL-QSAT solver.\n",
      "qe-light : apply light-weight quantifier elimination.\n",
      "qe-sat : check satisfiability of quantified formulas using quantifier elimination.\n",
      "qe : apply quantifier elimination.\n",
      "qsat : apply a QSAT solver.\n",
      "qe2 : apply a QSAT based quantifier elimination.\n",
      "qe_rec : apply a QSAT based quantifier elimination recursively.\n",
      "psat : (try to) solve goal using a parallel SAT solver.\n",
      "sat : (try to) solve goal using a SAT solver.\n",
      "sat-preprocess : Apply SAT solver preprocessing procedures (bounded resolution, Boolean constant propagation, 2-SAT, subsumption, subsumption resolution).\n",
      "ctx-solver-simplify : apply solver-based contextual simplification rules.\n",
      "smt : apply a SAT based SMT solver.\n",
      "psmt : builtin strategy for SMT tactic in parallel.\n",
      "unit-subsume-simplify : unit subsumption simplification.\n",
      "aig : simplify Boolean structure using AIGs.\n",
      "add-bounds : add bounds to unbounded variables (under approximation).\n",
      "card2bv : convert pseudo-boolean constraints to bit-vectors.\n",
      "degree-shift : try to reduce degree of polynomials (remark: :mul2power simplification is automatically applied).\n",
      "diff-neq : specialized solver for integer arithmetic problems that contain only atoms of the form (<= k x) (<= x k) and (not (= (- x y) k)), where x and y are constants and k is a numeral, and all constants are bounded.\n",
      "eq2bv : convert integer variables used as finite domain elements to bit-vectors.\n",
      "factor : polynomial factorization.\n",
      "fix-dl-var : if goal is in the difference logic fragment, then fix the variable with the most number of occurrences at 0.\n",
      "fm : eliminate variables using fourier-motzkin elimination.\n",
      "lia2card : introduce cardinality constraints from 0-1 integer.\n",
      "lia2pb : convert bounded integer variables into a sequence of 0-1 variables.\n",
      "nla2bv : convert a nonlinear arithmetic problem into a bit-vector problem, in most cases the resultant goal is an under approximation and is useul for finding models.\n",
      "normalize-bounds : replace a variable x with lower bound k <= x with x' = x - k.\n",
      "pb2bv : convert pseudo-boolean constraints to bit-vectors.\n",
      "propagate-ineqs : propagate ineqs/bounds, remove subsumed inequalities.\n",
      "purify-arith : eliminate unnecessary operators: -, /, div, mod, rem, is-int, to-int, ^, root-objects.\n",
      "recover-01 : recover 0-1 variables hidden as Boolean variables.\n",
      "bit-blast : reduce bit-vector expressions into SAT.\n",
      "bv1-blast : reduce bit-vector expressions into bit-vectors of size 1 (notes: only equality, extract and concat are supported).\n",
      "bv_bound_chk : attempts to detect inconsistencies of bounds on bv expressions.\n",
      "propagate-bv-bounds : propagate bit-vector bounds by simplifying implied or contradictory bounds.\n",
      "propagate-bv-bounds-new : propagate bit-vector bounds by simplifying implied or contradictory bounds.\n",
      "reduce-bv-size : try to reduce bit-vector sizes using inequalities.\n",
      "bvarray2uf : Rewrite bit-vector arrays into bit-vector (uninterpreted) functions.\n",
      "dt2bv : eliminate finite domain data-types. Replace by bit-vectors.\n",
      "elim-small-bv : eliminate small, quantified bit-vectors by expansion.\n",
      "max-bv-sharing : use heuristics to maximize the sharing of bit-vector expressions such as adders and multipliers.\n",
      "blast-term-ite : blast term if-then-else by hoisting them.\n",
      "cofactor-term-ite : eliminate term if-the-else using cofactors.\n",
      "collect-statistics : Collects various statistics.\n",
      "ctx-simplify : apply contextual simplification rules.\n",
      "der : destructive equality resolution.\n",
      "distribute-forall : distribute forall over conjunctions.\n",
      "dom-simplify : apply dominator simplification rules.\n",
      "elim-term-ite : eliminate term if-then-else by adding fresh auxiliary declarations.\n",
      "elim-uncnstr : eliminate application containing unconstrained variables.\n",
      "injectivity : Identifies and applies injectivity axioms.\n",
      "snf : put goal in skolem normal form.\n",
      "nnf : put goal in negation normal form.\n",
      "occf : put goal in one constraint per clause normal form (notes: fails if proof generation is enabled; only clauses are considered).\n",
      "pb-preprocess : pre-process pseudo-Boolean constraints a la Davis Putnam.\n",
      "propagate-values : propagate constants.\n",
      "reduce-args : reduce the number of arguments of function applications, when for all occurrences of a function f the i-th is a value.\n",
      "reduce-invertible : reduce invertible variable occurrences.\n",
      "simplify : apply simplification rules.\n",
      "elim-and : convert (and a b) into (not (or (not a) (not b))).\n",
      "solve-eqs : eliminate variables by solving equations.\n",
      "special-relations : detect and replace by special relations.\n",
      "split-clause : split a clause in many subgoals.\n",
      "symmetry-reduce : apply symmetry reduction.\n",
      "tseitin-cnf : convert goal into CNF using tseitin-like encoding (note: quantifiers are ignored).\n",
      "tseitin-cnf-core : convert goal into CNF using tseitin-like encoding (note: quantifiers are ignored). This tactic does not apply required simplifications to the input goal like the tseitin-cnf tactic.\n",
      "qffd : builtin strategy for solving QF_FD problems.\n",
      "pqffd : builtin strategy for solving QF_FD problems in parallel.\n",
      "smtfd : builtin strategy for solving SMT problems by reduction to FD.\n",
      "fpa2bv : convert floating point numbers to bit-vectors.\n",
      "qffp : (try to) solve goal using the tactic for QF_FP.\n",
      "qffpbv : (try to) solve goal using the tactic for QF_FPBV (floats+bit-vectors).\n",
      "qffplra : (try to) solve goal using the tactic for QF_FPLRA.\n",
      "default : default strategy used when no logic is specified.\n",
      "sine-filter : eliminate premises using Sine Qua Non\n",
      "qfbv-sls : (try to) solve using stochastic local search for QF_BV.\n",
      "nra : builtin strategy for solving NRA problems.\n",
      "qfaufbv : builtin strategy for solving QF_AUFBV problems.\n",
      "qfauflia : builtin strategy for solving QF_AUFLIA problems.\n",
      "qfbv : builtin strategy for solving QF_BV problems.\n",
      "qfidl : builtin strategy for solving QF_IDL problems.\n",
      "qflia : builtin strategy for solving QF_LIA problems.\n",
      "qflra : builtin strategy for solving QF_LRA problems.\n",
      "qfnia : builtin strategy for solving QF_NIA problems.\n",
      "qfnra : builtin strategy for solving QF_NRA problems.\n",
      "qfuf : builtin strategy for solving QF_UF problems.\n",
      "qfufbv : builtin strategy for solving QF_UFBV problems.\n",
      "qfufbv_ackr : A tactic for solving QF_UFBV based on Ackermannization.\n",
      "ufnia : builtin strategy for solving UFNIA problems.\n",
      "uflra : builtin strategy for solving UFLRA problems.\n",
      "auflia : builtin strategy for solving AUFLIA problems.\n",
      "auflira : builtin strategy for solving AUFLIRA problems.\n",
      "aufnira : builtin strategy for solving AUFNIRA problems.\n",
      "lra : builtin strategy for solving LRA problems.\n",
      "lia : builtin strategy for solving LIA problems.\n",
      "lira : builtin strategy for solving LIRA problems.\n",
      "skip : do nothing tactic.\n",
      "fail : always fail tactic.\n",
      "fail-if-undecided : fail if goal is undecided.\n",
      "macro-finder : Identifies and applies macros.\n",
      "quasi-macros : Identifies and applies quasi-macros.\n",
      "ufbv-rewriter : Applies UFBV-specific rewriting rules, mainly demodulation.\n",
      "bv : builtin strategy for solving BV problems (with quantifiers).\n",
      "ufbv : builtin strategy for solving UFBV problems (with quantifiers).\n"
     ]
    }
   ],
   "source": [
    "describe_tactics()"
   ]
  },
  {
   "cell_type": "code",
   "execution_count": null,
   "metadata": {},
   "outputs": [],
   "source": [
    " ParThen(Tactic('split-clause'), Tactic('propagate-values'))\n",
    "    'nnf' 'simplify' 'skip' 'snf' 'qe-light' 'qe2' 'smt' \n",
    "    'elim-and' 'injectivity' 'fail' 'fail-if-undecided'"
   ]
  },
  {
   "cell_type": "markdown",
   "metadata": {},
   "source": [
    "Tactics.\n",
    "Z3 has some "
   ]
  },
  {
   "cell_type": "code",
   "execution_count": 37,
   "metadata": {},
   "outputs": [
    {
     "data": {
      "text/html": [
       "[[&forall;x : x &ge; 3]]"
      ],
      "text/plain": [
       "[[ForAll(x, x >= 3)]]"
      ]
     },
     "execution_count": 37,
     "metadata": {},
     "output_type": "execute_result"
    }
   ],
   "source": [
    "t = Tactic(\"snf\")\n",
    "p = ForAll([x],x >= 3)\n",
    "t(p)"
   ]
  },
  {
   "cell_type": "code",
   "execution_count": 45,
   "metadata": {},
   "outputs": [
    {
     "data": {
      "text/html": [
       "[[False]]"
      ],
      "text/plain": [
       "[[False]]"
      ]
     },
     "execution_count": 45,
     "metadata": {},
     "output_type": "execute_result"
    }
   ],
   "source": [
    "t = Tactic(\"qe-light\")\n",
    "t(p)"
   ]
  },
  {
   "cell_type": "code",
   "execution_count": 46,
   "metadata": {},
   "outputs": [
    {
     "data": {
      "text/html": [
       "[[True]]"
      ],
      "text/plain": [
       "[[True]]"
      ]
     },
     "execution_count": 46,
     "metadata": {},
     "output_type": "execute_result"
    }
   ],
   "source": [
    "t = Tactic(\"qe-light\")\n",
    "t(Exists([x], x >=3))"
   ]
  },
  {
   "cell_type": "code",
   "execution_count": 47,
   "metadata": {},
   "outputs": [
    {
     "data": {
      "text/html": [
       "[[x!5 &ge; 3]]"
      ],
      "text/plain": [
       "[[x!5 >= 3]]"
      ]
     },
     "execution_count": 47,
     "metadata": {},
     "output_type": "execute_result"
    }
   ],
   "source": [
    "t = Tactic(\"snf\")\n",
    "t(Exists([x], x >=3))"
   ]
  },
  {
   "cell_type": "code",
   "execution_count": 50,
   "metadata": {},
   "outputs": [
    {
     "data": {
      "text/html": [
       "[[&not;(x!8 &ge; 3)]]"
      ],
      "text/plain": [
       "[[Not(x!8 >= 3)]]"
      ]
     },
     "execution_count": 50,
     "metadata": {},
     "output_type": "execute_result"
    }
   ],
   "source": [
    "t = Tactic(\"snf\")\n",
    "p = Not(ForAll([x],x >= 3))\n",
    "t(p) "
   ]
  },
  {
   "cell_type": "code",
   "execution_count": 41,
   "metadata": {},
   "outputs": [
    {
     "data": {
      "text/html": [
       "[[x + 1 = 0 &or; x + -1 = 0]]"
      ],
      "text/plain": [
       "[[Or(x + 1 == 0, x + -1 == 0)]]"
      ]
     },
     "execution_count": 41,
     "metadata": {},
     "output_type": "execute_result"
    }
   ],
   "source": [
    "t = Tactic(\"factor\")\n",
    "t(x**2 - 1 == 0)"
   ]
  },
  {
   "cell_type": "code",
   "execution_count": 71,
   "metadata": {},
   "outputs": [
    {
     "data": {
      "text/html": [
       "[]"
      ],
      "text/plain": [
       "[]"
      ]
     },
     "execution_count": 71,
     "metadata": {},
     "output_type": "execute_result"
    }
   ],
   "source": [
    "x = Real('x')\n",
    "\n",
    "#help(Goal)\n",
    "g = Goal([Or(x == 7, x == 3)])\n",
    "g"
   ]
  },
  {
   "cell_type": "code",
   "execution_count": 3,
   "metadata": {},
   "outputs": [],
   "source": [
    "fac = RecFunction('fac', IntSort(), IntSort())\n",
    "n = Int('n')\n",
    "RecAddDefinition(fac, n, If(n == 0, 1, n*fac(n-1)))"
   ]
  },
  {
   "cell_type": "code",
   "execution_count": 107,
   "metadata": {},
   "outputs": [
    {
     "ename": "NameError",
     "evalue": "name 'nil' is not defined",
     "output_type": "error",
     "traceback": [
      "\u001b[0;31m---------------------------------------------------------------------------\u001b[0m",
      "\u001b[0;31mNameError\u001b[0m                                 Traceback (most recent call last)",
      "\u001b[0;32m<ipython-input-107-ff5620e25af8>\u001b[0m in \u001b[0;36m<module>\u001b[0;34m\u001b[0m\n\u001b[1;32m      1\u001b[0m \u001b[0;31m#l = List(\"l\")\u001b[0m\u001b[0;34m\u001b[0m\u001b[0;34m\u001b[0m\u001b[0m\n\u001b[0;32m----> 2\u001b[0;31m \u001b[0mnil\u001b[0m\u001b[0;34m\u001b[0m\u001b[0m\n\u001b[0m\u001b[1;32m      3\u001b[0m \u001b[0mcons\u001b[0m\u001b[0;34m\u001b[0m\u001b[0m\n",
      "\u001b[0;31mNameError\u001b[0m: name 'nil' is not defined"
     ]
    }
   ],
   "source": [
    "#l = List(\"l\")\n",
    "nil\n",
    "cons"
   ]
  },
  {
   "cell_type": "code",
   "execution_count": 4,
   "metadata": {},
   "outputs": [
    {
     "data": {
      "text/html": [
       "[n = 3, fac = [0 &rarr; 1, else &rarr; fac(-1 + &#957;<sub>0</sub>)&middot;&#957;<sub>0</sub>]]"
      ],
      "text/plain": [
       "[n = 3, fac = [0 -> 1, else -> fac(-1 + Var(0))*Var(0)]]"
      ]
     },
     "execution_count": 4,
     "metadata": {},
     "output_type": "execute_result"
    }
   ],
   "source": [
    "s = Solver()\n",
    "s.add(fac(n) == 6)\n",
    "s.check()\n",
    "s.model()"
   ]
  },
  {
   "cell_type": "code",
   "execution_count": 5,
   "metadata": {},
   "outputs": [
    {
     "ename": "NameError",
     "evalue": "name 'Forall' is not defined",
     "output_type": "error",
     "traceback": [
      "\u001b[0;31m---------------------------------------------------------------------------\u001b[0m",
      "\u001b[0;31mNameError\u001b[0m                                 Traceback (most recent call last)",
      "\u001b[0;32m<ipython-input-5-671c1226702f>\u001b[0m in \u001b[0;36m<module>\u001b[0;34m\u001b[0m\n\u001b[0;32m----> 1\u001b[0;31m \u001b[0mhelp\u001b[0m\u001b[0;34m(\u001b[0m\u001b[0mForall\u001b[0m\u001b[0;34m)\u001b[0m\u001b[0;34m\u001b[0m\u001b[0m\n\u001b[0m",
      "\u001b[0;31mNameError\u001b[0m: name 'Forall' is not defined"
     ]
    }
   ],
   "source": [
    "help(Forall)"
   ]
  },
  {
   "cell_type": "code",
   "execution_count": null,
   "metadata": {},
   "outputs": [],
   "source": [
    "help(z3)"
   ]
  },
  {
   "cell_type": "code",
   "execution_count": null,
   "metadata": {},
   "outputs": [],
   "source": [
    "help(z3)"
   ]
  },
  {
   "cell_type": "code",
   "execution_count": null,
   "metadata": {},
   "outputs": [],
   "source": [
    "help(Forall)"
   ]
  },
  {
   "cell_type": "code",
   "execution_count": 54,
   "metadata": {},
   "outputs": [
    {
     "ename": "TypeError",
     "evalue": "unsupported operand type(s) for |: 'BoolRef' and 'BoolRef'",
     "output_type": "error",
     "traceback": [
      "\u001b[0;31m---------------------------------------------------------------------------\u001b[0m",
      "\u001b[0;31mTypeError\u001b[0m                                 Traceback (most recent call last)",
      "\u001b[0;32m<ipython-input-54-38b95421ea58>\u001b[0m in \u001b[0;36m<module>\u001b[0;34m\u001b[0m\n\u001b[1;32m      1\u001b[0m \u001b[0ma\u001b[0m \u001b[0;34m=\u001b[0m \u001b[0mBool\u001b[0m\u001b[0;34m(\u001b[0m\u001b[0;34m\"a\"\u001b[0m\u001b[0;34m)\u001b[0m\u001b[0;34m\u001b[0m\u001b[0m\n\u001b[1;32m      2\u001b[0m \u001b[0mb\u001b[0m \u001b[0;34m=\u001b[0m \u001b[0mBool\u001b[0m\u001b[0;34m(\u001b[0m\u001b[0;34m\"b\"\u001b[0m\u001b[0;34m)\u001b[0m\u001b[0;34m\u001b[0m\u001b[0m\n\u001b[0;32m----> 3\u001b[0;31m \u001b[0ma\u001b[0m \u001b[0;34m|\u001b[0m \u001b[0mb\u001b[0m\u001b[0;34m\u001b[0m\u001b[0m\n\u001b[0m",
      "\u001b[0;31mTypeError\u001b[0m: unsupported operand type(s) for |: 'BoolRef' and 'BoolRef'"
     ]
    }
   ],
   "source": [
    "a = Bool(\"a\")\n",
    "b = Bool(\"b\")\n",
    "a | b"
   ]
  },
  {
   "cell_type": "code",
   "execution_count": 57,
   "metadata": {},
   "outputs": [],
   "source": [
    "BoolRef.__and__ = lambda self, rhs: And(self,rhs)\n",
    "BoolRef.__or__ = lambda self, rhs: Or(self,rhs)"
   ]
  },
  {
   "cell_type": "code",
   "execution_count": 102,
   "metadata": {},
   "outputs": [
    {
     "data": {
      "text/plain": [
       "True"
      ]
     },
     "execution_count": 102,
     "metadata": {},
     "output_type": "execute_result"
    }
   ],
   "source": [
    "1 <= 2  #Ugh. Idunno "
   ]
  },
  {
   "cell_type": "code",
   "execution_count": 58,
   "metadata": {},
   "outputs": [
    {
     "data": {
      "text/html": [
       "a &and; b"
      ],
      "text/plain": [
       "And(a, b)"
      ]
     },
     "execution_count": 58,
     "metadata": {},
     "output_type": "execute_result"
    }
   ],
   "source": [
    "a & b #These seem like sensible operators to be in z3 for bools"
   ]
  },
  {
   "cell_type": "code",
   "execution_count": 103,
   "metadata": {},
   "outputs": [
    {
     "data": {
      "text/html": [
       "a &le; b"
      ],
      "text/plain": [
       "a <= b"
      ]
     },
     "execution_count": 103,
     "metadata": {},
     "output_type": "execute_result"
    }
   ],
   "source": [
    "a <= b"
   ]
  },
  {
   "cell_type": "code",
   "execution_count": 59,
   "metadata": {},
   "outputs": [
    {
     "data": {
      "text/html": [
       "a &or; b"
      ],
      "text/plain": [
       "Or(a, b)"
      ]
     },
     "execution_count": 59,
     "metadata": {},
     "output_type": "execute_result"
    }
   ],
   "source": [
    "a | b"
   ]
  },
  {
   "cell_type": "code",
   "execution_count": 60,
   "metadata": {},
   "outputs": [
    {
     "data": {
      "text/html": [
       "a &and; b &and; a &and; b"
      ],
      "text/plain": [
       "And(And(And(a, b), a), b)"
      ]
     },
     "execution_count": 60,
     "metadata": {},
     "output_type": "execute_result"
    }
   ],
   "source": [
    "a & b & a & b"
   ]
  },
  {
   "cell_type": "code",
   "execution_count": 65,
   "metadata": {},
   "outputs": [
    {
     "data": {
      "text/html": [
       "If(b, 7, 0)"
      ],
      "text/plain": [
       "If(b, 7, 0)"
      ]
     },
     "execution_count": 65,
     "metadata": {},
     "output_type": "execute_result"
    }
   ],
   "source": [
    "7*b"
   ]
  },
  {
   "cell_type": "code",
   "execution_count": 78,
   "metadata": {},
   "outputs": [],
   "source": [
    "b = BitVec(\"b\", 32)\n",
    "a = BitVec(\"a\", 32)"
   ]
  },
  {
   "cell_type": "code",
   "execution_count": 75,
   "metadata": {},
   "outputs": [
    {
     "name": "stdout",
     "output_type": "stream",
     "text": [
      "proved\n"
     ]
    }
   ],
   "source": [
    "prove(b == b | b)"
   ]
  },
  {
   "cell_type": "code",
   "execution_count": 76,
   "metadata": {},
   "outputs": [
    {
     "name": "stdout",
     "output_type": "stream",
     "text": [
      "proved\n"
     ]
    }
   ],
   "source": [
    "prove(0 == b ^ b)"
   ]
  },
  {
   "cell_type": "code",
   "execution_count": 79,
   "metadata": {},
   "outputs": [
    {
     "name": "stdout",
     "output_type": "stream",
     "text": [
      "proved\n"
     ]
    }
   ],
   "source": [
    "prove(a == (a ^ b) ^ b)"
   ]
  },
  {
   "cell_type": "markdown",
   "metadata": {},
   "source": [
    "Proof by induction\n",
    "It is questionable the degree to which z3 can handle proof by induction\n",
    "Self note: A bounded size proof might be possible though? Use z3 as search procedure. Short circuit \n",
    "An application of a proof rule usually requires some unification and subsitution. z3 can do that.\n",
    "Or what about just defining a GADT, which we kind of can because we can define ADT plus bizarro z3 conditions.\n",
    "\n",
    "ADT(\"Vec n\")\n",
    "\n",
    "If we take z3 as a trusted base, could we build a python tactic system around it.\n",
    ".auto() just calls z3\n",
    ".intros() examine goal expression\n",
    ".exists()\n",
    ".\n",
    "\n",
    "\n",
    "Also agda style equality reasoning\n",
    "\n",
    "\n",
    "Proof by induction can follow from using axiom scheme.\n",
    "\n",
    "Imperative proofs. This may already be provided by Z3's Goal class?\n",
    "\n",
    "contexts?\n",
    "\n",
    "class Proof():\n",
    "    __init__(self,goal, ctx=[]):\n",
    "    self.context = ctx\n",
    "    self.goal = goal\n",
    "    def auto(self, hint_db = []):\n",
    "        # do we want to give the context?\n",
    "        prove(Implies(**ctx,goal))\n",
    "        #or maybe we want to do an actual search\n",
    "    def apply(self,proof):\n",
    "        #proof.check() or\n",
    "        if proof.is_proven:\n",
    "            model = solve(proof.goal == self.goal)\n",
    "        return self\n",
    "    def simp():\n",
    "        self.goal = simplify(self.goal)\n",
    "    def intros(names?):\n",
    "        if is_quantifier(goal) and is_forall(goal):\n",
    "    def destruct(self):\n",
    "    \n",
    "    def induction(self):\n",
    "        \n",
    "    def reflexivity():\n",
    "        prove(goal) \n",
    "        # or maybe auto\n",
    "        \n",
    "    def __next__(self) # use generator for proof stack?\n",
    "    "
   ]
  },
  {
   "cell_type": "code",
   "execution_count": 99,
   "metadata": {},
   "outputs": [
    {
     "name": "stdout",
     "output_type": "stream",
     "text": [
      "[q = Point!val!0, p = Point!val!0]\n"
     ]
    }
   ],
   "source": [
    "#Projective geometry\n",
    "\n",
    "Point = DeclareSort('Point')\n",
    "p, q = Consts('p q',Point)\n",
    "collinear = Function(\"collinear\", Point, Point, Point , BoolSort())\n",
    "x = Consts('x', BoolSort())\n",
    "solve(p == q)\n",
    "Line = DeclareSort('Line')\n",
    "p, q = Consts('p q',Line)\n",
    "\n",
    "ForAll([p,q], collinear(p,q,p) == True)\n",
    "ForAll([p,q], collinear(p,q,p) == True)\n",
    "\n",
    "Exists([a,b,c], And(collinear(a,b,c), b != c , a != c))\n",
    "ForAll([a,b,c,d], Implies( And(collinear(a,b,c) ,collinear(a,b,d)), collinear(b,d,c) ))\n",
    "\n",
    "online(a,b,l), (c,d,l)=> oneline(a,c) online(d)\n",
    "meetpoints\n",
    "\n"
   ]
  },
  {
   "cell_type": "code",
   "execution_count": 109,
   "metadata": {},
   "outputs": [],
   "source": [
    "# Declare a List of integers\n",
    "List = Datatype('List')\n",
    "# Constructor cons: (Int, List) -> List\n",
    "List.declare('cons', ('car', IntSort()), ('cdr', List))\n",
    "# Constructor nil: List\n",
    "List.declare('nil')\n",
    "# Create the datatype\n",
    "List = List.create()\n",
    "#print is_sort(List)\n",
    "cons = List.cons\n",
    "car  = List.car\n",
    "cdr  = List.cdr\n",
    "nil  = List.nil\n"
   ]
  },
  {
   "cell_type": "code",
   "execution_count": null,
   "metadata": {},
   "outputs": [],
   "source": [
    "app = RecFunction('append', List, List, List)\n",
    "l1 = Int('l1')\n",
    "l2 = Int('l2')\n",
    "RecAddDefinition(fac, n, If(l1 == nil, 1, n*fac(n-1)))"
   ]
  },
  {
   "cell_type": "code",
   "execution_count": 113,
   "metadata": {},
   "outputs": [],
   "source": [
    "llen = RecFunction('length', List, IntSort())\n",
    "l1 = Const('l1', List)\n",
    "l2 = Int('l2')\n",
    "RecAddDefinition(llen, l1, If(l1 == nil, 0, 1 + llen(cdr(l1))))"
   ]
  },
  {
   "cell_type": "code",
   "execution_count": 114,
   "metadata": {},
   "outputs": [
    {
     "name": "stdout",
     "output_type": "stream",
     "text": [
      "[l1 = cons(8, cons(7, cons(11, cons(10, nil)))),\n",
      " length = [nil -> 0, else -> 1 + length(cdr(Var(0)))]]\n"
     ]
    }
   ],
   "source": [
    "solve(llen(l1) == 4)"
   ]
  },
  {
   "cell_type": "code",
   "execution_count": 116,
   "metadata": {},
   "outputs": [
    {
     "name": "stdout",
     "output_type": "stream",
     "text": [
      "proved\n"
     ]
    }
   ],
   "source": [
    "prove(Implies(l1 == nil, llen(l1) >= 0))"
   ]
  },
  {
   "cell_type": "code",
   "execution_count": 119,
   "metadata": {},
   "outputs": [
    {
     "name": "stdout",
     "output_type": "stream",
     "text": [
      "proved\n"
     ]
    }
   ],
   "source": [
    "l2 = Const('l2', List)\n",
    "n = Int('n')\n",
    "prove(Implies(And(l1 == cons(n,l2), llen(l2) >= 0), llen(l1) >= 0))"
   ]
  },
  {
   "cell_type": "code",
   "execution_count": null,
   "metadata": {},
   "outputs": [],
   "source": [
    "# This induction principle doesn't really make much sense.\n",
    "Forall([p], Implies( [p(nil) , Implies(p(l1) , p(cons(n,l1))   ] , Forall([l], p(x))   )\n",
    "                      "
   ]
  },
  {
   "cell_type": "code",
   "execution_count": null,
   "metadata": {},
   "outputs": [],
   "source": [
    "induction( e  ):\n",
    "    is_quantifier(e)\n",
    "    if_forall(e)\n",
    "    eval(body,nil)\n",
    "    eval(body, l1)\n",
    "    eval(body, cons(n,l1))"
   ]
  },
  {
   "cell_type": "code",
   "execution_count": 121,
   "metadata": {},
   "outputs": [
    {
     "ename": "Z3Exception",
     "evalue": "True, False or Z3 Boolean expression expected. Received [b, b]",
     "output_type": "error",
     "traceback": [
      "\u001b[0;31m---------------------------------------------------------------------------\u001b[0m",
      "\u001b[0;31mZ3Exception\u001b[0m                               Traceback (most recent call last)",
      "\u001b[0;32m<ipython-input-121-610162a9556b>\u001b[0m in \u001b[0;36m<module>\u001b[0;34m\u001b[0m\n\u001b[1;32m      1\u001b[0m \u001b[0mb\u001b[0m \u001b[0;34m=\u001b[0m \u001b[0mBool\u001b[0m\u001b[0;34m(\u001b[0m\u001b[0;34m'b'\u001b[0m\u001b[0;34m)\u001b[0m\u001b[0;34m\u001b[0m\u001b[0m\n\u001b[0;32m----> 2\u001b[0;31m \u001b[0mImplies\u001b[0m\u001b[0;34m(\u001b[0m\u001b[0;34m[\u001b[0m\u001b[0mb\u001b[0m\u001b[0;34m,\u001b[0m\u001b[0mb\u001b[0m\u001b[0;34m]\u001b[0m\u001b[0;34m,\u001b[0m\u001b[0mb\u001b[0m\u001b[0;34m)\u001b[0m\u001b[0;34m\u001b[0m\u001b[0m\n\u001b[0m",
      "\u001b[0;32m/usr/local/lib/python3.7/site-packages/z3/z3.py\u001b[0m in \u001b[0;36mImplies\u001b[0;34m(a, b, ctx)\u001b[0m\n\u001b[1;32m   1628\u001b[0m     \u001b[0mctx\u001b[0m \u001b[0;34m=\u001b[0m \u001b[0m_get_ctx\u001b[0m\u001b[0;34m(\u001b[0m\u001b[0m_ctx_from_ast_arg_list\u001b[0m\u001b[0;34m(\u001b[0m\u001b[0;34m[\u001b[0m\u001b[0ma\u001b[0m\u001b[0;34m,\u001b[0m \u001b[0mb\u001b[0m\u001b[0;34m]\u001b[0m\u001b[0;34m,\u001b[0m \u001b[0mctx\u001b[0m\u001b[0;34m)\u001b[0m\u001b[0;34m)\u001b[0m\u001b[0;34m\u001b[0m\u001b[0m\n\u001b[1;32m   1629\u001b[0m     \u001b[0ms\u001b[0m \u001b[0;34m=\u001b[0m \u001b[0mBoolSort\u001b[0m\u001b[0;34m(\u001b[0m\u001b[0mctx\u001b[0m\u001b[0;34m)\u001b[0m\u001b[0;34m\u001b[0m\u001b[0m\n\u001b[0;32m-> 1630\u001b[0;31m     \u001b[0ma\u001b[0m \u001b[0;34m=\u001b[0m \u001b[0ms\u001b[0m\u001b[0;34m.\u001b[0m\u001b[0mcast\u001b[0m\u001b[0;34m(\u001b[0m\u001b[0ma\u001b[0m\u001b[0;34m)\u001b[0m\u001b[0;34m\u001b[0m\u001b[0m\n\u001b[0m\u001b[1;32m   1631\u001b[0m     \u001b[0mb\u001b[0m \u001b[0;34m=\u001b[0m \u001b[0ms\u001b[0m\u001b[0;34m.\u001b[0m\u001b[0mcast\u001b[0m\u001b[0;34m(\u001b[0m\u001b[0mb\u001b[0m\u001b[0;34m)\u001b[0m\u001b[0;34m\u001b[0m\u001b[0m\n\u001b[1;32m   1632\u001b[0m     \u001b[0;32mreturn\u001b[0m \u001b[0mBoolRef\u001b[0m\u001b[0;34m(\u001b[0m\u001b[0mZ3_mk_implies\u001b[0m\u001b[0;34m(\u001b[0m\u001b[0mctx\u001b[0m\u001b[0;34m.\u001b[0m\u001b[0mref\u001b[0m\u001b[0;34m(\u001b[0m\u001b[0;34m)\u001b[0m\u001b[0;34m,\u001b[0m \u001b[0ma\u001b[0m\u001b[0;34m.\u001b[0m\u001b[0mas_ast\u001b[0m\u001b[0;34m(\u001b[0m\u001b[0;34m)\u001b[0m\u001b[0;34m,\u001b[0m \u001b[0mb\u001b[0m\u001b[0;34m.\u001b[0m\u001b[0mas_ast\u001b[0m\u001b[0;34m(\u001b[0m\u001b[0;34m)\u001b[0m\u001b[0;34m)\u001b[0m\u001b[0;34m,\u001b[0m \u001b[0mctx\u001b[0m\u001b[0;34m)\u001b[0m\u001b[0;34m\u001b[0m\u001b[0m\n",
      "\u001b[0;32m/usr/local/lib/python3.7/site-packages/z3/z3.py\u001b[0m in \u001b[0;36mcast\u001b[0;34m(self, val)\u001b[0m\n\u001b[1;32m   1387\u001b[0m         \u001b[0;32mif\u001b[0m \u001b[0mz3_debug\u001b[0m\u001b[0;34m(\u001b[0m\u001b[0;34m)\u001b[0m\u001b[0;34m:\u001b[0m\u001b[0;34m\u001b[0m\u001b[0m\n\u001b[1;32m   1388\u001b[0m             \u001b[0;32mif\u001b[0m \u001b[0;32mnot\u001b[0m \u001b[0mis_expr\u001b[0m\u001b[0;34m(\u001b[0m\u001b[0mval\u001b[0m\u001b[0;34m)\u001b[0m\u001b[0;34m:\u001b[0m\u001b[0;34m\u001b[0m\u001b[0m\n\u001b[0;32m-> 1389\u001b[0;31m                \u001b[0m_z3_assert\u001b[0m\u001b[0;34m(\u001b[0m\u001b[0mis_expr\u001b[0m\u001b[0;34m(\u001b[0m\u001b[0mval\u001b[0m\u001b[0;34m)\u001b[0m\u001b[0;34m,\u001b[0m \u001b[0;34m\"True, False or Z3 Boolean expression expected. Received %s\"\u001b[0m \u001b[0;34m%\u001b[0m \u001b[0mval\u001b[0m\u001b[0;34m)\u001b[0m\u001b[0;34m\u001b[0m\u001b[0m\n\u001b[0m\u001b[1;32m   1390\u001b[0m             \u001b[0;32mif\u001b[0m \u001b[0;32mnot\u001b[0m \u001b[0mself\u001b[0m\u001b[0;34m.\u001b[0m\u001b[0meq\u001b[0m\u001b[0;34m(\u001b[0m\u001b[0mval\u001b[0m\u001b[0;34m.\u001b[0m\u001b[0msort\u001b[0m\u001b[0;34m(\u001b[0m\u001b[0;34m)\u001b[0m\u001b[0;34m)\u001b[0m\u001b[0;34m:\u001b[0m\u001b[0;34m\u001b[0m\u001b[0m\n\u001b[1;32m   1391\u001b[0m                \u001b[0m_z3_assert\u001b[0m\u001b[0;34m(\u001b[0m\u001b[0mself\u001b[0m\u001b[0;34m.\u001b[0m\u001b[0meq\u001b[0m\u001b[0;34m(\u001b[0m\u001b[0mval\u001b[0m\u001b[0;34m.\u001b[0m\u001b[0msort\u001b[0m\u001b[0;34m(\u001b[0m\u001b[0;34m)\u001b[0m\u001b[0;34m)\u001b[0m\u001b[0;34m,\u001b[0m \u001b[0;34m\"Value cannot be converted into a Z3 Boolean value\"\u001b[0m\u001b[0;34m)\u001b[0m\u001b[0;34m\u001b[0m\u001b[0m\n",
      "\u001b[0;32m/usr/local/lib/python3.7/site-packages/z3/z3.py\u001b[0m in \u001b[0;36m_z3_assert\u001b[0;34m(cond, msg)\u001b[0m\n\u001b[1;32m     94\u001b[0m \u001b[0;32mdef\u001b[0m \u001b[0m_z3_assert\u001b[0m\u001b[0;34m(\u001b[0m\u001b[0mcond\u001b[0m\u001b[0;34m,\u001b[0m \u001b[0mmsg\u001b[0m\u001b[0;34m)\u001b[0m\u001b[0;34m:\u001b[0m\u001b[0;34m\u001b[0m\u001b[0m\n\u001b[1;32m     95\u001b[0m     \u001b[0;32mif\u001b[0m \u001b[0;32mnot\u001b[0m \u001b[0mcond\u001b[0m\u001b[0;34m:\u001b[0m\u001b[0;34m\u001b[0m\u001b[0m\n\u001b[0;32m---> 96\u001b[0;31m         \u001b[0;32mraise\u001b[0m \u001b[0mZ3Exception\u001b[0m\u001b[0;34m(\u001b[0m\u001b[0mmsg\u001b[0m\u001b[0;34m)\u001b[0m\u001b[0;34m\u001b[0m\u001b[0m\n\u001b[0m\u001b[1;32m     97\u001b[0m \u001b[0;34m\u001b[0m\u001b[0m\n\u001b[1;32m     98\u001b[0m \u001b[0;32mdef\u001b[0m \u001b[0m_z3_check_cint_overflow\u001b[0m\u001b[0;34m(\u001b[0m\u001b[0mn\u001b[0m\u001b[0;34m,\u001b[0m \u001b[0mname\u001b[0m\u001b[0;34m)\u001b[0m\u001b[0;34m:\u001b[0m\u001b[0;34m\u001b[0m\u001b[0m\n",
      "\u001b[0;31mZ3Exception\u001b[0m: True, False or Z3 Boolean expression expected. Received [b, b]"
     ]
    }
   ],
   "source": [
    "b = Bool('b')\n",
    "Implies([b,b],b)"
   ]
  },
  {
   "cell_type": "code",
   "execution_count": 175,
   "metadata": {},
   "outputs": [
    {
     "data": {
      "text/html": [
       "x + 8"
      ],
      "text/plain": [
       "x + 8"
      ]
     },
     "execution_count": 175,
     "metadata": {},
     "output_type": "execute_result"
    }
   ],
   "source": [
    "x = Real('x')\n",
    "f = Lambda([x], x)\n",
    "'''dir(f)\n",
    "f.var_name(0)\n",
    "dir(f)\n",
    "f.num_vars()\n",
    "f.var_sort(0)\n",
    "if f.is_lambda:\n",
    "    ss = [Var(i, f.var_sort(i)) for i in range(f.num_vars())]\n",
    "    '''\n",
    "substitute_vars(f.body(), x+8)\n",
    "#f.body()\n",
    "#f.sort()"
   ]
  },
  {
   "cell_type": "code",
   "execution_count": 178,
   "metadata": {},
   "outputs": [
    {
     "data": {
      "text/html": [
       "&#957;<sub>0</sub>"
      ],
      "text/plain": [
       "Var(0)"
      ]
     },
     "execution_count": 178,
     "metadata": {},
     "output_type": "execute_result"
    }
   ],
   "source": [
    "#v0 = Var(0, IntSort())\n",
    "#v1 = Var(1, IntSort())\n",
    "x  = Real('x')\n",
    "#f  = Function('f', IntSort(), IntSort())\n",
    "f = Lambda([x], Lambda([x], x))\n",
    "# replace v0 with x+1 and v1 with x\n",
    "\n",
    "substitute_vars(f.body(), x + 1)\n"
   ]
  },
  {
   "cell_type": "code",
   "execution_count": null,
   "metadata": {},
   "outputs": [],
   "source": [
    "substitute\n",
    "m.eval # in a model\n"
   ]
  },
  {
   "cell_type": "code",
   "execution_count": 184,
   "metadata": {},
   "outputs": [
    {
     "data": {
      "text/plain": [
       "['__bool__',\n",
       " '__class__',\n",
       " '__copy__',\n",
       " '__deepcopy__',\n",
       " '__del__',\n",
       " '__delattr__',\n",
       " '__dict__',\n",
       " '__dir__',\n",
       " '__doc__',\n",
       " '__eq__',\n",
       " '__format__',\n",
       " '__ge__',\n",
       " '__getattribute__',\n",
       " '__gt__',\n",
       " '__hash__',\n",
       " '__init__',\n",
       " '__init_subclass__',\n",
       " '__le__',\n",
       " '__lt__',\n",
       " '__module__',\n",
       " '__ne__',\n",
       " '__new__',\n",
       " '__nonzero__',\n",
       " '__reduce__',\n",
       " '__reduce_ex__',\n",
       " '__repr__',\n",
       " '__setattr__',\n",
       " '__sizeof__',\n",
       " '__str__',\n",
       " '__subclasshook__',\n",
       " '__weakref__',\n",
       " '_repr_html_',\n",
       " 'accessor',\n",
       " 'as_ast',\n",
       " 'ast',\n",
       " 'car',\n",
       " 'cast',\n",
       " 'cdr',\n",
       " 'cons',\n",
       " 'constructor',\n",
       " 'ctx',\n",
       " 'ctx_ref',\n",
       " 'eq',\n",
       " 'get_id',\n",
       " 'hash',\n",
       " 'is_cons',\n",
       " 'is_nil',\n",
       " 'kind',\n",
       " 'name',\n",
       " 'nil',\n",
       " 'num_constructors',\n",
       " 'recognizer',\n",
       " 'sexpr',\n",
       " 'subsort',\n",
       " 'translate',\n",
       " 'use_pp']"
      ]
     },
     "execution_count": 184,
     "metadata": {},
     "output_type": "execute_result"
    }
   ],
   "source": [
    "dir(List)"
   ]
  },
  {
   "cell_type": "code",
   "execution_count": 201,
   "metadata": {},
   "outputs": [
    {
     "data": {
      "text/html": [
       "is(nil)"
      ],
      "text/plain": [
       "is(nil)"
      ]
     },
     "execution_count": 201,
     "metadata": {},
     "output_type": "execute_result"
    }
   ],
   "source": [
    "\n",
    "List.num_constructors()\n",
    "List.accessor(0,0)\n",
    "List.constructor(0)\n",
    "List.constructor(1)\n",
    "List.recognizer(0)\n",
    "List.recognizer(1)\n"
   ]
  },
  {
   "cell_type": "code",
   "execution_count": null,
   "metadata": {},
   "outputs": [],
   "source": [
    "[List.constructor(i) for i in range(d.num_constructors())\n",
    " # look for recusrive calls. Mutually recursive calls? Eeeh."
   ]
  },
  {
   "cell_type": "code",
   "execution_count": 180,
   "metadata": {},
   "outputs": [
    {
     "data": {
      "text/plain": [
       "True"
      ]
     },
     "execution_count": 180,
     "metadata": {},
     "output_type": "execute_result"
    }
   ],
   "source": [
    "f = ForAll([x], x == 7)\n",
    "f.is_forall()\n",
    "def intros(f):\n",
    "    if is_quantifier(f):\n",
    "        if f.forall():            \n",
    "            n = f.num_vars()\n",
    "            da_vars = [Const(f.var_name(), f.var_sort(i)) for i in range(n)]\n",
    "            substitute_vars(f.body(), *da_vars)\n"
   ]
  },
  {
   "cell_type": "code",
   "execution_count": 202,
   "metadata": {},
   "outputs": [],
   "source": [
    "def Impland(hyps, res):\n",
    "    return Implies(And(*hyps), res)"
   ]
  },
  {
   "cell_type": "code",
   "execution_count": 203,
   "metadata": {},
   "outputs": [
    {
     "name": "stdout",
     "output_type": "stream",
     "text": [
      "proved\n"
     ]
    }
   ],
   "source": [
    "prove(Impland([x >= 3, x <= 4], x <= 10))"
   ]
  },
  {
   "cell_type": "code",
   "execution_count": null,
   "metadata": {},
   "outputs": [],
   "source": [
    "def match(x, *args):\n",
    "    sort = x.sort()\n",
    "    "
   ]
  },
  {
   "cell_type": "code",
   "execution_count": null,
   "metadata": {},
   "outputs": [],
   "source": [
    "def ind_schema(p):\n",
    "    n = FreshInt()\n",
    "    Implies(And(p(0), Forall([n], Implies(p(n), p(n+1)) ), Forall([n]) p(n)) #Plus positivty of n\n",
    "def ind_list(p):\n",
    "    n = Fresh(List)\n",
    "    Implies(And(p(List.nil), Forall([n], Implies(p(n), p(n+1))), Forall([n]) p(n)) #Plus positivty of n"
   ]
  },
  {
   "cell_type": "markdown",
   "metadata": {},
   "source": [
    "https://arxiv.org/pdf/1905.05970.pdf - holpy"
   ]
  }
 ],
 "metadata": {
  "@webio": {
   "lastCommId": null,
   "lastKernelId": null
  },
  "kernelspec": {
   "display_name": "Python 3",
   "language": "python",
   "name": "python3"
  },
  "language_info": {
   "codemirror_mode": {
    "name": "ipython",
    "version": 3
   },
   "file_extension": ".py",
   "mimetype": "text/x-python",
   "name": "python",
   "nbconvert_exporter": "python",
   "pygments_lexer": "ipython3",
   "version": "3.7.0"
  }
 },
 "nbformat": 4,
 "nbformat_minor": 2
}
