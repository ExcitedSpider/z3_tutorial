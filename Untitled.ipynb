{
 "cells": [
  {
   "cell_type": "markdown",
   "metadata": {},
   "source": [
    "Z3 was open sourced in the beginning of 2015.[7] The source code is licensed under MIT License and hosted on GitHub.[8] \n",
    "When you write a program, you are specifying fairly exactly what you want. There are often imprecise and undocumented reasons and notions for why the code is the way it is.\n",
    "Industrial usage - driver verificaitn for Microsoft\n",
    "more in the introduction. what is smt?\n",
    "unique z3 problem, not capable in other solvers\n",
    "\n",
    "Z3 is a high performance theorem prover developed at Microsoft Research.\n",
    "Z3 is used in many applications such as: software/hardware verification and testing, constraint solving, analysis of hybrid systems, security, biology (in silico analysis), and geometrical problems.\n",
    "\n",
    "There may be a very simple statement of what you desire a program to do. \"sort a list\" \"balance a tree\" \"never explode\" and then through a sequence of reasoning and expansion steps you write a program that achieves these goals. Along the way there are many assumptions like \"this counter never goes below 0\" \"this pointer is never null\" \"The 64 bit data at this memory location should be intepreted as a float\"\n",
    "Many languages do not support intrinsically a way to check or even state these properties.\n",
    "\n",
    "Comments of course help some. But comments rot and the computer system will not tell you. Comments are not automatically enforced to correspond to the code they refer to.\n",
    "\n",
    "Types are a fairly ubiquitous form of formal methods. There is a spectrum of sophistication of type systems. You'll see something at the far end of the spectrum this afternoon with Cody.\n",
    "Types do enforce the intent that bits should be interpeted as floats or integers or pointers. Programs will fail to compile if you accidentlally do something that makes absolutely no sense.\n",
    "\n",
    "However, there is a wide variety of analysis beyond type systems, all of which fall under formal methods.\n",
    "\n",
    "The field of Formal methods are very broadly methods for \n",
    "\n",
    "What are formal methods for? What are they?\n",
    "\n",
    "## Path Finding Example\n",
    "\n",
    "Unroll path in time. Peg Game?"
   ]
  },
  {
   "cell_type": "code",
   "execution_count": null,
   "metadata": {},
   "outputs": [],
   "source": []
  }
 ],
 "metadata": {
  "kernelspec": {
   "display_name": "Python 3",
   "language": "python",
   "name": "python3"
  },
  "language_info": {
   "codemirror_mode": {
    "name": "ipython",
    "version": 3
   },
   "file_extension": ".py",
   "mimetype": "text/x-python",
   "name": "python",
   "nbconvert_exporter": "python",
   "pygments_lexer": "ipython3",
   "version": "3.7.5"
  }
 },
 "nbformat": 4,
 "nbformat_minor": 2
}
